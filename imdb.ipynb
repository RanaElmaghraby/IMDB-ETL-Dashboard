{
 "cells": [
  {
   "cell_type": "markdown",
   "id": "8f048b53",
   "metadata": {},
   "source": [
    "**Rana Elmaghraby**\n",
    "\n",
    "## Project Summary\n",
    "\n",
    "- This project involved a comprehensive analysis of film and celebrity data from two sources:\n",
    "- Web scraping from IMDb.\n",
    "- Kaggle dataset\n",
    "- The initial data was cleaned and pre-processed to correct data types and handle missing values, which were then loaded into a database for further analysis.\n"
   ]
  },
  {
   "cell_type": "code",
   "execution_count": 1,
   "id": "6d1a446a",
   "metadata": {},
   "outputs": [],
   "source": [
    "import selenium\n",
    "import pandas as pd"
   ]
  },
  {
   "cell_type": "code",
   "execution_count": 2,
   "id": "4801f89e",
   "metadata": {},
   "outputs": [],
   "source": [
    "from selenium import webdriver"
   ]
  },
  {
   "cell_type": "code",
   "execution_count": null,
   "id": "a09ee25b",
   "metadata": {},
   "outputs": [],
   "source": [
    "driver = webdriver.Chrome()"
   ]
  },
  {
   "cell_type": "code",
   "execution_count": null,
   "id": "318b9755",
   "metadata": {},
   "outputs": [],
   "source": [
    "driver.get(\"https://www.imdb.com/chart/starmeter/?ref_=hm_mpc_sm\")"
   ]
  },
  {
   "cell_type": "markdown",
   "id": "498f1cfd",
   "metadata": {},
   "source": [
    "Writer , Actor , Producer (Most popular celeb)\n"
   ]
  },
  {
   "cell_type": "code",
   "execution_count": null,
   "id": "6b0acd77",
   "metadata": {},
   "outputs": [
    {
     "data": {
      "application/vnd.microsoft.datawrangler.viewer.v0+json": {
       "columns": [
        {
         "name": "index",
         "rawType": "int64",
         "type": "integer"
        }
       ],
       "ref": "672bcf78-6392-4da8-9de1-84957a4931bb",
       "rows": [],
       "shape": {
        "columns": 0,
        "rows": 0
       }
      },
      "text/html": [
       "<div>\n",
       "<style scoped>\n",
       "    .dataframe tbody tr th:only-of-type {\n",
       "        vertical-align: middle;\n",
       "    }\n",
       "\n",
       "    .dataframe tbody tr th {\n",
       "        vertical-align: top;\n",
       "    }\n",
       "\n",
       "    .dataframe thead th {\n",
       "        text-align: right;\n",
       "    }\n",
       "</style>\n",
       "<table border=\"1\" class=\"dataframe\">\n",
       "  <thead>\n",
       "    <tr style=\"text-align: right;\">\n",
       "      <th></th>\n",
       "    </tr>\n",
       "  </thead>\n",
       "  <tbody>\n",
       "  </tbody>\n",
       "</table>\n",
       "</div>"
      ],
      "text/plain": [
       "Empty DataFrame\n",
       "Columns: []\n",
       "Index: []"
      ]
     },
     "execution_count": 92,
     "metadata": {},
     "output_type": "execute_result"
    }
   ],
   "source": [
    "df_celeb = pd.DataFrame()\n",
    "df_celeb"
   ]
  },
  {
   "cell_type": "code",
   "execution_count": null,
   "id": "e9f3deee",
   "metadata": {},
   "outputs": [],
   "source": [
    "most_popular_celeb_names = driver.find_elements(\"xpath\",'//div[@class=\"ipc-title ipc-title--base ipc-title--title ipc-title--title--reduced ipc-title-link-no-icon ipc-title--on-textPrimary sc-d004fd45-2 eVcxaK\"]/a/h3')"
   ]
  },
  {
   "cell_type": "code",
   "execution_count": null,
   "id": "7e4fd4f5",
   "metadata": {},
   "outputs": [],
   "source": [
    "most_popular_celeb_names_list = [element.text for element in most_popular_celeb_names]"
   ]
  },
  {
   "cell_type": "code",
   "execution_count": null,
   "id": "fd35bcdc",
   "metadata": {},
   "outputs": [
    {
     "data": {
      "application/vnd.microsoft.datawrangler.viewer.v0+json": {
       "columns": [
        {
         "name": "index",
         "rawType": "int64",
         "type": "integer"
        },
        {
         "name": "Names_Popular_Celebs",
         "rawType": "object",
         "type": "string"
        }
       ],
       "ref": "8911ed3a-76c8-4d74-8262-9505280af938",
       "rows": [
        [
         "0",
         "Graham Greene"
        ],
        [
         "1",
         "Owen Painter"
        ],
        [
         "2",
         "Emma Myers"
        ],
        [
         "3",
         "Jenna Ortega"
        ],
        [
         "4",
         "Evie Templeton"
        ],
        [
         "5",
         "Richa Moorjani"
        ],
        [
         "6",
         "Celia Imrie"
        ],
        [
         "7",
         "Sydney Chandler"
        ],
        [
         "8",
         "Helen Mirren"
        ],
        [
         "9",
         "Pierce Brosnan"
        ],
        [
         "10",
         "Lewis Pullman"
        ],
        [
         "11",
         "Tom Hopper"
        ],
        [
         "12",
         "Taylor Kitsch"
        ],
        [
         "13",
         "Tom Ellis"
        ],
        [
         "14",
         "Frances O'Connor"
        ],
        [
         "15",
         "Joanna Lumley"
        ],
        [
         "16",
         "Jacob Elordi"
        ],
        [
         "17",
         "Jonathan Pryce"
        ],
        [
         "18",
         "Denzel Washington"
        ],
        [
         "19",
         "Domhnall Gleeson"
        ],
        [
         "20",
         "Noah LaLonde"
        ],
        [
         "21",
         "Henry Lloyd-Hughes"
        ],
        [
         "22",
         "Billie Piper"
        ],
        [
         "23",
         "Naomi Ackie"
        ],
        [
         "24",
         "Dwayne Johnson"
        ],
        [
         "25",
         "Ben Kingsley"
        ],
        [
         "26",
         "Florence Pugh"
        ],
        [
         "27",
         "Gwendoline Christie"
        ],
        [
         "28",
         "Sydney Sweeney"
        ],
        [
         "29",
         "Brad Pitt"
        ],
        [
         "30",
         "Heather Matarazzo"
        ],
        [
         "31",
         "Tom Cruise"
        ],
        [
         "32",
         "Keanu Reeves"
        ],
        [
         "33",
         "David Tennant"
        ],
        [
         "34",
         "Austin Butler"
        ],
        [
         "35",
         "Chelsea Frei"
        ],
        [
         "36",
         "Emerald Fennell"
        ],
        [
         "37",
         "Catherine Zeta-Jones"
        ],
        [
         "38",
         "Leonardo DiCaprio"
        ],
        [
         "39",
         "Margot Robbie"
        ],
        [
         "40",
         "Ashby Gentry"
        ],
        [
         "41",
         "Nikki Rodriguez"
        ],
        [
         "42",
         "Darren Aronofsky"
        ],
        [
         "43",
         "Sabrina Impacciatore"
        ],
        [
         "44",
         "Liam Neeson"
        ],
        [
         "45",
         "Chloë Grace Moretz"
        ],
        [
         "46",
         "Michael C. Hall"
        ],
        [
         "47",
         "Daniel Mays"
        ],
        [
         "48",
         "Jennifer Holland"
        ],
        [
         "49",
         "Christopher Lloyd"
        ]
       ],
       "shape": {
        "columns": 1,
        "rows": 75
       }
      },
      "text/html": [
       "<div>\n",
       "<style scoped>\n",
       "    .dataframe tbody tr th:only-of-type {\n",
       "        vertical-align: middle;\n",
       "    }\n",
       "\n",
       "    .dataframe tbody tr th {\n",
       "        vertical-align: top;\n",
       "    }\n",
       "\n",
       "    .dataframe thead th {\n",
       "        text-align: right;\n",
       "    }\n",
       "</style>\n",
       "<table border=\"1\" class=\"dataframe\">\n",
       "  <thead>\n",
       "    <tr style=\"text-align: right;\">\n",
       "      <th></th>\n",
       "      <th>Names_Popular_Celebs</th>\n",
       "    </tr>\n",
       "  </thead>\n",
       "  <tbody>\n",
       "    <tr>\n",
       "      <th>0</th>\n",
       "      <td>Graham Greene</td>\n",
       "    </tr>\n",
       "    <tr>\n",
       "      <th>1</th>\n",
       "      <td>Owen Painter</td>\n",
       "    </tr>\n",
       "    <tr>\n",
       "      <th>2</th>\n",
       "      <td>Emma Myers</td>\n",
       "    </tr>\n",
       "    <tr>\n",
       "      <th>3</th>\n",
       "      <td>Jenna Ortega</td>\n",
       "    </tr>\n",
       "    <tr>\n",
       "      <th>4</th>\n",
       "      <td>Evie Templeton</td>\n",
       "    </tr>\n",
       "    <tr>\n",
       "      <th>...</th>\n",
       "      <td>...</td>\n",
       "    </tr>\n",
       "    <tr>\n",
       "      <th>70</th>\n",
       "      <td>Bruce Willis</td>\n",
       "    </tr>\n",
       "    <tr>\n",
       "      <th>71</th>\n",
       "      <td>Christina Ricci</td>\n",
       "    </tr>\n",
       "    <tr>\n",
       "      <th>72</th>\n",
       "      <td>Christopher Nolan</td>\n",
       "    </tr>\n",
       "    <tr>\n",
       "      <th>73</th>\n",
       "      <td>Adam Sandler</td>\n",
       "    </tr>\n",
       "    <tr>\n",
       "      <th>74</th>\n",
       "      <td>Zendaya</td>\n",
       "    </tr>\n",
       "  </tbody>\n",
       "</table>\n",
       "<p>75 rows × 1 columns</p>\n",
       "</div>"
      ],
      "text/plain": [
       "   Names_Popular_Celebs\n",
       "0         Graham Greene\n",
       "1          Owen Painter\n",
       "2            Emma Myers\n",
       "3          Jenna Ortega\n",
       "4        Evie Templeton\n",
       "..                  ...\n",
       "70         Bruce Willis\n",
       "71      Christina Ricci\n",
       "72    Christopher Nolan\n",
       "73         Adam Sandler\n",
       "74              Zendaya\n",
       "\n",
       "[75 rows x 1 columns]"
      ]
     },
     "execution_count": 95,
     "metadata": {},
     "output_type": "execute_result"
    }
   ],
   "source": [
    "df_celeb[\"Names_Popular_Celebs\"] = most_popular_celeb_names_list\n",
    "df_celeb"
   ]
  },
  {
   "cell_type": "code",
   "execution_count": null,
   "id": "2b63ea31",
   "metadata": {},
   "outputs": [],
   "source": [
    "most_popular_celeb_change = driver.find_elements(\"xpath\",'//span[@class=\"sc-15fa49cd-0 hgcggx\"]')"
   ]
  },
  {
   "cell_type": "code",
   "execution_count": null,
   "id": "e740d398",
   "metadata": {},
   "outputs": [],
   "source": [
    "most_popular_celeb_change_list = [element.text for element in most_popular_celeb_change]"
   ]
  },
  {
   "cell_type": "code",
   "execution_count": null,
   "id": "ef3f4b65",
   "metadata": {},
   "outputs": [],
   "source": [
    "df_celeb[\"ChangesInRank\"] = most_popular_celeb_change_list\n",
    "df_celeb"
   ]
  },
  {
   "cell_type": "code",
   "execution_count": null,
   "id": "48692d79",
   "metadata": {},
   "outputs": [],
   "source": [
    "df_celeb[\"Rank\"] = list(range(1, 101))"
   ]
  },
  {
   "cell_type": "code",
   "execution_count": null,
   "id": "f5bb52b7",
   "metadata": {},
   "outputs": [],
   "source": [
    "most_popular_celeb_change = driver.find_elements(\"xpath\",'//span[@class=\"sc-15fa49cd-0 hgcggx\"]')"
   ]
  },
  {
   "cell_type": "code",
   "execution_count": null,
   "id": "81eb479c",
   "metadata": {},
   "outputs": [],
   "source": [
    "most_popular_celeb_change_list = [element.text for element in most_popular_celeb_change]"
   ]
  },
  {
   "cell_type": "code",
   "execution_count": null,
   "id": "bed2a851",
   "metadata": {},
   "outputs": [],
   "source": [
    "df_celeb[\"ChangesInRank\"] = most_popular_celeb_change_list\n",
    "df_celeb"
   ]
  },
  {
   "cell_type": "code",
   "execution_count": null,
   "id": "fe1627ee",
   "metadata": {},
   "outputs": [],
   "source": [
    "most_popular_celeb_role = driver.find_elements(\"xpath\",'//li[@class=\"ipc-inline-list__item sc-d004fd45-5 ktsYFE\"]')"
   ]
  },
  {
   "cell_type": "code",
   "execution_count": null,
   "id": "f7c1dfbd",
   "metadata": {},
   "outputs": [],
   "source": [
    "most_popular_celeb_role_list = [element.text for element in most_popular_celeb_role]"
   ]
  },
  {
   "cell_type": "code",
   "execution_count": null,
   "id": "42ef3622",
   "metadata": {},
   "outputs": [],
   "source": [
    "all_cards = driver.find_elements(\"xpath\",'//div[@class=\"sc-d004fd45-0 gpTcg\"]')"
   ]
  },
  {
   "cell_type": "code",
   "execution_count": null,
   "id": "aaa50e0a",
   "metadata": {},
   "outputs": [],
   "source": [
    "roles =[]\n",
    "for role in all_cards:\n",
    "    try:\n",
    "        role_elems = role.find_elements(\"xpath\", './/li[@class=\"ipc-inline-list__item sc-d004fd45-5 ktsYFE\"]')\n",
    "        r_role = \",\".join([r.text for r in role_elems ])\n",
    "    except:\n",
    "        r_role = None\n",
    "        \n",
    "    roles.append(r_role)\n",
    "\n",
    "df_celeb[\"Role\"] = roles "
   ]
  },
  {
   "cell_type": "code",
   "execution_count": null,
   "id": "b31ea8b0",
   "metadata": {},
   "outputs": [
    {
     "data": {
      "application/vnd.microsoft.datawrangler.viewer.v0+json": {
       "columns": [
        {
         "name": "index",
         "rawType": "int64",
         "type": "integer"
        },
        {
         "name": "Names_Popular_Celebs",
         "rawType": "object",
         "type": "string"
        },
        {
         "name": "ChangesInRank",
         "rawType": "object",
         "type": "string"
        },
        {
         "name": "Role",
         "rawType": "object",
         "type": "string"
        }
       ],
       "ref": "fd57356d-4cb9-45d2-975f-8c235f732dcd",
       "rows": [
        [
         "0",
         "Graham Greene",
         "3,080",
         "Actor,Writer,Producer"
        ],
        [
         "1",
         "Owen Painter",
         "1,479",
         "Actor"
        ],
        [
         "2",
         "Emma Myers",
         "1",
         "Actress"
        ],
        [
         "3",
         "Jenna Ortega",
         "4",
         "Actress,Producer,Soundtrack"
        ],
        [
         "4",
         "Evie Templeton",
         "104",
         "Actor"
        ],
        [
         "5",
         "Richa Moorjani",
         "281",
         "Actress,Producer"
        ],
        [
         "6",
         "Celia Imrie",
         "5",
         "Actress,Soundtrack"
        ],
        [
         "7",
         "Sydney Chandler",
         "7",
         "Actress,Writer,Soundtrack"
        ],
        [
         "8",
         "Helen Mirren",
         "6",
         "Actress,Producer,Director"
        ],
        [
         "9",
         "Pierce Brosnan",
         "5",
         "Actor,Producer,Executive"
        ],
        [
         "10",
         "Lewis Pullman",
         "1",
         "Actor,Producer,Soundtrack"
        ],
        [
         "11",
         "Tom Hopper",
         "1",
         "Actor,Producer,Executive"
        ],
        [
         "12",
         "Taylor Kitsch",
         "1",
         "Actor,Producer,Director"
        ],
        [
         "13",
         "Tom Ellis",
         "8",
         "Actor,Producer,Soundtrack"
        ],
        [
         "14",
         "Frances O'Connor",
         "1,477",
         "Actress,Director,Writer"
        ],
        [
         "15",
         "Joanna Lumley",
         "88",
         "Actress,Producer,Director"
        ],
        [
         "16",
         "Jacob Elordi",
         "241",
         "Actor,Producer,Writer"
        ],
        [
         "17",
         "Jonathan Pryce",
         "4",
         "Actor,Producer,Soundtrack"
        ],
        [
         "18",
         "Denzel Washington",
         "27",
         "Actor,Producer,Director"
        ],
        [
         "19",
         "Domhnall Gleeson",
         "311",
         "Actor,Writer,Producer"
        ],
        [
         "20",
         "Noah LaLonde",
         "43",
         "Actor,Producer"
        ],
        [
         "21",
         "Henry Lloyd-Hughes",
         "15",
         "Actor,Writer,Producer"
        ],
        [
         "22",
         "Billie Piper",
         "80",
         "Actress,Producer,Writer"
        ],
        [
         "23",
         "Naomi Ackie",
         "9",
         "Actress,Producer,Soundtrack"
        ],
        [
         "24",
         "Dwayne Johnson",
         "109",
         "Actor,Producer,Writer"
        ],
        [
         "25",
         "Ben Kingsley",
         "6",
         "Actor,Producer,Additional Crew"
        ],
        [
         "26",
         "Florence Pugh",
         "5",
         "Actress,Producer,Soundtrack"
        ],
        [
         "27",
         "Gwendoline Christie",
         "235",
         "Actress,Casting Department,Producer"
        ],
        [
         "28",
         "Sydney Sweeney",
         "6",
         "Actress,Producer"
        ],
        [
         "29",
         "Brad Pitt",
         "14",
         "Producer,Actor,Executive"
        ],
        [
         "30",
         "Heather Matarazzo",
         "168",
         "Actress,Producer,Director"
        ],
        [
         "31",
         "Tom Cruise",
         "14",
         "Actor,Producer,Director"
        ],
        [
         "32",
         "Keanu Reeves",
         "47",
         "Actor,Producer,Additional Crew"
        ],
        [
         "33",
         "David Tennant",
         "3",
         "Actor,Producer,Director"
        ],
        [
         "34",
         "Austin Butler",
         "14",
         "Actor,Producer,Soundtrack"
        ],
        [
         "35",
         "Chelsea Frei",
         "2,173",
         "Actress,Writer,Producer"
        ],
        [
         "36",
         "Emerald Fennell",
         "3,345",
         "Writer,Director,Producer"
        ],
        [
         "37",
         "Catherine Zeta-Jones",
         "57",
         "Actress,Producer,Soundtrack"
        ],
        [
         "38",
         "Leonardo DiCaprio",
         "3",
         "Producer,Actor,Writer"
        ],
        [
         "39",
         "Margot Robbie",
         "103",
         "Actress,Producer,Executive"
        ],
        [
         "40",
         "Ashby Gentry",
         "67",
         "Actor"
        ],
        [
         "41",
         "Nikki Rodriguez",
         "152",
         "Actress,Producer"
        ],
        [
         "42",
         "Darren Aronofsky",
         "11",
         "Producer,Writer,Director"
        ],
        [
         "43",
         "Sabrina Impacciatore",
         "1,592",
         "Actress,Writer,Additional Crew"
        ],
        [
         "44",
         "Liam Neeson",
         "80",
         "Actor,Producer,Soundtrack"
        ],
        [
         "45",
         "Chloë Grace Moretz",
         "378",
         "Actress,Producer,Soundtrack"
        ],
        [
         "46",
         "Michael C. Hall",
         "25",
         "Actor,Producer,Director"
        ],
        [
         "47",
         "Daniel Mays",
         "11",
         "Actor,Soundtrack"
        ],
        [
         "48",
         "Jennifer Holland",
         "14",
         "Actress"
        ],
        [
         "49",
         "Christopher Lloyd",
         "78",
         "Actor,Producer,Soundtrack"
        ]
       ],
       "shape": {
        "columns": 3,
        "rows": 100
       }
      },
      "text/html": [
       "<div>\n",
       "<style scoped>\n",
       "    .dataframe tbody tr th:only-of-type {\n",
       "        vertical-align: middle;\n",
       "    }\n",
       "\n",
       "    .dataframe tbody tr th {\n",
       "        vertical-align: top;\n",
       "    }\n",
       "\n",
       "    .dataframe thead th {\n",
       "        text-align: right;\n",
       "    }\n",
       "</style>\n",
       "<table border=\"1\" class=\"dataframe\">\n",
       "  <thead>\n",
       "    <tr style=\"text-align: right;\">\n",
       "      <th></th>\n",
       "      <th>Names_Popular_Celebs</th>\n",
       "      <th>ChangesInRank</th>\n",
       "      <th>Role</th>\n",
       "    </tr>\n",
       "  </thead>\n",
       "  <tbody>\n",
       "    <tr>\n",
       "      <th>0</th>\n",
       "      <td>Graham Greene</td>\n",
       "      <td>3,080</td>\n",
       "      <td>Actor,Writer,Producer</td>\n",
       "    </tr>\n",
       "    <tr>\n",
       "      <th>1</th>\n",
       "      <td>Owen Painter</td>\n",
       "      <td>1,479</td>\n",
       "      <td>Actor</td>\n",
       "    </tr>\n",
       "    <tr>\n",
       "      <th>2</th>\n",
       "      <td>Emma Myers</td>\n",
       "      <td>1</td>\n",
       "      <td>Actress</td>\n",
       "    </tr>\n",
       "    <tr>\n",
       "      <th>3</th>\n",
       "      <td>Jenna Ortega</td>\n",
       "      <td>4</td>\n",
       "      <td>Actress,Producer,Soundtrack</td>\n",
       "    </tr>\n",
       "    <tr>\n",
       "      <th>4</th>\n",
       "      <td>Evie Templeton</td>\n",
       "      <td>104</td>\n",
       "      <td>Actor</td>\n",
       "    </tr>\n",
       "    <tr>\n",
       "      <th>...</th>\n",
       "      <td>...</td>\n",
       "      <td>...</td>\n",
       "      <td>...</td>\n",
       "    </tr>\n",
       "    <tr>\n",
       "      <th>95</th>\n",
       "      <td>Joy Sunday</td>\n",
       "      <td>321</td>\n",
       "      <td>Actress,Producer,Director</td>\n",
       "    </tr>\n",
       "    <tr>\n",
       "      <th>96</th>\n",
       "      <td>Julie Delpy</td>\n",
       "      <td>86</td>\n",
       "      <td>Actress,Writer,Producer</td>\n",
       "    </tr>\n",
       "    <tr>\n",
       "      <th>97</th>\n",
       "      <td>Idris Elba</td>\n",
       "      <td>185</td>\n",
       "      <td>Actor,Producer,Writer</td>\n",
       "    </tr>\n",
       "    <tr>\n",
       "      <th>98</th>\n",
       "      <td>Matthew Goode</td>\n",
       "      <td>17</td>\n",
       "      <td>Actor</td>\n",
       "    </tr>\n",
       "    <tr>\n",
       "      <th>99</th>\n",
       "      <td>Freya Allan</td>\n",
       "      <td>1,428</td>\n",
       "      <td>Actress,Additional Crew</td>\n",
       "    </tr>\n",
       "  </tbody>\n",
       "</table>\n",
       "<p>100 rows × 3 columns</p>\n",
       "</div>"
      ],
      "text/plain": [
       "   Names_Popular_Celebs ChangesInRank                         Role\n",
       "0         Graham Greene         3,080        Actor,Writer,Producer\n",
       "1          Owen Painter         1,479                        Actor\n",
       "2            Emma Myers             1                      Actress\n",
       "3          Jenna Ortega             4  Actress,Producer,Soundtrack\n",
       "4        Evie Templeton           104                        Actor\n",
       "..                  ...           ...                          ...\n",
       "95           Joy Sunday           321    Actress,Producer,Director\n",
       "96          Julie Delpy            86      Actress,Writer,Producer\n",
       "97           Idris Elba           185        Actor,Producer,Writer\n",
       "98        Matthew Goode            17                        Actor\n",
       "99          Freya Allan         1,428      Actress,Additional Crew\n",
       "\n",
       "[100 rows x 3 columns]"
      ]
     },
     "execution_count": 43,
     "metadata": {},
     "output_type": "execute_result"
    }
   ],
   "source": [
    "df_celeb"
   ]
  },
  {
   "cell_type": "code",
   "execution_count": null,
   "id": "d40fae45",
   "metadata": {},
   "outputs": [],
   "source": [
    "most_popular_celeb_knownfor = driver.find_elements(\"xpath\",'//a[@class=\"ipc-link ipc-link--base sc-da66c4d2-0 dJdaCn\"]')"
   ]
  },
  {
   "cell_type": "code",
   "execution_count": null,
   "id": "ee821af6",
   "metadata": {},
   "outputs": [],
   "source": [
    "most_popular_celeb_knownfor_list = [element.text for element in most_popular_celeb_knownfor]"
   ]
  },
  {
   "cell_type": "code",
   "execution_count": null,
   "id": "e3f887b6",
   "metadata": {},
   "outputs": [],
   "source": [
    "title = []\n",
    "year = []\n",
    "\n",
    "for text in most_popular_celeb_knownfor_list:\n",
    "    if \"(\" in text:  \n",
    "        title_knownfor = text.split(\"(\")[0].strip()\n",
    "        year_knownfor  = text.split(\"(\")[1].replace(\")\", \"\").strip()\n",
    "    else:           \n",
    "        title_knownfor = text.strip()\n",
    "        year_knownfor  = None\n",
    "\n",
    "    title.append(title_knownfor)\n",
    "    year.append(year_knownfor)\n",
    "\n",
    "\n",
    "df_celeb[\"KnownFor\"] = title\n",
    "df_celeb[\"Year_of_MostPopularRole\"] = year"
   ]
  },
  {
   "cell_type": "code",
   "execution_count": null,
   "id": "1018dd9d",
   "metadata": {},
   "outputs": [
    {
     "data": {
      "application/vnd.microsoft.datawrangler.viewer.v0+json": {
       "columns": [
        {
         "name": "index",
         "rawType": "int64",
         "type": "integer"
        },
        {
         "name": "Names_Popular_Celebs",
         "rawType": "object",
         "type": "string"
        },
        {
         "name": "ChangesInRank",
         "rawType": "object",
         "type": "string"
        },
        {
         "name": "Role",
         "rawType": "object",
         "type": "string"
        },
        {
         "name": "KnownFor",
         "rawType": "object",
         "type": "string"
        },
        {
         "name": "Year_of_MostPopularRole",
         "rawType": "object",
         "type": "unknown"
        }
       ],
       "ref": "58007e10-f162-4b03-92b0-d5a55cd69d7f",
       "rows": [
        [
         "0",
         "Graham Greene",
         "3,080",
         "Actor,Writer,Producer",
         "The Green Mile",
         "1999"
        ],
        [
         "1",
         "Owen Painter",
         "1,479",
         "Actor",
         "The Handmaid's Tale",
         "2022–"
        ],
        [
         "2",
         "Emma Myers",
         "1",
         "Actress",
         "Wednesday",
         "2022–2026"
        ],
        [
         "3",
         "Jenna Ortega",
         "4",
         "Actress,Producer,Soundtrack",
         "Wednesday",
         "2022–2026"
        ],
        [
         "4",
         "Evie Templeton",
         "104",
         "Actor",
         "Pinocchio",
         "2022"
        ],
        [
         "5",
         "Richa Moorjani",
         "281",
         "Actress,Producer",
         "Never Have I Ever",
         "2020–2023"
        ],
        [
         "6",
         "Celia Imrie",
         "5",
         "Actress,Soundtrack",
         "The Best Exotic Marigold Hotel",
         "2011"
        ],
        [
         "7",
         "Sydney Chandler",
         "7",
         "Actress,Writer,Soundtrack",
         "Don't Worry Darling",
         "2022"
        ],
        [
         "8",
         "Helen Mirren",
         "6",
         "Actress,Producer,Director",
         "The Queen",
         "2006"
        ],
        [
         "9",
         "Pierce Brosnan",
         "5",
         "Actor,Producer,Executive",
         "The World Is Not Enough",
         "1999"
        ],
        [
         "10",
         "Lewis Pullman",
         "1",
         "Actor,Producer,Soundtrack",
         "Outer Range",
         "2022–2024"
        ],
        [
         "11",
         "Tom Hopper",
         "1",
         "Actor,Producer,Executive",
         "Black Sails",
         "2014–2017"
        ],
        [
         "12",
         "Taylor Kitsch",
         "1",
         "Actor,Producer,Director",
         "X-Men Origins: Wolverine",
         "2009"
        ],
        [
         "13",
         "Tom Ellis",
         "8",
         "Actor,Producer,Soundtrack",
         "Lucifer",
         "2016–2021"
        ],
        [
         "14",
         "Frances O'Connor",
         "1,477",
         "Actress,Director,Writer",
         "Emily",
         "2022"
        ],
        [
         "15",
         "Joanna Lumley",
         "88",
         "Actress,Producer,Director",
         "Absolutely Fabulous",
         "1992–2012"
        ],
        [
         "16",
         "Jacob Elordi",
         "241",
         "Actor,Producer,Writer",
         "The Kissing Booth",
         "2018"
        ],
        [
         "17",
         "Jonathan Pryce",
         "4",
         "Actor,Producer,Soundtrack",
         "The Two Popes",
         "2019"
        ],
        [
         "18",
         "Denzel Washington",
         "27",
         "Actor,Producer,Director",
         "Fences",
         "2016"
        ],
        [
         "19",
         "Domhnall Gleeson",
         "311",
         "Actor,Writer,Producer",
         "Frank",
         "2014"
        ],
        [
         "20",
         "Noah LaLonde",
         "43",
         "Actor,Producer",
         "My Life with the Walter Boys",
         "2023–2025"
        ],
        [
         "21",
         "Henry Lloyd-Hughes",
         "15",
         "Actor,Writer,Producer",
         "The Thursday Murder Club",
         "2025"
        ],
        [
         "22",
         "Billie Piper",
         "80",
         "Actress,Producer,Writer",
         "Secret Diary of a Call Girl",
         "2007–2011"
        ],
        [
         "23",
         "Naomi Ackie",
         "9",
         "Actress,Producer,Soundtrack",
         "Blink Twice",
         "2024"
        ],
        [
         "24",
         "Dwayne Johnson",
         "109",
         "Actor,Producer,Writer",
         "Black Adam",
         "2022"
        ],
        [
         "25",
         "Ben Kingsley",
         "6",
         "Actor,Producer,Additional Crew",
         "Sexy Beast",
         "2000"
        ],
        [
         "26",
         "Florence Pugh",
         "5",
         "Actress,Producer,Soundtrack",
         "The Falling",
         "2014"
        ],
        [
         "27",
         "Gwendoline Christie",
         "235",
         "Actress,Casting Department,Producer",
         "Star Wars: Episode VIII - The Last Jedi",
         "2017"
        ],
        [
         "28",
         "Sydney Sweeney",
         "6",
         "Actress,Producer",
         "Euphoria",
         "2019–2026"
        ],
        [
         "29",
         "Brad Pitt",
         "14",
         "Producer,Actor,Executive",
         "Fight Club",
         "1999"
        ],
        [
         "30",
         "Heather Matarazzo",
         "168",
         "Actress,Producer,Director",
         "Welcome to the Dollhouse",
         "1995"
        ],
        [
         "31",
         "Tom Cruise",
         "14",
         "Actor,Producer,Director",
         "Top Gun",
         "1986"
        ],
        [
         "32",
         "Keanu Reeves",
         "47",
         "Actor,Producer,Additional Crew",
         "The Matrix",
         "1999"
        ],
        [
         "33",
         "David Tennant",
         "3",
         "Actor,Producer,Director",
         "Doctor Who",
         "2005–2022"
        ],
        [
         "34",
         "Austin Butler",
         "14",
         "Actor,Producer,Soundtrack",
         "Elvis",
         "2022"
        ],
        [
         "35",
         "Chelsea Frei",
         "2,173",
         "Actress,Writer,Producer",
         "The Moodys",
         "2019–2021"
        ],
        [
         "36",
         "Emerald Fennell",
         "3,345",
         "Writer,Director,Producer",
         "Wuthering Heights",
         "2026"
        ],
        [
         "37",
         "Catherine Zeta-Jones",
         "57",
         "Actress,Producer,Soundtrack",
         "Chicago",
         "2002"
        ],
        [
         "38",
         "Leonardo DiCaprio",
         "3",
         "Producer,Actor,Writer",
         "Inception",
         "2010"
        ],
        [
         "39",
         "Margot Robbie",
         "103",
         "Actress,Producer,Executive",
         "Suicide Squad",
         "2016"
        ],
        [
         "40",
         "Ashby Gentry",
         "67",
         "Actor",
         "Are You Afraid of the Dark?",
         "2022–"
        ],
        [
         "41",
         "Nikki Rodriguez",
         "152",
         "Actress,Producer",
         "My Life with the Walter Boys",
         "2023–2025"
        ],
        [
         "42",
         "Darren Aronofsky",
         "11",
         "Producer,Writer,Director",
         "Pi",
         "1998"
        ],
        [
         "43",
         "Sabrina Impacciatore",
         "1,592",
         "Actress,Writer,Additional Crew",
         "The Passion of the Christ",
         "2004"
        ],
        [
         "44",
         "Liam Neeson",
         "80",
         "Actor,Producer,Soundtrack",
         "Kinsey",
         "2004"
        ],
        [
         "45",
         "Chloë Grace Moretz",
         "378",
         "Actress,Producer,Soundtrack",
         "Kick-Ass",
         "2010"
        ],
        [
         "46",
         "Michael C. Hall",
         "25",
         "Actor,Producer,Director",
         "Dexter",
         "2006–2013"
        ],
        [
         "47",
         "Daniel Mays",
         "11",
         "Actor,Soundtrack",
         "The Bank Job",
         "2008"
        ],
        [
         "48",
         "Jennifer Holland",
         "14",
         "Actress",
         "Peacemaker",
         "2022–2025"
        ],
        [
         "49",
         "Christopher Lloyd",
         "78",
         "Actor,Producer,Soundtrack",
         "Back to the Future",
         "1985"
        ]
       ],
       "shape": {
        "columns": 5,
        "rows": 100
       }
      },
      "text/html": [
       "<div>\n",
       "<style scoped>\n",
       "    .dataframe tbody tr th:only-of-type {\n",
       "        vertical-align: middle;\n",
       "    }\n",
       "\n",
       "    .dataframe tbody tr th {\n",
       "        vertical-align: top;\n",
       "    }\n",
       "\n",
       "    .dataframe thead th {\n",
       "        text-align: right;\n",
       "    }\n",
       "</style>\n",
       "<table border=\"1\" class=\"dataframe\">\n",
       "  <thead>\n",
       "    <tr style=\"text-align: right;\">\n",
       "      <th></th>\n",
       "      <th>Names_Popular_Celebs</th>\n",
       "      <th>ChangesInRank</th>\n",
       "      <th>Role</th>\n",
       "      <th>KnownFor</th>\n",
       "      <th>Year_of_MostPopularRole</th>\n",
       "    </tr>\n",
       "  </thead>\n",
       "  <tbody>\n",
       "    <tr>\n",
       "      <th>0</th>\n",
       "      <td>Graham Greene</td>\n",
       "      <td>3,080</td>\n",
       "      <td>Actor,Writer,Producer</td>\n",
       "      <td>The Green Mile</td>\n",
       "      <td>1999</td>\n",
       "    </tr>\n",
       "    <tr>\n",
       "      <th>1</th>\n",
       "      <td>Owen Painter</td>\n",
       "      <td>1,479</td>\n",
       "      <td>Actor</td>\n",
       "      <td>The Handmaid's Tale</td>\n",
       "      <td>2022–</td>\n",
       "    </tr>\n",
       "    <tr>\n",
       "      <th>2</th>\n",
       "      <td>Emma Myers</td>\n",
       "      <td>1</td>\n",
       "      <td>Actress</td>\n",
       "      <td>Wednesday</td>\n",
       "      <td>2022–2026</td>\n",
       "    </tr>\n",
       "    <tr>\n",
       "      <th>3</th>\n",
       "      <td>Jenna Ortega</td>\n",
       "      <td>4</td>\n",
       "      <td>Actress,Producer,Soundtrack</td>\n",
       "      <td>Wednesday</td>\n",
       "      <td>2022–2026</td>\n",
       "    </tr>\n",
       "    <tr>\n",
       "      <th>4</th>\n",
       "      <td>Evie Templeton</td>\n",
       "      <td>104</td>\n",
       "      <td>Actor</td>\n",
       "      <td>Pinocchio</td>\n",
       "      <td>2022</td>\n",
       "    </tr>\n",
       "    <tr>\n",
       "      <th>...</th>\n",
       "      <td>...</td>\n",
       "      <td>...</td>\n",
       "      <td>...</td>\n",
       "      <td>...</td>\n",
       "      <td>...</td>\n",
       "    </tr>\n",
       "    <tr>\n",
       "      <th>95</th>\n",
       "      <td>Joy Sunday</td>\n",
       "      <td>321</td>\n",
       "      <td>Actress,Producer,Director</td>\n",
       "      <td>Wednesday</td>\n",
       "      <td>2022–2026</td>\n",
       "    </tr>\n",
       "    <tr>\n",
       "      <th>96</th>\n",
       "      <td>Julie Delpy</td>\n",
       "      <td>86</td>\n",
       "      <td>Actress,Writer,Producer</td>\n",
       "      <td>Three Colors: White</td>\n",
       "      <td>1994</td>\n",
       "    </tr>\n",
       "    <tr>\n",
       "      <th>97</th>\n",
       "      <td>Idris Elba</td>\n",
       "      <td>185</td>\n",
       "      <td>Actor,Producer,Writer</td>\n",
       "      <td>Beasts of No Nation</td>\n",
       "      <td>2015</td>\n",
       "    </tr>\n",
       "    <tr>\n",
       "      <th>98</th>\n",
       "      <td>Matthew Goode</td>\n",
       "      <td>17</td>\n",
       "      <td>Actor</td>\n",
       "      <td>Stoker</td>\n",
       "      <td>2013</td>\n",
       "    </tr>\n",
       "    <tr>\n",
       "      <th>99</th>\n",
       "      <td>Freya Allan</td>\n",
       "      <td>1,428</td>\n",
       "      <td>Actress,Additional Crew</td>\n",
       "      <td>Kingdom of the Planet of the Apes</td>\n",
       "      <td>2024</td>\n",
       "    </tr>\n",
       "  </tbody>\n",
       "</table>\n",
       "<p>100 rows × 5 columns</p>\n",
       "</div>"
      ],
      "text/plain": [
       "   Names_Popular_Celebs ChangesInRank                         Role  \\\n",
       "0         Graham Greene         3,080        Actor,Writer,Producer   \n",
       "1          Owen Painter         1,479                        Actor   \n",
       "2            Emma Myers             1                      Actress   \n",
       "3          Jenna Ortega             4  Actress,Producer,Soundtrack   \n",
       "4        Evie Templeton           104                        Actor   \n",
       "..                  ...           ...                          ...   \n",
       "95           Joy Sunday           321    Actress,Producer,Director   \n",
       "96          Julie Delpy            86      Actress,Writer,Producer   \n",
       "97           Idris Elba           185        Actor,Producer,Writer   \n",
       "98        Matthew Goode            17                        Actor   \n",
       "99          Freya Allan         1,428      Actress,Additional Crew   \n",
       "\n",
       "                             KnownFor Year_of_MostPopularRole  \n",
       "0                      The Green Mile                    1999  \n",
       "1                 The Handmaid's Tale                   2022–  \n",
       "2                           Wednesday               2022–2026  \n",
       "3                           Wednesday               2022–2026  \n",
       "4                           Pinocchio                    2022  \n",
       "..                                ...                     ...  \n",
       "95                          Wednesday               2022–2026  \n",
       "96                Three Colors: White                    1994  \n",
       "97                Beasts of No Nation                    2015  \n",
       "98                             Stoker                    2013  \n",
       "99  Kingdom of the Planet of the Apes                    2024  \n",
       "\n",
       "[100 rows x 5 columns]"
      ]
     },
     "execution_count": 47,
     "metadata": {},
     "output_type": "execute_result"
    }
   ],
   "source": [
    "df_celeb"
   ]
  },
  {
   "cell_type": "markdown",
   "id": "3c220b41",
   "metadata": {},
   "source": [
    "## The data about the most popular 100 celebrities has been collected, including their names, rank changes, roles, and known-for titles, and stored in a DataFrame. Now, let’s perform EDA and data cleaning on it🎬🎞️\n"
   ]
  },
  {
   "cell_type": "markdown",
   "id": "7388331e",
   "metadata": {},
   "source": [
    "---\n"
   ]
  },
  {
   "cell_type": "markdown",
   "id": "a2619220",
   "metadata": {},
   "source": [
    "## EDA\n"
   ]
  },
  {
   "cell_type": "code",
   "execution_count": null,
   "id": "e6aa25a6",
   "metadata": {},
   "outputs": [
    {
     "data": {
      "application/vnd.microsoft.datawrangler.viewer.v0+json": {
       "columns": [
        {
         "name": "index",
         "rawType": "int64",
         "type": "integer"
        },
        {
         "name": "Names_Popular_Celebs",
         "rawType": "object",
         "type": "string"
        },
        {
         "name": "ChangesInRank",
         "rawType": "object",
         "type": "string"
        },
        {
         "name": "Role",
         "rawType": "object",
         "type": "string"
        },
        {
         "name": "KnownFor",
         "rawType": "object",
         "type": "string"
        },
        {
         "name": "Year_of_MostPopularRole",
         "rawType": "object",
         "type": "unknown"
        }
       ],
       "ref": "83b8367b-dd1d-4ead-96ec-d03ae6c642cf",
       "rows": [
        [
         "0",
         "Graham Greene",
         "3,080",
         "Actor,Writer,Producer",
         "The Green Mile",
         "1999"
        ],
        [
         "1",
         "Owen Painter",
         "1,479",
         "Actor",
         "The Handmaid's Tale",
         "2022–"
        ],
        [
         "2",
         "Emma Myers",
         "1",
         "Actress",
         "Wednesday",
         "2022–2026"
        ],
        [
         "3",
         "Jenna Ortega",
         "4",
         "Actress,Producer,Soundtrack",
         "Wednesday",
         "2022–2026"
        ],
        [
         "4",
         "Evie Templeton",
         "104",
         "Actor",
         "Pinocchio",
         "2022"
        ],
        [
         "5",
         "Richa Moorjani",
         "281",
         "Actress,Producer",
         "Never Have I Ever",
         "2020–2023"
        ],
        [
         "6",
         "Celia Imrie",
         "5",
         "Actress,Soundtrack",
         "The Best Exotic Marigold Hotel",
         "2011"
        ],
        [
         "7",
         "Sydney Chandler",
         "7",
         "Actress,Writer,Soundtrack",
         "Don't Worry Darling",
         "2022"
        ],
        [
         "8",
         "Helen Mirren",
         "6",
         "Actress,Producer,Director",
         "The Queen",
         "2006"
        ],
        [
         "9",
         "Pierce Brosnan",
         "5",
         "Actor,Producer,Executive",
         "The World Is Not Enough",
         "1999"
        ],
        [
         "10",
         "Lewis Pullman",
         "1",
         "Actor,Producer,Soundtrack",
         "Outer Range",
         "2022–2024"
        ],
        [
         "11",
         "Tom Hopper",
         "1",
         "Actor,Producer,Executive",
         "Black Sails",
         "2014–2017"
        ],
        [
         "12",
         "Taylor Kitsch",
         "1",
         "Actor,Producer,Director",
         "X-Men Origins: Wolverine",
         "2009"
        ],
        [
         "13",
         "Tom Ellis",
         "8",
         "Actor,Producer,Soundtrack",
         "Lucifer",
         "2016–2021"
        ],
        [
         "14",
         "Frances O'Connor",
         "1,477",
         "Actress,Director,Writer",
         "Emily",
         "2022"
        ],
        [
         "15",
         "Joanna Lumley",
         "88",
         "Actress,Producer,Director",
         "Absolutely Fabulous",
         "1992–2012"
        ],
        [
         "16",
         "Jacob Elordi",
         "241",
         "Actor,Producer,Writer",
         "The Kissing Booth",
         "2018"
        ],
        [
         "17",
         "Jonathan Pryce",
         "4",
         "Actor,Producer,Soundtrack",
         "The Two Popes",
         "2019"
        ],
        [
         "18",
         "Denzel Washington",
         "27",
         "Actor,Producer,Director",
         "Fences",
         "2016"
        ],
        [
         "19",
         "Domhnall Gleeson",
         "311",
         "Actor,Writer,Producer",
         "Frank",
         "2014"
        ],
        [
         "20",
         "Noah LaLonde",
         "43",
         "Actor,Producer",
         "My Life with the Walter Boys",
         "2023–2025"
        ],
        [
         "21",
         "Henry Lloyd-Hughes",
         "15",
         "Actor,Writer,Producer",
         "The Thursday Murder Club",
         "2025"
        ],
        [
         "22",
         "Billie Piper",
         "80",
         "Actress,Producer,Writer",
         "Secret Diary of a Call Girl",
         "2007–2011"
        ],
        [
         "23",
         "Naomi Ackie",
         "9",
         "Actress,Producer,Soundtrack",
         "Blink Twice",
         "2024"
        ],
        [
         "24",
         "Dwayne Johnson",
         "109",
         "Actor,Producer,Writer",
         "Black Adam",
         "2022"
        ],
        [
         "25",
         "Ben Kingsley",
         "6",
         "Actor,Producer,Additional Crew",
         "Sexy Beast",
         "2000"
        ],
        [
         "26",
         "Florence Pugh",
         "5",
         "Actress,Producer,Soundtrack",
         "The Falling",
         "2014"
        ],
        [
         "27",
         "Gwendoline Christie",
         "235",
         "Actress,Casting Department,Producer",
         "Star Wars: Episode VIII - The Last Jedi",
         "2017"
        ],
        [
         "28",
         "Sydney Sweeney",
         "6",
         "Actress,Producer",
         "Euphoria",
         "2019–2026"
        ],
        [
         "29",
         "Brad Pitt",
         "14",
         "Producer,Actor,Executive",
         "Fight Club",
         "1999"
        ],
        [
         "30",
         "Heather Matarazzo",
         "168",
         "Actress,Producer,Director",
         "Welcome to the Dollhouse",
         "1995"
        ],
        [
         "31",
         "Tom Cruise",
         "14",
         "Actor,Producer,Director",
         "Top Gun",
         "1986"
        ],
        [
         "32",
         "Keanu Reeves",
         "47",
         "Actor,Producer,Additional Crew",
         "The Matrix",
         "1999"
        ],
        [
         "33",
         "David Tennant",
         "3",
         "Actor,Producer,Director",
         "Doctor Who",
         "2005–2022"
        ],
        [
         "34",
         "Austin Butler",
         "14",
         "Actor,Producer,Soundtrack",
         "Elvis",
         "2022"
        ],
        [
         "35",
         "Chelsea Frei",
         "2,173",
         "Actress,Writer,Producer",
         "The Moodys",
         "2019–2021"
        ],
        [
         "36",
         "Emerald Fennell",
         "3,345",
         "Writer,Director,Producer",
         "Wuthering Heights",
         "2026"
        ],
        [
         "37",
         "Catherine Zeta-Jones",
         "57",
         "Actress,Producer,Soundtrack",
         "Chicago",
         "2002"
        ],
        [
         "38",
         "Leonardo DiCaprio",
         "3",
         "Producer,Actor,Writer",
         "Inception",
         "2010"
        ],
        [
         "39",
         "Margot Robbie",
         "103",
         "Actress,Producer,Executive",
         "Suicide Squad",
         "2016"
        ],
        [
         "40",
         "Ashby Gentry",
         "67",
         "Actor",
         "Are You Afraid of the Dark?",
         "2022–"
        ],
        [
         "41",
         "Nikki Rodriguez",
         "152",
         "Actress,Producer",
         "My Life with the Walter Boys",
         "2023–2025"
        ],
        [
         "42",
         "Darren Aronofsky",
         "11",
         "Producer,Writer,Director",
         "Pi",
         "1998"
        ],
        [
         "43",
         "Sabrina Impacciatore",
         "1,592",
         "Actress,Writer,Additional Crew",
         "The Passion of the Christ",
         "2004"
        ],
        [
         "44",
         "Liam Neeson",
         "80",
         "Actor,Producer,Soundtrack",
         "Kinsey",
         "2004"
        ],
        [
         "45",
         "Chloë Grace Moretz",
         "378",
         "Actress,Producer,Soundtrack",
         "Kick-Ass",
         "2010"
        ],
        [
         "46",
         "Michael C. Hall",
         "25",
         "Actor,Producer,Director",
         "Dexter",
         "2006–2013"
        ],
        [
         "47",
         "Daniel Mays",
         "11",
         "Actor,Soundtrack",
         "The Bank Job",
         "2008"
        ],
        [
         "48",
         "Jennifer Holland",
         "14",
         "Actress",
         "Peacemaker",
         "2022–2025"
        ],
        [
         "49",
         "Christopher Lloyd",
         "78",
         "Actor,Producer,Soundtrack",
         "Back to the Future",
         "1985"
        ]
       ],
       "shape": {
        "columns": 5,
        "rows": 100
       }
      },
      "text/html": [
       "<div>\n",
       "<style scoped>\n",
       "    .dataframe tbody tr th:only-of-type {\n",
       "        vertical-align: middle;\n",
       "    }\n",
       "\n",
       "    .dataframe tbody tr th {\n",
       "        vertical-align: top;\n",
       "    }\n",
       "\n",
       "    .dataframe thead th {\n",
       "        text-align: right;\n",
       "    }\n",
       "</style>\n",
       "<table border=\"1\" class=\"dataframe\">\n",
       "  <thead>\n",
       "    <tr style=\"text-align: right;\">\n",
       "      <th></th>\n",
       "      <th>Names_Popular_Celebs</th>\n",
       "      <th>ChangesInRank</th>\n",
       "      <th>Role</th>\n",
       "      <th>KnownFor</th>\n",
       "      <th>Year_of_MostPopularRole</th>\n",
       "    </tr>\n",
       "  </thead>\n",
       "  <tbody>\n",
       "    <tr>\n",
       "      <th>0</th>\n",
       "      <td>Graham Greene</td>\n",
       "      <td>3,080</td>\n",
       "      <td>Actor,Writer,Producer</td>\n",
       "      <td>The Green Mile</td>\n",
       "      <td>1999</td>\n",
       "    </tr>\n",
       "    <tr>\n",
       "      <th>1</th>\n",
       "      <td>Owen Painter</td>\n",
       "      <td>1,479</td>\n",
       "      <td>Actor</td>\n",
       "      <td>The Handmaid's Tale</td>\n",
       "      <td>2022–</td>\n",
       "    </tr>\n",
       "    <tr>\n",
       "      <th>2</th>\n",
       "      <td>Emma Myers</td>\n",
       "      <td>1</td>\n",
       "      <td>Actress</td>\n",
       "      <td>Wednesday</td>\n",
       "      <td>2022–2026</td>\n",
       "    </tr>\n",
       "    <tr>\n",
       "      <th>3</th>\n",
       "      <td>Jenna Ortega</td>\n",
       "      <td>4</td>\n",
       "      <td>Actress,Producer,Soundtrack</td>\n",
       "      <td>Wednesday</td>\n",
       "      <td>2022–2026</td>\n",
       "    </tr>\n",
       "    <tr>\n",
       "      <th>4</th>\n",
       "      <td>Evie Templeton</td>\n",
       "      <td>104</td>\n",
       "      <td>Actor</td>\n",
       "      <td>Pinocchio</td>\n",
       "      <td>2022</td>\n",
       "    </tr>\n",
       "    <tr>\n",
       "      <th>...</th>\n",
       "      <td>...</td>\n",
       "      <td>...</td>\n",
       "      <td>...</td>\n",
       "      <td>...</td>\n",
       "      <td>...</td>\n",
       "    </tr>\n",
       "    <tr>\n",
       "      <th>95</th>\n",
       "      <td>Joy Sunday</td>\n",
       "      <td>321</td>\n",
       "      <td>Actress,Producer,Director</td>\n",
       "      <td>Wednesday</td>\n",
       "      <td>2022–2026</td>\n",
       "    </tr>\n",
       "    <tr>\n",
       "      <th>96</th>\n",
       "      <td>Julie Delpy</td>\n",
       "      <td>86</td>\n",
       "      <td>Actress,Writer,Producer</td>\n",
       "      <td>Three Colors: White</td>\n",
       "      <td>1994</td>\n",
       "    </tr>\n",
       "    <tr>\n",
       "      <th>97</th>\n",
       "      <td>Idris Elba</td>\n",
       "      <td>185</td>\n",
       "      <td>Actor,Producer,Writer</td>\n",
       "      <td>Beasts of No Nation</td>\n",
       "      <td>2015</td>\n",
       "    </tr>\n",
       "    <tr>\n",
       "      <th>98</th>\n",
       "      <td>Matthew Goode</td>\n",
       "      <td>17</td>\n",
       "      <td>Actor</td>\n",
       "      <td>Stoker</td>\n",
       "      <td>2013</td>\n",
       "    </tr>\n",
       "    <tr>\n",
       "      <th>99</th>\n",
       "      <td>Freya Allan</td>\n",
       "      <td>1,428</td>\n",
       "      <td>Actress,Additional Crew</td>\n",
       "      <td>Kingdom of the Planet of the Apes</td>\n",
       "      <td>2024</td>\n",
       "    </tr>\n",
       "  </tbody>\n",
       "</table>\n",
       "<p>100 rows × 5 columns</p>\n",
       "</div>"
      ],
      "text/plain": [
       "   Names_Popular_Celebs ChangesInRank                         Role  \\\n",
       "0         Graham Greene         3,080        Actor,Writer,Producer   \n",
       "1          Owen Painter         1,479                        Actor   \n",
       "2            Emma Myers             1                      Actress   \n",
       "3          Jenna Ortega             4  Actress,Producer,Soundtrack   \n",
       "4        Evie Templeton           104                        Actor   \n",
       "..                  ...           ...                          ...   \n",
       "95           Joy Sunday           321    Actress,Producer,Director   \n",
       "96          Julie Delpy            86      Actress,Writer,Producer   \n",
       "97           Idris Elba           185        Actor,Producer,Writer   \n",
       "98        Matthew Goode            17                        Actor   \n",
       "99          Freya Allan         1,428      Actress,Additional Crew   \n",
       "\n",
       "                             KnownFor Year_of_MostPopularRole  \n",
       "0                      The Green Mile                    1999  \n",
       "1                 The Handmaid's Tale                   2022–  \n",
       "2                           Wednesday               2022–2026  \n",
       "3                           Wednesday               2022–2026  \n",
       "4                           Pinocchio                    2022  \n",
       "..                                ...                     ...  \n",
       "95                          Wednesday               2022–2026  \n",
       "96                Three Colors: White                    1994  \n",
       "97                Beasts of No Nation                    2015  \n",
       "98                             Stoker                    2013  \n",
       "99  Kingdom of the Planet of the Apes                    2024  \n",
       "\n",
       "[100 rows x 5 columns]"
      ]
     },
     "execution_count": 48,
     "metadata": {},
     "output_type": "execute_result"
    }
   ],
   "source": [
    "df_celeb"
   ]
  },
  {
   "cell_type": "code",
   "execution_count": null,
   "id": "07e25db9",
   "metadata": {},
   "outputs": [
    {
     "name": "stdout",
     "output_type": "stream",
     "text": [
      "<class 'pandas.core.frame.DataFrame'>\n",
      "RangeIndex: 100 entries, 0 to 99\n",
      "Data columns (total 5 columns):\n",
      " #   Column                   Non-Null Count  Dtype \n",
      "---  ------                   --------------  ----- \n",
      " 0   Names_Popular_Celebs     100 non-null    object\n",
      " 1   ChangesInRank            100 non-null    object\n",
      " 2   Role                     100 non-null    object\n",
      " 3   KnownFor                 100 non-null    object\n",
      " 4   Year_of_MostPopularRole  99 non-null     object\n",
      "dtypes: object(5)\n",
      "memory usage: 4.0+ KB\n"
     ]
    }
   ],
   "source": [
    "df_celeb.info()"
   ]
  },
  {
   "cell_type": "code",
   "execution_count": null,
   "id": "2e28f408",
   "metadata": {},
   "outputs": [
    {
     "data": {
      "application/vnd.microsoft.datawrangler.viewer.v0+json": {
       "columns": [
        {
         "name": "index",
         "rawType": "object",
         "type": "string"
        },
        {
         "name": "Names_Popular_Celebs",
         "rawType": "object",
         "type": "unknown"
        },
        {
         "name": "ChangesInRank",
         "rawType": "object",
         "type": "unknown"
        },
        {
         "name": "Role",
         "rawType": "object",
         "type": "unknown"
        },
        {
         "name": "KnownFor",
         "rawType": "object",
         "type": "unknown"
        },
        {
         "name": "Year_of_MostPopularRole",
         "rawType": "object",
         "type": "unknown"
        }
       ],
       "ref": "44c604ce-2834-4b1d-9525-8db15194e9ee",
       "rows": [
        [
         "count",
         "100",
         "100",
         "100",
         "100",
         "99"
        ],
        [
         "unique",
         "100",
         "66",
         "39",
         "93",
         "50"
        ],
        [
         "top",
         "Graham Greene",
         "6",
         "Actress,Producer,Soundtrack",
         "Wednesday",
         "2022"
        ],
        [
         "freq",
         "1",
         "6",
         "10",
         "4",
         "8"
        ]
       ],
       "shape": {
        "columns": 5,
        "rows": 4
       }
      },
      "text/html": [
       "<div>\n",
       "<style scoped>\n",
       "    .dataframe tbody tr th:only-of-type {\n",
       "        vertical-align: middle;\n",
       "    }\n",
       "\n",
       "    .dataframe tbody tr th {\n",
       "        vertical-align: top;\n",
       "    }\n",
       "\n",
       "    .dataframe thead th {\n",
       "        text-align: right;\n",
       "    }\n",
       "</style>\n",
       "<table border=\"1\" class=\"dataframe\">\n",
       "  <thead>\n",
       "    <tr style=\"text-align: right;\">\n",
       "      <th></th>\n",
       "      <th>Names_Popular_Celebs</th>\n",
       "      <th>ChangesInRank</th>\n",
       "      <th>Role</th>\n",
       "      <th>KnownFor</th>\n",
       "      <th>Year_of_MostPopularRole</th>\n",
       "    </tr>\n",
       "  </thead>\n",
       "  <tbody>\n",
       "    <tr>\n",
       "      <th>count</th>\n",
       "      <td>100</td>\n",
       "      <td>100</td>\n",
       "      <td>100</td>\n",
       "      <td>100</td>\n",
       "      <td>99</td>\n",
       "    </tr>\n",
       "    <tr>\n",
       "      <th>unique</th>\n",
       "      <td>100</td>\n",
       "      <td>66</td>\n",
       "      <td>39</td>\n",
       "      <td>93</td>\n",
       "      <td>50</td>\n",
       "    </tr>\n",
       "    <tr>\n",
       "      <th>top</th>\n",
       "      <td>Graham Greene</td>\n",
       "      <td>6</td>\n",
       "      <td>Actress,Producer,Soundtrack</td>\n",
       "      <td>Wednesday</td>\n",
       "      <td>2022</td>\n",
       "    </tr>\n",
       "    <tr>\n",
       "      <th>freq</th>\n",
       "      <td>1</td>\n",
       "      <td>6</td>\n",
       "      <td>10</td>\n",
       "      <td>4</td>\n",
       "      <td>8</td>\n",
       "    </tr>\n",
       "  </tbody>\n",
       "</table>\n",
       "</div>"
      ],
      "text/plain": [
       "       Names_Popular_Celebs ChangesInRank                         Role  \\\n",
       "count                   100           100                          100   \n",
       "unique                  100            66                           39   \n",
       "top           Graham Greene             6  Actress,Producer,Soundtrack   \n",
       "freq                      1             6                           10   \n",
       "\n",
       "         KnownFor Year_of_MostPopularRole  \n",
       "count         100                      99  \n",
       "unique         93                      50  \n",
       "top     Wednesday                    2022  \n",
       "freq            4                       8  "
      ]
     },
     "execution_count": 50,
     "metadata": {},
     "output_type": "execute_result"
    }
   ],
   "source": [
    "df_celeb.describe()"
   ]
  },
  {
   "cell_type": "code",
   "execution_count": null,
   "id": "ecdfac8a",
   "metadata": {},
   "outputs": [
    {
     "data": {
      "application/vnd.microsoft.datawrangler.viewer.v0+json": {
       "columns": [
        {
         "name": "index",
         "rawType": "object",
         "type": "string"
        },
        {
         "name": "0",
         "rawType": "int64",
         "type": "integer"
        }
       ],
       "ref": "152ae21a-16c3-402a-a8a1-45ea56871164",
       "rows": [
        [
         "Names_Popular_Celebs",
         "0"
        ],
        [
         "ChangesInRank",
         "0"
        ],
        [
         "Role",
         "0"
        ],
        [
         "KnownFor",
         "0"
        ],
        [
         "Year_of_MostPopularRole",
         "1"
        ]
       ],
       "shape": {
        "columns": 1,
        "rows": 5
       }
      },
      "text/plain": [
       "Names_Popular_Celebs       0\n",
       "ChangesInRank              0\n",
       "Role                       0\n",
       "KnownFor                   0\n",
       "Year_of_MostPopularRole    1\n",
       "dtype: int64"
      ]
     },
     "execution_count": 51,
     "metadata": {},
     "output_type": "execute_result"
    }
   ],
   "source": [
    "df_celeb.isna().sum()"
   ]
  },
  {
   "cell_type": "markdown",
   "id": "71ee0238",
   "metadata": {},
   "source": [
    "## 💭We have 1 missing value in year col and we should convert dtype of rank,change -->int , year -->date\n"
   ]
  },
  {
   "cell_type": "code",
   "execution_count": null,
   "id": "6055cc8e",
   "metadata": {},
   "outputs": [],
   "source": [
    "df_celeb[\"Rank\"] = df_celeb[\"Rank\"].astype(int)"
   ]
  },
  {
   "cell_type": "code",
   "execution_count": null,
   "id": "d887e68a",
   "metadata": {},
   "outputs": [],
   "source": [
    "df_celeb[\"ChangesInRank\"] = df_celeb[\"ChangesInRank\"].replace(\"\",0)"
   ]
  },
  {
   "cell_type": "code",
   "execution_count": null,
   "id": "5b21816f",
   "metadata": {},
   "outputs": [],
   "source": [
    "df_celeb[\"ChangesInRank\"] = df_celeb[\"ChangesInRank\"].str.replace(\",\",\"\")"
   ]
  },
  {
   "cell_type": "code",
   "execution_count": null,
   "id": "065176c8",
   "metadata": {},
   "outputs": [],
   "source": [
    "df_celeb[\"ChangesInRank\"] = df_celeb[\"ChangesInRank\"].astype(\"Int64\").fillna(0)"
   ]
  },
  {
   "cell_type": "code",
   "execution_count": null,
   "id": "822ccd8b",
   "metadata": {},
   "outputs": [],
   "source": [
    "from datetime import datetime"
   ]
  },
  {
   "cell_type": "code",
   "execution_count": null,
   "id": "ca1f3d17",
   "metadata": {},
   "outputs": [],
   "source": [
    "df_celeb[\"Year_of_MostPopularRole\"] = df_celeb[\"Year_of_MostPopularRole\"].astype(str).str[:4]"
   ]
  },
  {
   "cell_type": "code",
   "execution_count": null,
   "id": "9cf6bb48",
   "metadata": {},
   "outputs": [],
   "source": [
    "df_celeb[\"Year_of_MostPopularRole\"] = pd.to_numeric(df_celeb[\"Year_of_MostPopularRole\"], errors = \"coerce\").fillna(2025).astype(\"int64\")"
   ]
  },
  {
   "cell_type": "code",
   "execution_count": null,
   "id": "1d56cf85",
   "metadata": {},
   "outputs": [],
   "source": [
    "df_celeb[\"Year_of_MostPopularRole_dt\"] = pd.to_datetime(df_celeb[\"Year_of_MostPopularRole\"],format=\"%Y\",errors=\"coerce\" ).fillna(datetime(2025, 1, 1))"
   ]
  },
  {
   "cell_type": "code",
   "execution_count": null,
   "id": "852ea316",
   "metadata": {},
   "outputs": [
    {
     "data": {
      "application/vnd.microsoft.datawrangler.viewer.v0+json": {
       "columns": [
        {
         "name": "index",
         "rawType": "int64",
         "type": "integer"
        },
        {
         "name": "Names_Popular_Celebs",
         "rawType": "object",
         "type": "string"
        },
        {
         "name": "ChangesInRank",
         "rawType": "Int64",
         "type": "integer"
        },
        {
         "name": "Rank",
         "rawType": "int64",
         "type": "integer"
        },
        {
         "name": "Role",
         "rawType": "object",
         "type": "string"
        },
        {
         "name": "KnownFor",
         "rawType": "object",
         "type": "string"
        },
        {
         "name": "Year_of_MostPopularRole",
         "rawType": "int64",
         "type": "integer"
        },
        {
         "name": "Year_of_MostPopularRole_dt",
         "rawType": "datetime64[ns]",
         "type": "datetime"
        }
       ],
       "ref": "778baa81-b3bb-4484-a0f4-fb65cf3b7b74",
       "rows": [
        [
         "0",
         "Graham Greene",
         "3080",
         "1",
         "Actor,Writer,Producer",
         "The Green Mile",
         "1999",
         "1999-01-01 00:00:00"
        ],
        [
         "1",
         "Owen Painter",
         "1479",
         "2",
         "Actor",
         "The Handmaid's Tale",
         "2022",
         "2022-01-01 00:00:00"
        ],
        [
         "2",
         "Emma Myers",
         "1",
         "3",
         "Actress",
         "Wednesday",
         "2022",
         "2022-01-01 00:00:00"
        ],
        [
         "3",
         "Jenna Ortega",
         "4",
         "4",
         "Actress,Producer,Soundtrack",
         "Wednesday",
         "2022",
         "2022-01-01 00:00:00"
        ],
        [
         "4",
         "Evie Templeton",
         "104",
         "5",
         "Actor",
         "Pinocchio",
         "2022",
         "2022-01-01 00:00:00"
        ],
        [
         "5",
         "Richa Moorjani",
         "281",
         "6",
         "Actress,Producer",
         "Never Have I Ever",
         "2020",
         "2020-01-01 00:00:00"
        ],
        [
         "6",
         "Celia Imrie",
         "5",
         "7",
         "Actress,Soundtrack",
         "The Best Exotic Marigold Hotel",
         "2011",
         "2011-01-01 00:00:00"
        ],
        [
         "7",
         "Sydney Chandler",
         "7",
         "8",
         "Actress,Writer,Soundtrack",
         "Don't Worry Darling",
         "2022",
         "2022-01-01 00:00:00"
        ],
        [
         "8",
         "Helen Mirren",
         "6",
         "9",
         "Actress,Producer,Director",
         "The Queen",
         "2006",
         "2006-01-01 00:00:00"
        ],
        [
         "9",
         "Pierce Brosnan",
         "5",
         "10",
         "Actor,Producer,Executive",
         "The World Is Not Enough",
         "1999",
         "1999-01-01 00:00:00"
        ],
        [
         "10",
         "Lewis Pullman",
         "1",
         "11",
         "Actor,Producer,Soundtrack",
         "Outer Range",
         "2022",
         "2022-01-01 00:00:00"
        ],
        [
         "11",
         "Tom Hopper",
         "1",
         "12",
         "Actor,Producer,Executive",
         "Black Sails",
         "2014",
         "2014-01-01 00:00:00"
        ],
        [
         "12",
         "Taylor Kitsch",
         "1",
         "13",
         "Actor,Producer,Director",
         "X-Men Origins: Wolverine",
         "2009",
         "2009-01-01 00:00:00"
        ],
        [
         "13",
         "Tom Ellis",
         "8",
         "14",
         "Actor,Producer,Soundtrack",
         "Lucifer",
         "2016",
         "2016-01-01 00:00:00"
        ],
        [
         "14",
         "Frances O'Connor",
         "1477",
         "15",
         "Actress,Director,Writer",
         "Emily",
         "2022",
         "2022-01-01 00:00:00"
        ],
        [
         "15",
         "Joanna Lumley",
         "88",
         "16",
         "Actress,Producer,Director",
         "Absolutely Fabulous",
         "1992",
         "1992-01-01 00:00:00"
        ],
        [
         "16",
         "Jacob Elordi",
         "241",
         "17",
         "Actor,Producer,Writer",
         "The Kissing Booth",
         "2018",
         "2018-01-01 00:00:00"
        ],
        [
         "17",
         "Jonathan Pryce",
         "4",
         "18",
         "Actor,Producer,Soundtrack",
         "The Two Popes",
         "2019",
         "2019-01-01 00:00:00"
        ],
        [
         "18",
         "Denzel Washington",
         "27",
         "19",
         "Actor,Producer,Director",
         "Fences",
         "2016",
         "2016-01-01 00:00:00"
        ],
        [
         "19",
         "Domhnall Gleeson",
         "311",
         "20",
         "Actor,Writer,Producer",
         "Frank",
         "2014",
         "2014-01-01 00:00:00"
        ],
        [
         "20",
         "Noah LaLonde",
         "43",
         "21",
         "Actor,Producer",
         "My Life with the Walter Boys",
         "2023",
         "2023-01-01 00:00:00"
        ],
        [
         "21",
         "Henry Lloyd-Hughes",
         "15",
         "22",
         "Actor,Writer,Producer",
         "The Thursday Murder Club",
         "2025",
         "2025-01-01 00:00:00"
        ],
        [
         "22",
         "Billie Piper",
         "80",
         "23",
         "Actress,Producer,Writer",
         "Secret Diary of a Call Girl",
         "2007",
         "2007-01-01 00:00:00"
        ],
        [
         "23",
         "Naomi Ackie",
         "9",
         "24",
         "Actress,Producer,Soundtrack",
         "Blink Twice",
         "2024",
         "2024-01-01 00:00:00"
        ],
        [
         "24",
         "Dwayne Johnson",
         "109",
         "25",
         "Actor,Producer,Writer",
         "Black Adam",
         "2022",
         "2022-01-01 00:00:00"
        ],
        [
         "25",
         "Ben Kingsley",
         "6",
         "26",
         "Actor,Producer,Additional Crew",
         "Sexy Beast",
         "2000",
         "2000-01-01 00:00:00"
        ],
        [
         "26",
         "Florence Pugh",
         "5",
         "27",
         "Actress,Producer,Soundtrack",
         "The Falling",
         "2014",
         "2014-01-01 00:00:00"
        ],
        [
         "27",
         "Gwendoline Christie",
         "235",
         "28",
         "Actress,Casting Department,Producer",
         "Star Wars: Episode VIII - The Last Jedi",
         "2017",
         "2017-01-01 00:00:00"
        ],
        [
         "28",
         "Sydney Sweeney",
         "6",
         "29",
         "Actress,Producer",
         "Euphoria",
         "2019",
         "2019-01-01 00:00:00"
        ],
        [
         "29",
         "Brad Pitt",
         "14",
         "30",
         "Producer,Actor,Executive",
         "Fight Club",
         "1999",
         "1999-01-01 00:00:00"
        ],
        [
         "30",
         "Heather Matarazzo",
         "168",
         "31",
         "Actress,Producer,Director",
         "Welcome to the Dollhouse",
         "1995",
         "1995-01-01 00:00:00"
        ],
        [
         "31",
         "Tom Cruise",
         "14",
         "32",
         "Actor,Producer,Director",
         "Top Gun",
         "1986",
         "1986-01-01 00:00:00"
        ],
        [
         "32",
         "Keanu Reeves",
         "47",
         "33",
         "Actor,Producer,Additional Crew",
         "The Matrix",
         "1999",
         "1999-01-01 00:00:00"
        ],
        [
         "33",
         "David Tennant",
         "3",
         "34",
         "Actor,Producer,Director",
         "Doctor Who",
         "2005",
         "2005-01-01 00:00:00"
        ],
        [
         "34",
         "Austin Butler",
         "14",
         "35",
         "Actor,Producer,Soundtrack",
         "Elvis",
         "2022",
         "2022-01-01 00:00:00"
        ],
        [
         "35",
         "Chelsea Frei",
         "2173",
         "36",
         "Actress,Writer,Producer",
         "The Moodys",
         "2019",
         "2019-01-01 00:00:00"
        ],
        [
         "36",
         "Emerald Fennell",
         "3345",
         "37",
         "Writer,Director,Producer",
         "Wuthering Heights",
         "2026",
         "2026-01-01 00:00:00"
        ],
        [
         "37",
         "Catherine Zeta-Jones",
         "57",
         "38",
         "Actress,Producer,Soundtrack",
         "Chicago",
         "2002",
         "2002-01-01 00:00:00"
        ],
        [
         "38",
         "Leonardo DiCaprio",
         "3",
         "39",
         "Producer,Actor,Writer",
         "Inception",
         "2010",
         "2010-01-01 00:00:00"
        ],
        [
         "39",
         "Margot Robbie",
         "103",
         "40",
         "Actress,Producer,Executive",
         "Suicide Squad",
         "2016",
         "2016-01-01 00:00:00"
        ],
        [
         "40",
         "Ashby Gentry",
         "67",
         "41",
         "Actor",
         "Are You Afraid of the Dark?",
         "2022",
         "2022-01-01 00:00:00"
        ],
        [
         "41",
         "Nikki Rodriguez",
         "152",
         "42",
         "Actress,Producer",
         "My Life with the Walter Boys",
         "2023",
         "2023-01-01 00:00:00"
        ],
        [
         "42",
         "Darren Aronofsky",
         "11",
         "43",
         "Producer,Writer,Director",
         "Pi",
         "1998",
         "1998-01-01 00:00:00"
        ],
        [
         "43",
         "Sabrina Impacciatore",
         "1592",
         "44",
         "Actress,Writer,Additional Crew",
         "The Passion of the Christ",
         "2004",
         "2004-01-01 00:00:00"
        ],
        [
         "44",
         "Liam Neeson",
         "80",
         "45",
         "Actor,Producer,Soundtrack",
         "Kinsey",
         "2004",
         "2004-01-01 00:00:00"
        ],
        [
         "45",
         "Chloë Grace Moretz",
         "378",
         "46",
         "Actress,Producer,Soundtrack",
         "Kick-Ass",
         "2010",
         "2010-01-01 00:00:00"
        ],
        [
         "46",
         "Michael C. Hall",
         "25",
         "47",
         "Actor,Producer,Director",
         "Dexter",
         "2006",
         "2006-01-01 00:00:00"
        ],
        [
         "47",
         "Daniel Mays",
         "11",
         "48",
         "Actor,Soundtrack",
         "The Bank Job",
         "2008",
         "2008-01-01 00:00:00"
        ],
        [
         "48",
         "Jennifer Holland",
         "14",
         "49",
         "Actress",
         "Peacemaker",
         "2022",
         "2022-01-01 00:00:00"
        ],
        [
         "49",
         "Christopher Lloyd",
         "78",
         "50",
         "Actor,Producer,Soundtrack",
         "Back to the Future",
         "1985",
         "1985-01-01 00:00:00"
        ]
       ],
       "shape": {
        "columns": 7,
        "rows": 100
       }
      },
      "text/html": [
       "<div>\n",
       "<style scoped>\n",
       "    .dataframe tbody tr th:only-of-type {\n",
       "        vertical-align: middle;\n",
       "    }\n",
       "\n",
       "    .dataframe tbody tr th {\n",
       "        vertical-align: top;\n",
       "    }\n",
       "\n",
       "    .dataframe thead th {\n",
       "        text-align: right;\n",
       "    }\n",
       "</style>\n",
       "<table border=\"1\" class=\"dataframe\">\n",
       "  <thead>\n",
       "    <tr style=\"text-align: right;\">\n",
       "      <th></th>\n",
       "      <th>Names_Popular_Celebs</th>\n",
       "      <th>ChangesInRank</th>\n",
       "      <th>Rank</th>\n",
       "      <th>Role</th>\n",
       "      <th>KnownFor</th>\n",
       "      <th>Year_of_MostPopularRole</th>\n",
       "      <th>Year_of_MostPopularRole_dt</th>\n",
       "    </tr>\n",
       "  </thead>\n",
       "  <tbody>\n",
       "    <tr>\n",
       "      <th>0</th>\n",
       "      <td>Graham Greene</td>\n",
       "      <td>3080</td>\n",
       "      <td>1</td>\n",
       "      <td>Actor,Writer,Producer</td>\n",
       "      <td>The Green Mile</td>\n",
       "      <td>1999</td>\n",
       "      <td>1999-01-01</td>\n",
       "    </tr>\n",
       "    <tr>\n",
       "      <th>1</th>\n",
       "      <td>Owen Painter</td>\n",
       "      <td>1479</td>\n",
       "      <td>2</td>\n",
       "      <td>Actor</td>\n",
       "      <td>The Handmaid's Tale</td>\n",
       "      <td>2022</td>\n",
       "      <td>2022-01-01</td>\n",
       "    </tr>\n",
       "    <tr>\n",
       "      <th>2</th>\n",
       "      <td>Emma Myers</td>\n",
       "      <td>1</td>\n",
       "      <td>3</td>\n",
       "      <td>Actress</td>\n",
       "      <td>Wednesday</td>\n",
       "      <td>2022</td>\n",
       "      <td>2022-01-01</td>\n",
       "    </tr>\n",
       "    <tr>\n",
       "      <th>3</th>\n",
       "      <td>Jenna Ortega</td>\n",
       "      <td>4</td>\n",
       "      <td>4</td>\n",
       "      <td>Actress,Producer,Soundtrack</td>\n",
       "      <td>Wednesday</td>\n",
       "      <td>2022</td>\n",
       "      <td>2022-01-01</td>\n",
       "    </tr>\n",
       "    <tr>\n",
       "      <th>4</th>\n",
       "      <td>Evie Templeton</td>\n",
       "      <td>104</td>\n",
       "      <td>5</td>\n",
       "      <td>Actor</td>\n",
       "      <td>Pinocchio</td>\n",
       "      <td>2022</td>\n",
       "      <td>2022-01-01</td>\n",
       "    </tr>\n",
       "    <tr>\n",
       "      <th>...</th>\n",
       "      <td>...</td>\n",
       "      <td>...</td>\n",
       "      <td>...</td>\n",
       "      <td>...</td>\n",
       "      <td>...</td>\n",
       "      <td>...</td>\n",
       "      <td>...</td>\n",
       "    </tr>\n",
       "    <tr>\n",
       "      <th>95</th>\n",
       "      <td>Joy Sunday</td>\n",
       "      <td>321</td>\n",
       "      <td>96</td>\n",
       "      <td>Actress,Producer,Director</td>\n",
       "      <td>Wednesday</td>\n",
       "      <td>2022</td>\n",
       "      <td>2022-01-01</td>\n",
       "    </tr>\n",
       "    <tr>\n",
       "      <th>96</th>\n",
       "      <td>Julie Delpy</td>\n",
       "      <td>86</td>\n",
       "      <td>97</td>\n",
       "      <td>Actress,Writer,Producer</td>\n",
       "      <td>Three Colors: White</td>\n",
       "      <td>1994</td>\n",
       "      <td>1994-01-01</td>\n",
       "    </tr>\n",
       "    <tr>\n",
       "      <th>97</th>\n",
       "      <td>Idris Elba</td>\n",
       "      <td>185</td>\n",
       "      <td>98</td>\n",
       "      <td>Actor,Producer,Writer</td>\n",
       "      <td>Beasts of No Nation</td>\n",
       "      <td>2015</td>\n",
       "      <td>2015-01-01</td>\n",
       "    </tr>\n",
       "    <tr>\n",
       "      <th>98</th>\n",
       "      <td>Matthew Goode</td>\n",
       "      <td>17</td>\n",
       "      <td>99</td>\n",
       "      <td>Actor</td>\n",
       "      <td>Stoker</td>\n",
       "      <td>2013</td>\n",
       "      <td>2013-01-01</td>\n",
       "    </tr>\n",
       "    <tr>\n",
       "      <th>99</th>\n",
       "      <td>Freya Allan</td>\n",
       "      <td>1428</td>\n",
       "      <td>100</td>\n",
       "      <td>Actress,Additional Crew</td>\n",
       "      <td>Kingdom of the Planet of the Apes</td>\n",
       "      <td>2024</td>\n",
       "      <td>2024-01-01</td>\n",
       "    </tr>\n",
       "  </tbody>\n",
       "</table>\n",
       "<p>100 rows × 7 columns</p>\n",
       "</div>"
      ],
      "text/plain": [
       "   Names_Popular_Celebs  ChangesInRank  Rank                         Role  \\\n",
       "0         Graham Greene           3080     1        Actor,Writer,Producer   \n",
       "1          Owen Painter           1479     2                        Actor   \n",
       "2            Emma Myers              1     3                      Actress   \n",
       "3          Jenna Ortega              4     4  Actress,Producer,Soundtrack   \n",
       "4        Evie Templeton            104     5                        Actor   \n",
       "..                  ...            ...   ...                          ...   \n",
       "95           Joy Sunday            321    96    Actress,Producer,Director   \n",
       "96          Julie Delpy             86    97      Actress,Writer,Producer   \n",
       "97           Idris Elba            185    98        Actor,Producer,Writer   \n",
       "98        Matthew Goode             17    99                        Actor   \n",
       "99          Freya Allan           1428   100      Actress,Additional Crew   \n",
       "\n",
       "                             KnownFor  Year_of_MostPopularRole  \\\n",
       "0                      The Green Mile                     1999   \n",
       "1                 The Handmaid's Tale                     2022   \n",
       "2                           Wednesday                     2022   \n",
       "3                           Wednesday                     2022   \n",
       "4                           Pinocchio                     2022   \n",
       "..                                ...                      ...   \n",
       "95                          Wednesday                     2022   \n",
       "96                Three Colors: White                     1994   \n",
       "97                Beasts of No Nation                     2015   \n",
       "98                             Stoker                     2013   \n",
       "99  Kingdom of the Planet of the Apes                     2024   \n",
       "\n",
       "   Year_of_MostPopularRole_dt  \n",
       "0                  1999-01-01  \n",
       "1                  2022-01-01  \n",
       "2                  2022-01-01  \n",
       "3                  2022-01-01  \n",
       "4                  2022-01-01  \n",
       "..                        ...  \n",
       "95                 2022-01-01  \n",
       "96                 1994-01-01  \n",
       "97                 2015-01-01  \n",
       "98                 2013-01-01  \n",
       "99                 2024-01-01  \n",
       "\n",
       "[100 rows x 7 columns]"
      ]
     },
     "execution_count": 145,
     "metadata": {},
     "output_type": "execute_result"
    }
   ],
   "source": [
    "df_celeb"
   ]
  },
  {
   "cell_type": "code",
   "execution_count": null,
   "id": "56cad25a",
   "metadata": {},
   "outputs": [
    {
     "name": "stdout",
     "output_type": "stream",
     "text": [
      "<class 'pandas.core.frame.DataFrame'>\n",
      "RangeIndex: 100 entries, 0 to 99\n",
      "Data columns (total 7 columns):\n",
      " #   Column                      Non-Null Count  Dtype         \n",
      "---  ------                      --------------  -----         \n",
      " 0   Names_Popular_Celebs        100 non-null    object        \n",
      " 1   ChangesInRank               100 non-null    Int64         \n",
      " 2   Rank                        100 non-null    int64         \n",
      " 3   Role                        100 non-null    object        \n",
      " 4   KnownFor                    100 non-null    object        \n",
      " 5   Year_of_MostPopularRole     100 non-null    int64         \n",
      " 6   Year_of_MostPopularRole_dt  100 non-null    datetime64[ns]\n",
      "dtypes: Int64(1), datetime64[ns](1), int64(2), object(3)\n",
      "memory usage: 5.7+ KB\n"
     ]
    }
   ],
   "source": [
    "df_celeb.info()"
   ]
  },
  {
   "cell_type": "code",
   "execution_count": null,
   "id": "f0712059",
   "metadata": {},
   "outputs": [],
   "source": [
    "TopCelebs =df_celeb.to_csv(\"TopCelebs.csv\", index=False)"
   ]
  },
  {
   "cell_type": "markdown",
   "id": "9fa2e130",
   "metadata": {},
   "source": [
    "---\n"
   ]
  },
  {
   "cell_type": "code",
   "execution_count": 100,
   "id": "0742ccb9",
   "metadata": {},
   "outputs": [
    {
     "name": "stderr",
     "output_type": "stream",
     "text": [
      "C:\\Users\\FreeComp\\AppData\\Local\\Temp\\ipykernel_20636\\1563832095.py:17: UserWarning: pandas only supports SQLAlchemy connectable (engine/connection) or database string URI or sqlite3 DBAPI2 connection. Other DBAPI2 objects are not tested. Please consider using SQLAlchemy.\n",
      "  df = pd.read_sql(query, conn)\n"
     ]
    }
   ],
   "source": [
    "import pyodbc\n",
    "import pandas as pd\n",
    "\n",
    "\n",
    "conn = pyodbc.connect(\n",
    "    r\"DRIVER={ODBC Driver 17 for SQL Server};\"\n",
    "    r\"SERVER=LOCALHOST\\SQLEXPRESS;\"     \n",
    "    r\"DATABASE=imdb;\" \n",
    "    r\"Trusted_Connection=yes\"        \n",
    ")\n",
    "\n",
    "query = \"\"\"\n",
    "SELECT *\n",
    "FROM TopCelebs\n",
    "\"\"\"\n",
    "\n",
    "df = pd.read_sql(query, conn)\n",
    "\n"
   ]
  },
  {
   "cell_type": "code",
   "execution_count": null,
   "id": "a7eb2ba9",
   "metadata": {},
   "outputs": [
    {
     "data": {
      "application/vnd.microsoft.datawrangler.viewer.v0+json": {
       "columns": [
        {
         "name": "index",
         "rawType": "int64",
         "type": "integer"
        },
        {
         "name": "Names_Popular_Celebs",
         "rawType": "object",
         "type": "string"
        },
        {
         "name": "ChangesInRank",
         "rawType": "int64",
         "type": "integer"
        },
        {
         "name": "Rank",
         "rawType": "int64",
         "type": "integer"
        },
        {
         "name": "Role",
         "rawType": "object",
         "type": "string"
        },
        {
         "name": "KnownFor",
         "rawType": "object",
         "type": "string"
        },
        {
         "name": "Year_of_MostPopularRole",
         "rawType": "int64",
         "type": "integer"
        },
        {
         "name": "Year_of_MostPopularRole_dt",
         "rawType": "object",
         "type": "unknown"
        }
       ],
       "ref": "b3a4bdc3-8142-4a78-b7f3-84214ea7eb13",
       "rows": [
        [
         "0",
         "Graham Greene",
         "3080",
         "1",
         "Actor,Writer,Producer",
         "The Green Mile",
         "1999",
         "1999-01-01"
        ],
        [
         "1",
         "Owen Painter",
         "1479",
         "2",
         "Actor",
         "The Handmaid's Tale",
         "2022",
         "2022-01-01"
        ],
        [
         "2",
         "Emma Myers",
         "1",
         "3",
         "Actress",
         "Wednesday",
         "2022",
         "2022-01-01"
        ],
        [
         "3",
         "Jenna Ortega",
         "4",
         "4",
         "Actress,Producer,Soundtrack",
         "Wednesday",
         "2022",
         "2022-01-01"
        ],
        [
         "4",
         "Evie Templeton",
         "104",
         "5",
         "Actor",
         "Pinocchio",
         "2022",
         "2022-01-01"
        ],
        [
         "5",
         "Richa Moorjani",
         "281",
         "6",
         "Actress,Producer",
         "Never Have I Ever",
         "2020",
         "2020-01-01"
        ],
        [
         "6",
         "Celia Imrie",
         "5",
         "7",
         "Actress,Soundtrack",
         "The Best Exotic Marigold Hotel",
         "2011",
         "2011-01-01"
        ],
        [
         "7",
         "Sydney Chandler",
         "7",
         "8",
         "Actress,Writer,Soundtrack",
         "Don't Worry Darling",
         "2022",
         "2022-01-01"
        ],
        [
         "8",
         "Helen Mirren",
         "6",
         "9",
         "Actress,Producer,Director",
         "The Queen",
         "2006",
         "2006-01-01"
        ],
        [
         "9",
         "Pierce Brosnan",
         "5",
         "10",
         "Actor,Producer,Executive",
         "The World Is Not Enough",
         "1999",
         "1999-01-01"
        ],
        [
         "10",
         "Lewis Pullman",
         "1",
         "11",
         "Actor,Producer,Soundtrack",
         "Outer Range",
         "2022",
         "2022-01-01"
        ],
        [
         "11",
         "Tom Hopper",
         "1",
         "12",
         "Actor,Producer,Executive",
         "Black Sails",
         "2014",
         "2014-01-01"
        ],
        [
         "12",
         "Taylor Kitsch",
         "1",
         "13",
         "Actor,Producer,Director",
         "X-Men Origins: Wolverine",
         "2009",
         "2009-01-01"
        ],
        [
         "13",
         "Tom Ellis",
         "8",
         "14",
         "Actor,Producer,Soundtrack",
         "Lucifer",
         "2016",
         "2016-01-01"
        ],
        [
         "14",
         "Frances O'Connor",
         "1477",
         "15",
         "Actress,Director,Writer",
         "Emily",
         "2022",
         "2022-01-01"
        ],
        [
         "15",
         "Joanna Lumley",
         "88",
         "16",
         "Actress,Producer,Director",
         "Absolutely Fabulous",
         "1992",
         "1992-01-01"
        ],
        [
         "16",
         "Jacob Elordi",
         "241",
         "17",
         "Actor,Producer,Writer",
         "The Kissing Booth",
         "2018",
         "2018-01-01"
        ],
        [
         "17",
         "Jonathan Pryce",
         "4",
         "18",
         "Actor,Producer,Soundtrack",
         "The Two Popes",
         "2019",
         "2019-01-01"
        ],
        [
         "18",
         "Denzel Washington",
         "27",
         "19",
         "Actor,Producer,Director",
         "Fences",
         "2016",
         "2016-01-01"
        ],
        [
         "19",
         "Domhnall Gleeson",
         "311",
         "20",
         "Actor,Writer,Producer",
         "Frank",
         "2014",
         "2014-01-01"
        ],
        [
         "20",
         "Noah LaLonde",
         "43",
         "21",
         "Actor,Producer",
         "My Life with the Walter Boys",
         "2023",
         "2023-01-01"
        ],
        [
         "21",
         "Henry Lloyd-Hughes",
         "15",
         "22",
         "Actor,Writer,Producer",
         "The Thursday Murder Club",
         "2025",
         "2025-01-01"
        ],
        [
         "22",
         "Billie Piper",
         "80",
         "23",
         "Actress,Producer,Writer",
         "Secret Diary of a Call Girl",
         "2007",
         "2007-01-01"
        ],
        [
         "23",
         "Naomi Ackie",
         "9",
         "24",
         "Actress,Producer,Soundtrack",
         "Blink Twice",
         "2024",
         "2024-01-01"
        ],
        [
         "24",
         "Dwayne Johnson",
         "109",
         "25",
         "Actor,Producer,Writer",
         "Black Adam",
         "2022",
         "2022-01-01"
        ],
        [
         "25",
         "Ben Kingsley",
         "6",
         "26",
         "Actor,Producer,Additional Crew",
         "Sexy Beast",
         "2000",
         "2000-01-01"
        ],
        [
         "26",
         "Florence Pugh",
         "5",
         "27",
         "Actress,Producer,Soundtrack",
         "The Falling",
         "2014",
         "2014-01-01"
        ],
        [
         "27",
         "Gwendoline Christie",
         "235",
         "28",
         "Actress,Casting Department,Producer",
         "Star Wars: Episode VIII - The Last Jedi",
         "2017",
         "2017-01-01"
        ],
        [
         "28",
         "Sydney Sweeney",
         "6",
         "29",
         "Actress,Producer",
         "Euphoria",
         "2019",
         "2019-01-01"
        ],
        [
         "29",
         "Brad Pitt",
         "14",
         "30",
         "Producer,Actor,Executive",
         "Fight Club",
         "1999",
         "1999-01-01"
        ],
        [
         "30",
         "Heather Matarazzo",
         "168",
         "31",
         "Actress,Producer,Director",
         "Welcome to the Dollhouse",
         "1995",
         "1995-01-01"
        ],
        [
         "31",
         "Tom Cruise",
         "14",
         "32",
         "Actor,Producer,Director",
         "Top Gun",
         "1986",
         "1986-01-01"
        ],
        [
         "32",
         "Keanu Reeves",
         "47",
         "33",
         "Actor,Producer,Additional Crew",
         "The Matrix",
         "1999",
         "1999-01-01"
        ],
        [
         "33",
         "David Tennant",
         "3",
         "34",
         "Actor,Producer,Director",
         "Doctor Who",
         "2005",
         "2005-01-01"
        ],
        [
         "34",
         "Austin Butler",
         "14",
         "35",
         "Actor,Producer,Soundtrack",
         "Elvis",
         "2022",
         "2022-01-01"
        ],
        [
         "35",
         "Chelsea Frei",
         "2173",
         "36",
         "Actress,Writer,Producer",
         "The Moodys",
         "2019",
         "2019-01-01"
        ],
        [
         "36",
         "Emerald Fennell",
         "3345",
         "37",
         "Writer,Director,Producer",
         "Wuthering Heights",
         "2026",
         "2026-01-01"
        ],
        [
         "37",
         "Catherine Zeta-Jones",
         "57",
         "38",
         "Actress,Producer,Soundtrack",
         "Chicago",
         "2002",
         "2002-01-01"
        ],
        [
         "38",
         "Leonardo DiCaprio",
         "3",
         "39",
         "Producer,Actor,Writer",
         "Inception",
         "2010",
         "2010-01-01"
        ],
        [
         "39",
         "Margot Robbie",
         "103",
         "40",
         "Actress,Producer,Executive",
         "Suicide Squad",
         "2016",
         "2016-01-01"
        ],
        [
         "40",
         "Ashby Gentry",
         "67",
         "41",
         "Actor",
         "Are You Afraid of the Dark?",
         "2022",
         "2022-01-01"
        ],
        [
         "41",
         "Nikki Rodriguez",
         "152",
         "42",
         "Actress,Producer",
         "My Life with the Walter Boys",
         "2023",
         "2023-01-01"
        ],
        [
         "42",
         "Darren Aronofsky",
         "11",
         "43",
         "Producer,Writer,Director",
         "Pi",
         "1998",
         "1998-01-01"
        ],
        [
         "43",
         "Sabrina Impacciatore",
         "1592",
         "44",
         "Actress,Writer,Additional Crew",
         "The Passion of the Christ",
         "2004",
         "2004-01-01"
        ],
        [
         "44",
         "Liam Neeson",
         "80",
         "45",
         "Actor,Producer,Soundtrack",
         "Kinsey",
         "2004",
         "2004-01-01"
        ],
        [
         "45",
         "Chloë Grace Moretz",
         "378",
         "46",
         "Actress,Producer,Soundtrack",
         "Kick-Ass",
         "2010",
         "2010-01-01"
        ],
        [
         "46",
         "Michael C. Hall",
         "25",
         "47",
         "Actor,Producer,Director",
         "Dexter",
         "2006",
         "2006-01-01"
        ],
        [
         "47",
         "Daniel Mays",
         "11",
         "48",
         "Actor,Soundtrack",
         "The Bank Job",
         "2008",
         "2008-01-01"
        ],
        [
         "48",
         "Jennifer Holland",
         "14",
         "49",
         "Actress",
         "Peacemaker",
         "2022",
         "2022-01-01"
        ],
        [
         "49",
         "Christopher Lloyd",
         "78",
         "50",
         "Actor,Producer,Soundtrack",
         "Back to the Future",
         "1985",
         "1985-01-01"
        ]
       ],
       "shape": {
        "columns": 7,
        "rows": 100
       }
      },
      "text/html": [
       "<div>\n",
       "<style scoped>\n",
       "    .dataframe tbody tr th:only-of-type {\n",
       "        vertical-align: middle;\n",
       "    }\n",
       "\n",
       "    .dataframe tbody tr th {\n",
       "        vertical-align: top;\n",
       "    }\n",
       "\n",
       "    .dataframe thead th {\n",
       "        text-align: right;\n",
       "    }\n",
       "</style>\n",
       "<table border=\"1\" class=\"dataframe\">\n",
       "  <thead>\n",
       "    <tr style=\"text-align: right;\">\n",
       "      <th></th>\n",
       "      <th>Names_Popular_Celebs</th>\n",
       "      <th>ChangesInRank</th>\n",
       "      <th>Rank</th>\n",
       "      <th>Role</th>\n",
       "      <th>KnownFor</th>\n",
       "      <th>Year_of_MostPopularRole</th>\n",
       "      <th>Year_of_MostPopularRole_dt</th>\n",
       "    </tr>\n",
       "  </thead>\n",
       "  <tbody>\n",
       "    <tr>\n",
       "      <th>0</th>\n",
       "      <td>Graham Greene</td>\n",
       "      <td>3080</td>\n",
       "      <td>1</td>\n",
       "      <td>Actor,Writer,Producer</td>\n",
       "      <td>The Green Mile</td>\n",
       "      <td>1999</td>\n",
       "      <td>1999-01-01</td>\n",
       "    </tr>\n",
       "    <tr>\n",
       "      <th>1</th>\n",
       "      <td>Owen Painter</td>\n",
       "      <td>1479</td>\n",
       "      <td>2</td>\n",
       "      <td>Actor</td>\n",
       "      <td>The Handmaid's Tale</td>\n",
       "      <td>2022</td>\n",
       "      <td>2022-01-01</td>\n",
       "    </tr>\n",
       "    <tr>\n",
       "      <th>2</th>\n",
       "      <td>Emma Myers</td>\n",
       "      <td>1</td>\n",
       "      <td>3</td>\n",
       "      <td>Actress</td>\n",
       "      <td>Wednesday</td>\n",
       "      <td>2022</td>\n",
       "      <td>2022-01-01</td>\n",
       "    </tr>\n",
       "    <tr>\n",
       "      <th>3</th>\n",
       "      <td>Jenna Ortega</td>\n",
       "      <td>4</td>\n",
       "      <td>4</td>\n",
       "      <td>Actress,Producer,Soundtrack</td>\n",
       "      <td>Wednesday</td>\n",
       "      <td>2022</td>\n",
       "      <td>2022-01-01</td>\n",
       "    </tr>\n",
       "    <tr>\n",
       "      <th>4</th>\n",
       "      <td>Evie Templeton</td>\n",
       "      <td>104</td>\n",
       "      <td>5</td>\n",
       "      <td>Actor</td>\n",
       "      <td>Pinocchio</td>\n",
       "      <td>2022</td>\n",
       "      <td>2022-01-01</td>\n",
       "    </tr>\n",
       "    <tr>\n",
       "      <th>...</th>\n",
       "      <td>...</td>\n",
       "      <td>...</td>\n",
       "      <td>...</td>\n",
       "      <td>...</td>\n",
       "      <td>...</td>\n",
       "      <td>...</td>\n",
       "      <td>...</td>\n",
       "    </tr>\n",
       "    <tr>\n",
       "      <th>95</th>\n",
       "      <td>Joy Sunday</td>\n",
       "      <td>321</td>\n",
       "      <td>96</td>\n",
       "      <td>Actress,Producer,Director</td>\n",
       "      <td>Wednesday</td>\n",
       "      <td>2022</td>\n",
       "      <td>2022-01-01</td>\n",
       "    </tr>\n",
       "    <tr>\n",
       "      <th>96</th>\n",
       "      <td>Julie Delpy</td>\n",
       "      <td>86</td>\n",
       "      <td>97</td>\n",
       "      <td>Actress,Writer,Producer</td>\n",
       "      <td>Three Colors: White</td>\n",
       "      <td>1994</td>\n",
       "      <td>1994-01-01</td>\n",
       "    </tr>\n",
       "    <tr>\n",
       "      <th>97</th>\n",
       "      <td>Idris Elba</td>\n",
       "      <td>185</td>\n",
       "      <td>98</td>\n",
       "      <td>Actor,Producer,Writer</td>\n",
       "      <td>Beasts of No Nation</td>\n",
       "      <td>2015</td>\n",
       "      <td>2015-01-01</td>\n",
       "    </tr>\n",
       "    <tr>\n",
       "      <th>98</th>\n",
       "      <td>Matthew Goode</td>\n",
       "      <td>17</td>\n",
       "      <td>99</td>\n",
       "      <td>Actor</td>\n",
       "      <td>Stoker</td>\n",
       "      <td>2013</td>\n",
       "      <td>2013-01-01</td>\n",
       "    </tr>\n",
       "    <tr>\n",
       "      <th>99</th>\n",
       "      <td>Freya Allan</td>\n",
       "      <td>1428</td>\n",
       "      <td>100</td>\n",
       "      <td>Actress,Additional Crew</td>\n",
       "      <td>Kingdom of the Planet of the Apes</td>\n",
       "      <td>2024</td>\n",
       "      <td>2024-01-01</td>\n",
       "    </tr>\n",
       "  </tbody>\n",
       "</table>\n",
       "<p>100 rows × 7 columns</p>\n",
       "</div>"
      ],
      "text/plain": [
       "   Names_Popular_Celebs  ChangesInRank  Rank                         Role  \\\n",
       "0         Graham Greene           3080     1        Actor,Writer,Producer   \n",
       "1          Owen Painter           1479     2                        Actor   \n",
       "2            Emma Myers              1     3                      Actress   \n",
       "3          Jenna Ortega              4     4  Actress,Producer,Soundtrack   \n",
       "4        Evie Templeton            104     5                        Actor   \n",
       "..                  ...            ...   ...                          ...   \n",
       "95           Joy Sunday            321    96    Actress,Producer,Director   \n",
       "96          Julie Delpy             86    97      Actress,Writer,Producer   \n",
       "97           Idris Elba            185    98        Actor,Producer,Writer   \n",
       "98        Matthew Goode             17    99                        Actor   \n",
       "99          Freya Allan           1428   100      Actress,Additional Crew   \n",
       "\n",
       "                             KnownFor  Year_of_MostPopularRole  \\\n",
       "0                      The Green Mile                     1999   \n",
       "1                 The Handmaid's Tale                     2022   \n",
       "2                           Wednesday                     2022   \n",
       "3                           Wednesday                     2022   \n",
       "4                           Pinocchio                     2022   \n",
       "..                                ...                      ...   \n",
       "95                          Wednesday                     2022   \n",
       "96                Three Colors: White                     1994   \n",
       "97                Beasts of No Nation                     2015   \n",
       "98                             Stoker                     2013   \n",
       "99  Kingdom of the Planet of the Apes                     2024   \n",
       "\n",
       "   Year_of_MostPopularRole_dt  \n",
       "0                  1999-01-01  \n",
       "1                  2022-01-01  \n",
       "2                  2022-01-01  \n",
       "3                  2022-01-01  \n",
       "4                  2022-01-01  \n",
       "..                        ...  \n",
       "95                 2022-01-01  \n",
       "96                 1994-01-01  \n",
       "97                 2015-01-01  \n",
       "98                 2013-01-01  \n",
       "99                 2024-01-01  \n",
       "\n",
       "[100 rows x 7 columns]"
      ]
     },
     "execution_count": 149,
     "metadata": {},
     "output_type": "execute_result"
    }
   ],
   "source": [
    "df"
   ]
  },
  {
   "cell_type": "markdown",
   "id": "422c525c",
   "metadata": {},
   "source": [
    "## Key Insights\n"
   ]
  },
  {
   "cell_type": "markdown",
   "id": "f3055362",
   "metadata": {},
   "source": [
    "---\n"
   ]
  },
  {
   "cell_type": "code",
   "execution_count": 104,
   "id": "b74283ce",
   "metadata": {},
   "outputs": [],
   "source": [
    "import seaborn as sns\n",
    "from matplotlib import pyplot as plt"
   ]
  },
  {
   "cell_type": "code",
   "execution_count": 113,
   "id": "edc43dd1",
   "metadata": {},
   "outputs": [
    {
     "name": "stderr",
     "output_type": "stream",
     "text": [
      "C:\\Users\\FreeComp\\AppData\\Local\\Temp\\ipykernel_20636\\2421401893.py:9: UserWarning: pandas only supports SQLAlchemy connectable (engine/connection) or database string URI or sqlite3 DBAPI2 connection. Other DBAPI2 objects are not tested. Please consider using SQLAlchemy.\n",
      "  df_top_year =pd.read_sql(query, conn)\n"
     ]
    }
   ],
   "source": [
    "query =\"\"\"\n",
    "SELECT Year_of_MostPopularRole, COUNT(*) AS NumTopCelebs\n",
    "FROM \n",
    "TopCelebs\n",
    "GROUP BY Year_of_MostPopularRole\n",
    "ORDER BY NumTopCelebs DESC;\n",
    "\"\"\"\n",
    "\n",
    "df_top_year =pd.read_sql(query, conn)\n",
    "Top_year_celebs = df_top_year.to_csv(\"Top_year_celebs.csv\",index=False)"
   ]
  },
  {
   "cell_type": "code",
   "execution_count": null,
   "id": "cb4f35c5",
   "metadata": {},
   "outputs": [
    {
     "data": {
      "image/png": "[encoded data removed]",
      "text/plain": [
       "<Figure size 640x480 with 1 Axes>"
      ]
     },
     "metadata": {},
     "output_type": "display_data"
    }
   ],
   "source": [
    "df_top_year.plot(kind=\"bar\", x=\"Year_of_MostPopularRole\", y=\"NumTopCelebs\", title=\"Year of highest num of Top Celebs\")\n",
    "plt.xlabel(\"Year\")\n",
    "plt.ylabel(\"Num of Top Celebs\")\n",
    "plt.show()"
   ]
  },
  {
   "cell_type": "markdown",
   "id": "4b4e4f18",
   "metadata": {},
   "source": [
    "## - Insight:\n",
    "\n",
    "- The year 2022 recorded the highest number of top celebrities, with 17 entries achieving “Top Celeb” status. This indicates that 2022 was a particularly prolific year in terms of popular roles and notable achievements among celebrities in the dataset.\n",
    "\n",
    "---\n"
   ]
  },
  {
   "cell_type": "code",
   "execution_count": null,
   "id": "aeeba137",
   "metadata": {},
   "outputs": [
    {
     "name": "stderr",
     "output_type": "stream",
     "text": [
      "C:\\Users\\FreeComp\\AppData\\Local\\Temp\\ipykernel_3228\\563381535.py:8: UserWarning: pandas only supports SQLAlchemy connectable (engine/connection) or database string URI or sqlite3 DBAPI2 connection. Other DBAPI2 objects are not tested. Please consider using SQLAlchemy.\n",
      "  pd.read_sql(query, conn)\n"
     ]
    },
    {
     "data": {
      "application/vnd.microsoft.datawrangler.viewer.v0+json": {
       "columns": [
        {
         "name": "index",
         "rawType": "int64",
         "type": "integer"
        },
        {
         "name": "Names_Popular_Celebs",
         "rawType": "object",
         "type": "string"
        },
        {
         "name": "Role",
         "rawType": "object",
         "type": "string"
        }
       ],
       "ref": "1aee655e-c178-46b4-90b7-eb3355bf4adf",
       "rows": [
        [
         "0",
         "Graham Greene",
         "Actor,Writer,Producer"
        ],
        [
         "1",
         "Owen Painter",
         "Actor"
        ],
        [
         "2",
         "Evie Templeton",
         "Actor"
        ],
        [
         "3",
         "Pierce Brosnan",
         "Actor,Producer,Executive"
        ],
        [
         "4",
         "Lewis Pullman",
         "Actor,Producer,Soundtrack"
        ]
       ],
       "shape": {
        "columns": 2,
        "rows": 5
       }
      },
      "text/html": [
       "<div>\n",
       "<style scoped>\n",
       "    .dataframe tbody tr th:only-of-type {\n",
       "        vertical-align: middle;\n",
       "    }\n",
       "\n",
       "    .dataframe tbody tr th {\n",
       "        vertical-align: top;\n",
       "    }\n",
       "\n",
       "    .dataframe thead th {\n",
       "        text-align: right;\n",
       "    }\n",
       "</style>\n",
       "<table border=\"1\" class=\"dataframe\">\n",
       "  <thead>\n",
       "    <tr style=\"text-align: right;\">\n",
       "      <th></th>\n",
       "      <th>Names_Popular_Celebs</th>\n",
       "      <th>Role</th>\n",
       "    </tr>\n",
       "  </thead>\n",
       "  <tbody>\n",
       "    <tr>\n",
       "      <th>0</th>\n",
       "      <td>Graham Greene</td>\n",
       "      <td>Actor,Writer,Producer</td>\n",
       "    </tr>\n",
       "    <tr>\n",
       "      <th>1</th>\n",
       "      <td>Owen Painter</td>\n",
       "      <td>Actor</td>\n",
       "    </tr>\n",
       "    <tr>\n",
       "      <th>2</th>\n",
       "      <td>Evie Templeton</td>\n",
       "      <td>Actor</td>\n",
       "    </tr>\n",
       "    <tr>\n",
       "      <th>3</th>\n",
       "      <td>Pierce Brosnan</td>\n",
       "      <td>Actor,Producer,Executive</td>\n",
       "    </tr>\n",
       "    <tr>\n",
       "      <th>4</th>\n",
       "      <td>Lewis Pullman</td>\n",
       "      <td>Actor,Producer,Soundtrack</td>\n",
       "    </tr>\n",
       "  </tbody>\n",
       "</table>\n",
       "</div>"
      ],
      "text/plain": [
       "  Names_Popular_Celebs                       Role\n",
       "0        Graham Greene      Actor,Writer,Producer\n",
       "1         Owen Painter                      Actor\n",
       "2       Evie Templeton                      Actor\n",
       "3       Pierce Brosnan   Actor,Producer,Executive\n",
       "4        Lewis Pullman  Actor,Producer,Soundtrack"
      ]
     },
     "execution_count": 153,
     "metadata": {},
     "output_type": "execute_result"
    }
   ],
   "source": [
    "query =\"\"\"\n",
    "SELECT TOP 5 Names_Popular_Celebs  , Role\n",
    "FROM\n",
    "TopCelebs \n",
    "WHERE Role LIKE '%Actor%' ;\n",
    "\"\"\"\n",
    "\n",
    "pd.read_sql(query, conn)\n"
   ]
  },
  {
   "cell_type": "markdown",
   "id": "0e7efa3c",
   "metadata": {},
   "source": [
    "## Top 5 actors\n"
   ]
  },
  {
   "cell_type": "code",
   "execution_count": null,
   "id": "058dd1d0",
   "metadata": {},
   "outputs": [
    {
     "name": "stderr",
     "output_type": "stream",
     "text": [
      "C:\\Users\\FreeComp\\AppData\\Local\\Temp\\ipykernel_3228\\635309119.py:8: UserWarning: pandas only supports SQLAlchemy connectable (engine/connection) or database string URI or sqlite3 DBAPI2 connection. Other DBAPI2 objects are not tested. Please consider using SQLAlchemy.\n",
      "  pd.read_sql(query, conn)\n"
     ]
    },
    {
     "data": {
      "application/vnd.microsoft.datawrangler.viewer.v0+json": {
       "columns": [
        {
         "name": "index",
         "rawType": "int64",
         "type": "integer"
        },
        {
         "name": "Names_Popular_Celebs",
         "rawType": "object",
         "type": "string"
        },
        {
         "name": "Role",
         "rawType": "object",
         "type": "string"
        }
       ],
       "ref": "1235b64e-04e6-4a0f-97b2-0f24aacb7469",
       "rows": [
        [
         "0",
         "Graham Greene",
         "Actor,Writer,Producer"
        ],
        [
         "1",
         "Sydney Chandler",
         "Actress,Writer,Soundtrack"
        ],
        [
         "2",
         "Frances O'Connor",
         "Actress,Director,Writer"
        ],
        [
         "3",
         "Jacob Elordi",
         "Actor,Producer,Writer"
        ],
        [
         "4",
         "Domhnall Gleeson",
         "Actor,Writer,Producer"
        ]
       ],
       "shape": {
        "columns": 2,
        "rows": 5
       }
      },
      "text/html": [
       "<div>\n",
       "<style scoped>\n",
       "    .dataframe tbody tr th:only-of-type {\n",
       "        vertical-align: middle;\n",
       "    }\n",
       "\n",
       "    .dataframe tbody tr th {\n",
       "        vertical-align: top;\n",
       "    }\n",
       "\n",
       "    .dataframe thead th {\n",
       "        text-align: right;\n",
       "    }\n",
       "</style>\n",
       "<table border=\"1\" class=\"dataframe\">\n",
       "  <thead>\n",
       "    <tr style=\"text-align: right;\">\n",
       "      <th></th>\n",
       "      <th>Names_Popular_Celebs</th>\n",
       "      <th>Role</th>\n",
       "    </tr>\n",
       "  </thead>\n",
       "  <tbody>\n",
       "    <tr>\n",
       "      <th>0</th>\n",
       "      <td>Graham Greene</td>\n",
       "      <td>Actor,Writer,Producer</td>\n",
       "    </tr>\n",
       "    <tr>\n",
       "      <th>1</th>\n",
       "      <td>Sydney Chandler</td>\n",
       "      <td>Actress,Writer,Soundtrack</td>\n",
       "    </tr>\n",
       "    <tr>\n",
       "      <th>2</th>\n",
       "      <td>Frances O'Connor</td>\n",
       "      <td>Actress,Director,Writer</td>\n",
       "    </tr>\n",
       "    <tr>\n",
       "      <th>3</th>\n",
       "      <td>Jacob Elordi</td>\n",
       "      <td>Actor,Producer,Writer</td>\n",
       "    </tr>\n",
       "    <tr>\n",
       "      <th>4</th>\n",
       "      <td>Domhnall Gleeson</td>\n",
       "      <td>Actor,Writer,Producer</td>\n",
       "    </tr>\n",
       "  </tbody>\n",
       "</table>\n",
       "</div>"
      ],
      "text/plain": [
       "  Names_Popular_Celebs                       Role\n",
       "0        Graham Greene      Actor,Writer,Producer\n",
       "1      Sydney Chandler  Actress,Writer,Soundtrack\n",
       "2     Frances O'Connor    Actress,Director,Writer\n",
       "3         Jacob Elordi      Actor,Producer,Writer\n",
       "4     Domhnall Gleeson      Actor,Writer,Producer"
      ]
     },
     "execution_count": 154,
     "metadata": {},
     "output_type": "execute_result"
    }
   ],
   "source": [
    "query =\"\"\"\n",
    "SELECT TOP 5 Names_Popular_Celebs  , Role\n",
    "FROM\n",
    "TopCelebs \n",
    "WHERE Role LIKE '%Writer%' ;\n",
    "\"\"\"\n",
    "\n",
    "pd.read_sql(query, conn)"
   ]
  },
  {
   "cell_type": "markdown",
   "id": "144221e7",
   "metadata": {},
   "source": [
    "## Top 5 Writer\n"
   ]
  },
  {
   "cell_type": "markdown",
   "id": "aeb5f0d1",
   "metadata": {},
   "source": [
    "---\n"
   ]
  },
  {
   "cell_type": "code",
   "execution_count": null,
   "id": "dee6e5fe",
   "metadata": {},
   "outputs": [
    {
     "name": "stderr",
     "output_type": "stream",
     "text": [
      "C:\\Users\\FreeComp\\AppData\\Local\\Temp\\ipykernel_3228\\534517257.py:8: UserWarning: pandas only supports SQLAlchemy connectable (engine/connection) or database string URI or sqlite3 DBAPI2 connection. Other DBAPI2 objects are not tested. Please consider using SQLAlchemy.\n",
      "  pd.read_sql(query, conn)\n"
     ]
    },
    {
     "data": {
      "application/vnd.microsoft.datawrangler.viewer.v0+json": {
       "columns": [
        {
         "name": "index",
         "rawType": "int64",
         "type": "integer"
        },
        {
         "name": "Names_Popular_Celebs",
         "rawType": "object",
         "type": "string"
        },
        {
         "name": "Role",
         "rawType": "object",
         "type": "string"
        }
       ],
       "ref": "708b5d6e-971c-4bca-8d93-577949ddabf4",
       "rows": [
        [
         "0",
         "Graham Greene",
         "Actor,Writer,Producer"
        ],
        [
         "1",
         "Jenna Ortega",
         "Actress,Producer,Soundtrack"
        ],
        [
         "2",
         "Richa Moorjani",
         "Actress,Producer"
        ],
        [
         "3",
         "Helen Mirren",
         "Actress,Producer,Director"
        ],
        [
         "4",
         "Pierce Brosnan",
         "Actor,Producer,Executive"
        ]
       ],
       "shape": {
        "columns": 2,
        "rows": 5
       }
      },
      "text/html": [
       "<div>\n",
       "<style scoped>\n",
       "    .dataframe tbody tr th:only-of-type {\n",
       "        vertical-align: middle;\n",
       "    }\n",
       "\n",
       "    .dataframe tbody tr th {\n",
       "        vertical-align: top;\n",
       "    }\n",
       "\n",
       "    .dataframe thead th {\n",
       "        text-align: right;\n",
       "    }\n",
       "</style>\n",
       "<table border=\"1\" class=\"dataframe\">\n",
       "  <thead>\n",
       "    <tr style=\"text-align: right;\">\n",
       "      <th></th>\n",
       "      <th>Names_Popular_Celebs</th>\n",
       "      <th>Role</th>\n",
       "    </tr>\n",
       "  </thead>\n",
       "  <tbody>\n",
       "    <tr>\n",
       "      <th>0</th>\n",
       "      <td>Graham Greene</td>\n",
       "      <td>Actor,Writer,Producer</td>\n",
       "    </tr>\n",
       "    <tr>\n",
       "      <th>1</th>\n",
       "      <td>Jenna Ortega</td>\n",
       "      <td>Actress,Producer,Soundtrack</td>\n",
       "    </tr>\n",
       "    <tr>\n",
       "      <th>2</th>\n",
       "      <td>Richa Moorjani</td>\n",
       "      <td>Actress,Producer</td>\n",
       "    </tr>\n",
       "    <tr>\n",
       "      <th>3</th>\n",
       "      <td>Helen Mirren</td>\n",
       "      <td>Actress,Producer,Director</td>\n",
       "    </tr>\n",
       "    <tr>\n",
       "      <th>4</th>\n",
       "      <td>Pierce Brosnan</td>\n",
       "      <td>Actor,Producer,Executive</td>\n",
       "    </tr>\n",
       "  </tbody>\n",
       "</table>\n",
       "</div>"
      ],
      "text/plain": [
       "  Names_Popular_Celebs                         Role\n",
       "0        Graham Greene        Actor,Writer,Producer\n",
       "1         Jenna Ortega  Actress,Producer,Soundtrack\n",
       "2       Richa Moorjani             Actress,Producer\n",
       "3         Helen Mirren    Actress,Producer,Director\n",
       "4       Pierce Brosnan     Actor,Producer,Executive"
      ]
     },
     "execution_count": 155,
     "metadata": {},
     "output_type": "execute_result"
    }
   ],
   "source": [
    "query =\"\"\"\n",
    "SELECT TOP 5 Names_Popular_Celebs  , Role\n",
    "FROM\n",
    "TopCelebs \n",
    "WHERE Role LIKE '%Producer%' ;\n",
    "\"\"\"\n",
    "\n",
    "pd.read_sql(query, conn)"
   ]
  },
  {
   "cell_type": "markdown",
   "id": "76e55214",
   "metadata": {},
   "source": [
    "## Top producer\n"
   ]
  },
  {
   "cell_type": "markdown",
   "id": "336e885c",
   "metadata": {},
   "source": [
    "---\n"
   ]
  },
  {
   "cell_type": "code",
   "execution_count": null,
   "id": "c9de8fea",
   "metadata": {},
   "outputs": [
    {
     "name": "stderr",
     "output_type": "stream",
     "text": [
      "C:\\Users\\FreeComp\\AppData\\Local\\Temp\\ipykernel_3228\\1304179785.py:8: UserWarning: pandas only supports SQLAlchemy connectable (engine/connection) or database string URI or sqlite3 DBAPI2 connection. Other DBAPI2 objects are not tested. Please consider using SQLAlchemy.\n",
      "  pd.read_sql(query, conn)\n"
     ]
    },
    {
     "data": {
      "application/vnd.microsoft.datawrangler.viewer.v0+json": {
       "columns": [
        {
         "name": "index",
         "rawType": "int64",
         "type": "integer"
        },
        {
         "name": "Names_Popular_Celebs",
         "rawType": "object",
         "type": "string"
        },
        {
         "name": "Role",
         "rawType": "object",
         "type": "string"
        }
       ],
       "ref": "87940510-eb8d-48c3-8ed5-1346e89e6b90",
       "rows": [
        [
         "0",
         "Jenna Ortega",
         "Actress,Producer,Soundtrack"
        ],
        [
         "1",
         "Celia Imrie",
         "Actress,Soundtrack"
        ],
        [
         "2",
         "Sydney Chandler",
         "Actress,Writer,Soundtrack"
        ],
        [
         "3",
         "Lewis Pullman",
         "Actor,Producer,Soundtrack"
        ],
        [
         "4",
         "Tom Ellis",
         "Actor,Producer,Soundtrack"
        ]
       ],
       "shape": {
        "columns": 2,
        "rows": 5
       }
      },
      "text/html": [
       "<div>\n",
       "<style scoped>\n",
       "    .dataframe tbody tr th:only-of-type {\n",
       "        vertical-align: middle;\n",
       "    }\n",
       "\n",
       "    .dataframe tbody tr th {\n",
       "        vertical-align: top;\n",
       "    }\n",
       "\n",
       "    .dataframe thead th {\n",
       "        text-align: right;\n",
       "    }\n",
       "</style>\n",
       "<table border=\"1\" class=\"dataframe\">\n",
       "  <thead>\n",
       "    <tr style=\"text-align: right;\">\n",
       "      <th></th>\n",
       "      <th>Names_Popular_Celebs</th>\n",
       "      <th>Role</th>\n",
       "    </tr>\n",
       "  </thead>\n",
       "  <tbody>\n",
       "    <tr>\n",
       "      <th>0</th>\n",
       "      <td>Jenna Ortega</td>\n",
       "      <td>Actress,Producer,Soundtrack</td>\n",
       "    </tr>\n",
       "    <tr>\n",
       "      <th>1</th>\n",
       "      <td>Celia Imrie</td>\n",
       "      <td>Actress,Soundtrack</td>\n",
       "    </tr>\n",
       "    <tr>\n",
       "      <th>2</th>\n",
       "      <td>Sydney Chandler</td>\n",
       "      <td>Actress,Writer,Soundtrack</td>\n",
       "    </tr>\n",
       "    <tr>\n",
       "      <th>3</th>\n",
       "      <td>Lewis Pullman</td>\n",
       "      <td>Actor,Producer,Soundtrack</td>\n",
       "    </tr>\n",
       "    <tr>\n",
       "      <th>4</th>\n",
       "      <td>Tom Ellis</td>\n",
       "      <td>Actor,Producer,Soundtrack</td>\n",
       "    </tr>\n",
       "  </tbody>\n",
       "</table>\n",
       "</div>"
      ],
      "text/plain": [
       "  Names_Popular_Celebs                         Role\n",
       "0         Jenna Ortega  Actress,Producer,Soundtrack\n",
       "1          Celia Imrie           Actress,Soundtrack\n",
       "2      Sydney Chandler    Actress,Writer,Soundtrack\n",
       "3        Lewis Pullman    Actor,Producer,Soundtrack\n",
       "4            Tom Ellis    Actor,Producer,Soundtrack"
      ]
     },
     "execution_count": 156,
     "metadata": {},
     "output_type": "execute_result"
    }
   ],
   "source": [
    "query =\"\"\"\n",
    "SELECT TOP 5 Names_Popular_Celebs  , Role\n",
    "FROM\n",
    "TopCelebs \n",
    "WHERE Role LIKE '%Soundtrack%' ;\n",
    "\"\"\"\n",
    "\n",
    "pd.read_sql(query, conn)"
   ]
  },
  {
   "cell_type": "markdown",
   "id": "648d5e2b",
   "metadata": {},
   "source": [
    "## Top soundtrack\n"
   ]
  },
  {
   "cell_type": "markdown",
   "id": "1a3cc68d",
   "metadata": {},
   "source": [
    "---\n"
   ]
  },
  {
   "cell_type": "markdown",
   "id": "caa6a43b",
   "metadata": {},
   "source": [
    "## Most Popular Films\n"
   ]
  },
  {
   "cell_type": "code",
   "execution_count": null,
   "id": "d2d44600",
   "metadata": {},
   "outputs": [],
   "source": [
    "df_popular_films = pd.DataFrame()"
   ]
  },
  {
   "cell_type": "code",
   "execution_count": null,
   "id": "3f8ba2ae",
   "metadata": {},
   "outputs": [],
   "source": [
    "driver.get(\"https://www.imdb.com/what-to-watch/popular/?ref_=watch_fanfav_tb\")"
   ]
  },
  {
   "cell_type": "code",
   "execution_count": null,
   "id": "85879262",
   "metadata": {},
   "outputs": [],
   "source": [
    "mostPopularFilms = driver.find_elements(\"xpath\" , '//div//a[@class=\"ipc-poster-card__title ipc-poster-card__title--clamp-2 ipc-poster-card__title--clickable\"]/span')"
   ]
  },
  {
   "cell_type": "code",
   "execution_count": null,
   "id": "2a3571fb",
   "metadata": {},
   "outputs": [],
   "source": [
    "mostPopularFilms_list = [film.text for film in mostPopularFilms]"
   ]
  },
  {
   "cell_type": "code",
   "execution_count": null,
   "id": "99d50dec",
   "metadata": {},
   "outputs": [],
   "source": [
    "df_popular_films[\"Films_Names\"] = mostPopularFilms_list"
   ]
  },
  {
   "cell_type": "code",
   "execution_count": null,
   "id": "ab22d9bc",
   "metadata": {},
   "outputs": [],
   "source": [
    "numStars = driver.find_elements(\"xpath\" , '//span[@class=\"ipc-rating-star--rating\"]')"
   ]
  },
  {
   "cell_type": "code",
   "execution_count": null,
   "id": "65cfd472",
   "metadata": {},
   "outputs": [],
   "source": [
    "numStars_list = [star.text for star in numStars]"
   ]
  },
  {
   "cell_type": "code",
   "execution_count": null,
   "id": "5d2d3e8a",
   "metadata": {},
   "outputs": [],
   "source": [
    "df_popular_films[\"Stars\"] = numStars_list"
   ]
  },
  {
   "cell_type": "code",
   "execution_count": null,
   "id": "4ba8dfde",
   "metadata": {},
   "outputs": [
    {
     "data": {
      "application/vnd.microsoft.datawrangler.viewer.v0+json": {
       "columns": [
        {
         "name": "index",
         "rawType": "int64",
         "type": "integer"
        },
        {
         "name": "Films_Names",
         "rawType": "object",
         "type": "string"
        },
        {
         "name": "Stars",
         "rawType": "object",
         "type": "string"
        }
       ],
       "ref": "5ad212f3-cb3b-4b4f-b99e-4f1ff9201dd2",
       "rows": [
        [
         "0",
         "Wednesday",
         "8.0"
        ],
        [
         "1",
         "Dexter: Resurrection",
         "9.2"
        ],
        [
         "2",
         "The Conjuring: Last Rites",
         "6.5"
        ],
        [
         "3",
         "The Thursday Murder Club",
         "6.6"
        ],
        [
         "4",
         "Highest 2 Lowest",
         "5.7"
        ],
        [
         "5",
         "Alien: Earth",
         "7.6"
        ],
        [
         "6",
         "The Paper",
         "7.1"
        ],
        [
         "7",
         "Weapons",
         "7.7"
        ],
        [
         "8",
         "The Terminal List: Dark Wolf",
         "7.9"
        ],
        [
         "9",
         "Peacemaker",
         "8.3"
        ],
        [
         "10",
         "Unknown Number: The High School Catfish",
         "6.8"
        ],
        [
         "11",
         "The Naked Gun",
         "6.6"
        ],
        [
         "12",
         "Caught Stealing",
         "7.3"
        ],
        [
         "13",
         "Nobody 2",
         "6.4"
        ],
        [
         "14",
         "The Summer I Turned Pretty",
         "7.3"
        ],
        [
         "15",
         "Lilo & Stitch",
         "6.8"
        ],
        [
         "16",
         "Thunderbolts*",
         "7.2"
        ],
        [
         "17",
         "Superman",
         "7.2"
        ],
        [
         "18",
         "Dexter",
         "8.6"
        ],
        [
         "19",
         "F1: The Movie",
         "7.8"
        ],
        [
         "20",
         "KPop Demon Hunters",
         "7.6"
        ],
        [
         "21",
         "The Roses",
         "7.0"
        ],
        [
         "22",
         "Game of Thrones",
         "9.2"
        ],
        [
         "23",
         "My Life with the Walter Boys",
         "6.9"
        ],
        [
         "24",
         "Breaking Bad",
         "9.5"
        ],
        [
         "25",
         "Die My Love",
         "6.3"
        ],
        [
         "26",
         "The Conjuring",
         "7.5"
        ],
        [
         "27",
         "Foundation",
         "7.6"
        ],
        [
         "28",
         "NCIS: Tony & Ziva",
         "7.3"
        ],
        [
         "29",
         "The Smashing Machine",
         "8.8"
        ],
        [
         "30",
         "Friendship",
         "6.8"
        ],
        [
         "31",
         "The Long Walk",
         "7.6"
        ],
        [
         "32",
         "Task",
         "7.5"
        ],
        [
         "33",
         "Together",
         "6.8"
        ],
        [
         "34",
         "Sinners",
         "7.6"
        ],
        [
         "35",
         "Countdown",
         "6.9"
        ],
        [
         "36",
         "28 Years Later",
         "6.7"
        ],
        [
         "37",
         "Stranger Things",
         "8.6"
        ],
        [
         "38",
         "The Terminal List",
         "7.9"
        ],
        [
         "39",
         "Star Trek: Strange New Worlds",
         "8.3"
        ],
        [
         "40",
         "Mission: Impossible - The Final Reckoning",
         "7.3"
        ],
        [
         "41",
         "The Rookie",
         "8.0"
        ],
        [
         "42",
         "Yellowstone",
         "8.6"
        ],
        [
         "43",
         "Jurassic World: Rebirth",
         "5.9"
        ],
        [
         "44",
         "Nobody",
         "7.4"
        ],
        [
         "45",
         "The Runarounds",
         "7.6"
        ],
        [
         "46",
         "The Guest",
         "6.8"
        ],
        [
         "47",
         "The Fantastic Four: First Steps",
         "7.3"
        ]
       ],
       "shape": {
        "columns": 2,
        "rows": 48
       }
      },
      "text/html": [
       "<div>\n",
       "<style scoped>\n",
       "    .dataframe tbody tr th:only-of-type {\n",
       "        vertical-align: middle;\n",
       "    }\n",
       "\n",
       "    .dataframe tbody tr th {\n",
       "        vertical-align: top;\n",
       "    }\n",
       "\n",
       "    .dataframe thead th {\n",
       "        text-align: right;\n",
       "    }\n",
       "</style>\n",
       "<table border=\"1\" class=\"dataframe\">\n",
       "  <thead>\n",
       "    <tr style=\"text-align: right;\">\n",
       "      <th></th>\n",
       "      <th>Films_Names</th>\n",
       "      <th>Stars</th>\n",
       "    </tr>\n",
       "  </thead>\n",
       "  <tbody>\n",
       "    <tr>\n",
       "      <th>0</th>\n",
       "      <td>Wednesday</td>\n",
       "      <td>8.0</td>\n",
       "    </tr>\n",
       "    <tr>\n",
       "      <th>1</th>\n",
       "      <td>Dexter: Resurrection</td>\n",
       "      <td>9.2</td>\n",
       "    </tr>\n",
       "    <tr>\n",
       "      <th>2</th>\n",
       "      <td>The Conjuring: Last Rites</td>\n",
       "      <td>6.5</td>\n",
       "    </tr>\n",
       "    <tr>\n",
       "      <th>3</th>\n",
       "      <td>The Thursday Murder Club</td>\n",
       "      <td>6.6</td>\n",
       "    </tr>\n",
       "    <tr>\n",
       "      <th>4</th>\n",
       "      <td>Highest 2 Lowest</td>\n",
       "      <td>5.7</td>\n",
       "    </tr>\n",
       "    <tr>\n",
       "      <th>5</th>\n",
       "      <td>Alien: Earth</td>\n",
       "      <td>7.6</td>\n",
       "    </tr>\n",
       "    <tr>\n",
       "      <th>6</th>\n",
       "      <td>The Paper</td>\n",
       "      <td>7.1</td>\n",
       "    </tr>\n",
       "    <tr>\n",
       "      <th>7</th>\n",
       "      <td>Weapons</td>\n",
       "      <td>7.7</td>\n",
       "    </tr>\n",
       "    <tr>\n",
       "      <th>8</th>\n",
       "      <td>The Terminal List: Dark Wolf</td>\n",
       "      <td>7.9</td>\n",
       "    </tr>\n",
       "    <tr>\n",
       "      <th>9</th>\n",
       "      <td>Peacemaker</td>\n",
       "      <td>8.3</td>\n",
       "    </tr>\n",
       "    <tr>\n",
       "      <th>10</th>\n",
       "      <td>Unknown Number: The High School Catfish</td>\n",
       "      <td>6.8</td>\n",
       "    </tr>\n",
       "    <tr>\n",
       "      <th>11</th>\n",
       "      <td>The Naked Gun</td>\n",
       "      <td>6.6</td>\n",
       "    </tr>\n",
       "    <tr>\n",
       "      <th>12</th>\n",
       "      <td>Caught Stealing</td>\n",
       "      <td>7.3</td>\n",
       "    </tr>\n",
       "    <tr>\n",
       "      <th>13</th>\n",
       "      <td>Nobody 2</td>\n",
       "      <td>6.4</td>\n",
       "    </tr>\n",
       "    <tr>\n",
       "      <th>14</th>\n",
       "      <td>The Summer I Turned Pretty</td>\n",
       "      <td>7.3</td>\n",
       "    </tr>\n",
       "    <tr>\n",
       "      <th>15</th>\n",
       "      <td>Lilo &amp; Stitch</td>\n",
       "      <td>6.8</td>\n",
       "    </tr>\n",
       "    <tr>\n",
       "      <th>16</th>\n",
       "      <td>Thunderbolts*</td>\n",
       "      <td>7.2</td>\n",
       "    </tr>\n",
       "    <tr>\n",
       "      <th>17</th>\n",
       "      <td>Superman</td>\n",
       "      <td>7.2</td>\n",
       "    </tr>\n",
       "    <tr>\n",
       "      <th>18</th>\n",
       "      <td>Dexter</td>\n",
       "      <td>8.6</td>\n",
       "    </tr>\n",
       "    <tr>\n",
       "      <th>19</th>\n",
       "      <td>F1: The Movie</td>\n",
       "      <td>7.8</td>\n",
       "    </tr>\n",
       "    <tr>\n",
       "      <th>20</th>\n",
       "      <td>KPop Demon Hunters</td>\n",
       "      <td>7.6</td>\n",
       "    </tr>\n",
       "    <tr>\n",
       "      <th>21</th>\n",
       "      <td>The Roses</td>\n",
       "      <td>7.0</td>\n",
       "    </tr>\n",
       "    <tr>\n",
       "      <th>22</th>\n",
       "      <td>Game of Thrones</td>\n",
       "      <td>9.2</td>\n",
       "    </tr>\n",
       "    <tr>\n",
       "      <th>23</th>\n",
       "      <td>My Life with the Walter Boys</td>\n",
       "      <td>6.9</td>\n",
       "    </tr>\n",
       "    <tr>\n",
       "      <th>24</th>\n",
       "      <td>Breaking Bad</td>\n",
       "      <td>9.5</td>\n",
       "    </tr>\n",
       "    <tr>\n",
       "      <th>25</th>\n",
       "      <td>Die My Love</td>\n",
       "      <td>6.3</td>\n",
       "    </tr>\n",
       "    <tr>\n",
       "      <th>26</th>\n",
       "      <td>The Conjuring</td>\n",
       "      <td>7.5</td>\n",
       "    </tr>\n",
       "    <tr>\n",
       "      <th>27</th>\n",
       "      <td>Foundation</td>\n",
       "      <td>7.6</td>\n",
       "    </tr>\n",
       "    <tr>\n",
       "      <th>28</th>\n",
       "      <td>NCIS: Tony &amp; Ziva</td>\n",
       "      <td>7.3</td>\n",
       "    </tr>\n",
       "    <tr>\n",
       "      <th>29</th>\n",
       "      <td>The Smashing Machine</td>\n",
       "      <td>8.8</td>\n",
       "    </tr>\n",
       "    <tr>\n",
       "      <th>30</th>\n",
       "      <td>Friendship</td>\n",
       "      <td>6.8</td>\n",
       "    </tr>\n",
       "    <tr>\n",
       "      <th>31</th>\n",
       "      <td>The Long Walk</td>\n",
       "      <td>7.6</td>\n",
       "    </tr>\n",
       "    <tr>\n",
       "      <th>32</th>\n",
       "      <td>Task</td>\n",
       "      <td>7.5</td>\n",
       "    </tr>\n",
       "    <tr>\n",
       "      <th>33</th>\n",
       "      <td>Together</td>\n",
       "      <td>6.8</td>\n",
       "    </tr>\n",
       "    <tr>\n",
       "      <th>34</th>\n",
       "      <td>Sinners</td>\n",
       "      <td>7.6</td>\n",
       "    </tr>\n",
       "    <tr>\n",
       "      <th>35</th>\n",
       "      <td>Countdown</td>\n",
       "      <td>6.9</td>\n",
       "    </tr>\n",
       "    <tr>\n",
       "      <th>36</th>\n",
       "      <td>28 Years Later</td>\n",
       "      <td>6.7</td>\n",
       "    </tr>\n",
       "    <tr>\n",
       "      <th>37</th>\n",
       "      <td>Stranger Things</td>\n",
       "      <td>8.6</td>\n",
       "    </tr>\n",
       "    <tr>\n",
       "      <th>38</th>\n",
       "      <td>The Terminal List</td>\n",
       "      <td>7.9</td>\n",
       "    </tr>\n",
       "    <tr>\n",
       "      <th>39</th>\n",
       "      <td>Star Trek: Strange New Worlds</td>\n",
       "      <td>8.3</td>\n",
       "    </tr>\n",
       "    <tr>\n",
       "      <th>40</th>\n",
       "      <td>Mission: Impossible - The Final Reckoning</td>\n",
       "      <td>7.3</td>\n",
       "    </tr>\n",
       "    <tr>\n",
       "      <th>41</th>\n",
       "      <td>The Rookie</td>\n",
       "      <td>8.0</td>\n",
       "    </tr>\n",
       "    <tr>\n",
       "      <th>42</th>\n",
       "      <td>Yellowstone</td>\n",
       "      <td>8.6</td>\n",
       "    </tr>\n",
       "    <tr>\n",
       "      <th>43</th>\n",
       "      <td>Jurassic World: Rebirth</td>\n",
       "      <td>5.9</td>\n",
       "    </tr>\n",
       "    <tr>\n",
       "      <th>44</th>\n",
       "      <td>Nobody</td>\n",
       "      <td>7.4</td>\n",
       "    </tr>\n",
       "    <tr>\n",
       "      <th>45</th>\n",
       "      <td>The Runarounds</td>\n",
       "      <td>7.6</td>\n",
       "    </tr>\n",
       "    <tr>\n",
       "      <th>46</th>\n",
       "      <td>The Guest</td>\n",
       "      <td>6.8</td>\n",
       "    </tr>\n",
       "    <tr>\n",
       "      <th>47</th>\n",
       "      <td>The Fantastic Four: First Steps</td>\n",
       "      <td>7.3</td>\n",
       "    </tr>\n",
       "  </tbody>\n",
       "</table>\n",
       "</div>"
      ],
      "text/plain": [
       "                                  Films_Names Stars\n",
       "0                                   Wednesday   8.0\n",
       "1                        Dexter: Resurrection   9.2\n",
       "2                   The Conjuring: Last Rites   6.5\n",
       "3                    The Thursday Murder Club   6.6\n",
       "4                            Highest 2 Lowest   5.7\n",
       "5                                Alien: Earth   7.6\n",
       "6                                   The Paper   7.1\n",
       "7                                     Weapons   7.7\n",
       "8                The Terminal List: Dark Wolf   7.9\n",
       "9                                  Peacemaker   8.3\n",
       "10    Unknown Number: The High School Catfish   6.8\n",
       "11                              The Naked Gun   6.6\n",
       "12                            Caught Stealing   7.3\n",
       "13                                   Nobody 2   6.4\n",
       "14                 The Summer I Turned Pretty   7.3\n",
       "15                              Lilo & Stitch   6.8\n",
       "16                              Thunderbolts*   7.2\n",
       "17                                   Superman   7.2\n",
       "18                                     Dexter   8.6\n",
       "19                              F1: The Movie   7.8\n",
       "20                         KPop Demon Hunters   7.6\n",
       "21                                  The Roses   7.0\n",
       "22                            Game of Thrones   9.2\n",
       "23               My Life with the Walter Boys   6.9\n",
       "24                               Breaking Bad   9.5\n",
       "25                                Die My Love   6.3\n",
       "26                              The Conjuring   7.5\n",
       "27                                 Foundation   7.6\n",
       "28                          NCIS: Tony & Ziva   7.3\n",
       "29                       The Smashing Machine   8.8\n",
       "30                                 Friendship   6.8\n",
       "31                              The Long Walk   7.6\n",
       "32                                       Task   7.5\n",
       "33                                   Together   6.8\n",
       "34                                    Sinners   7.6\n",
       "35                                  Countdown   6.9\n",
       "36                             28 Years Later   6.7\n",
       "37                            Stranger Things   8.6\n",
       "38                          The Terminal List   7.9\n",
       "39              Star Trek: Strange New Worlds   8.3\n",
       "40  Mission: Impossible - The Final Reckoning   7.3\n",
       "41                                 The Rookie   8.0\n",
       "42                                Yellowstone   8.6\n",
       "43                    Jurassic World: Rebirth   5.9\n",
       "44                                     Nobody   7.4\n",
       "45                             The Runarounds   7.6\n",
       "46                                  The Guest   6.8\n",
       "47            The Fantastic Four: First Steps   7.3"
      ]
     },
     "execution_count": 165,
     "metadata": {},
     "output_type": "execute_result"
    }
   ],
   "source": [
    "df_popular_films"
   ]
  },
  {
   "cell_type": "code",
   "execution_count": null,
   "id": "7964fb02",
   "metadata": {},
   "outputs": [],
   "source": [
    "PopularFilms =df_popular_films.to_csv(\"PopularFilms.csv\", index=False)"
   ]
  },
  {
   "cell_type": "markdown",
   "id": "9b566899",
   "metadata": {},
   "source": [
    "---\n"
   ]
  },
  {
   "cell_type": "markdown",
   "id": "4c3ac16c",
   "metadata": {},
   "source": [
    "## Top 10 film\n"
   ]
  },
  {
   "cell_type": "code",
   "execution_count": null,
   "id": "e0ca3af9",
   "metadata": {},
   "outputs": [
    {
     "name": "stderr",
     "output_type": "stream",
     "text": [
      "C:\\Users\\FreeComp\\AppData\\Local\\Temp\\ipykernel_3228\\1705414702.py:10: UserWarning: pandas only supports SQLAlchemy connectable (engine/connection) or database string URI or sqlite3 DBAPI2 connection. Other DBAPI2 objects are not tested. Please consider using SQLAlchemy.\n",
      "  TOP_FILM = pd.read_sql(query, conn)\n"
     ]
    }
   ],
   "source": [
    "\n",
    "query =\"\"\"\n",
    "SELECT Films_Names , Stars FROM(\n",
    "SELECT TOP 11 Stars , Films_Names , DENSE_RANK() OVER(ORDER BY Stars) AS TOP_STAR\n",
    "FROM\n",
    "PopularFilms\n",
    "ORDER BY STARS DESC) AS NEW\n",
    "WHERE TOP_STAR IN (25, 24, 23, 22, 21, 20, 19, 18, 17, 16);\n",
    "\"\"\"\n",
    "\n",
    "TOP_FILM = pd.read_sql(query, conn)\n"
   ]
  },
  {
   "cell_type": "code",
   "execution_count": null,
   "id": "01e0b785",
   "metadata": {},
   "outputs": [
    {
     "data": {
      "image/png": "[encoded data removed]",
      "text/plain": [
       "<Figure size 640x480 with 1 Axes>"
      ]
     },
     "metadata": {},
     "output_type": "display_data"
    }
   ],
   "source": [
    "TOP_FILM.plot(kind=\"bar\", x=\"Films_Names\", y=\"Stars\", title=\"Top Films by Stars\")\n",
    "plt.xlabel(\"Film Name\")\n",
    "plt.ylabel(\"Stars\")\n",
    "plt.show()"
   ]
  },
  {
   "cell_type": "markdown",
   "id": "51890adf",
   "metadata": {},
   "source": [
    "## - insight:\n",
    "\n",
    "- Top 1 --> Breaking Bad\n",
    "- Top 2 --> Dexter: Resurrection , Game of Thrones\n",
    "- Top 3 --> The Smashing Machine\n",
    "\n",
    "---\n"
   ]
  },
  {
   "cell_type": "code",
   "execution_count": null,
   "id": "d31d09d6",
   "metadata": {},
   "outputs": [
    {
     "name": "stderr",
     "output_type": "stream",
     "text": [
      "C:\\Users\\FreeComp\\AppData\\Local\\Temp\\ipykernel_3228\\560286374.py:10: UserWarning: pandas only supports SQLAlchemy connectable (engine/connection) or database string URI or sqlite3 DBAPI2 connection. Other DBAPI2 objects are not tested. Please consider using SQLAlchemy.\n",
      "  TOP3_FILM_POPULAR = pd.read_sql(query, conn)\n"
     ]
    },
    {
     "data": {
      "application/vnd.microsoft.datawrangler.viewer.v0+json": {
       "columns": [
        {
         "name": "index",
         "rawType": "int64",
         "type": "integer"
        },
        {
         "name": "Films_Names",
         "rawType": "object",
         "type": "string"
        },
        {
         "name": "Stars",
         "rawType": "float64",
         "type": "float"
        }
       ],
       "ref": "0888d52e-f582-4241-ba51-ff2996f4a43d",
       "rows": [
        [
         "0",
         "Breaking Bad",
         "9.5"
        ],
        [
         "1",
         "Game of Thrones",
         "9.199999809265137"
        ],
        [
         "2",
         "Dexter: Resurrection",
         "9.199999809265137"
        ],
        [
         "3",
         "The Smashing Machine",
         "8.800000190734863"
        ]
       ],
       "shape": {
        "columns": 2,
        "rows": 4
       }
      },
      "text/html": [
       "<div>\n",
       "<style scoped>\n",
       "    .dataframe tbody tr th:only-of-type {\n",
       "        vertical-align: middle;\n",
       "    }\n",
       "\n",
       "    .dataframe tbody tr th {\n",
       "        vertical-align: top;\n",
       "    }\n",
       "\n",
       "    .dataframe thead th {\n",
       "        text-align: right;\n",
       "    }\n",
       "</style>\n",
       "<table border=\"1\" class=\"dataframe\">\n",
       "  <thead>\n",
       "    <tr style=\"text-align: right;\">\n",
       "      <th></th>\n",
       "      <th>Films_Names</th>\n",
       "      <th>Stars</th>\n",
       "    </tr>\n",
       "  </thead>\n",
       "  <tbody>\n",
       "    <tr>\n",
       "      <th>0</th>\n",
       "      <td>Breaking Bad</td>\n",
       "      <td>9.5</td>\n",
       "    </tr>\n",
       "    <tr>\n",
       "      <th>1</th>\n",
       "      <td>Game of Thrones</td>\n",
       "      <td>9.2</td>\n",
       "    </tr>\n",
       "    <tr>\n",
       "      <th>2</th>\n",
       "      <td>Dexter: Resurrection</td>\n",
       "      <td>9.2</td>\n",
       "    </tr>\n",
       "    <tr>\n",
       "      <th>3</th>\n",
       "      <td>The Smashing Machine</td>\n",
       "      <td>8.8</td>\n",
       "    </tr>\n",
       "  </tbody>\n",
       "</table>\n",
       "</div>"
      ],
      "text/plain": [
       "            Films_Names  Stars\n",
       "0          Breaking Bad    9.5\n",
       "1       Game of Thrones    9.2\n",
       "2  Dexter: Resurrection    9.2\n",
       "3  The Smashing Machine    8.8"
      ]
     },
     "execution_count": 169,
     "metadata": {},
     "output_type": "execute_result"
    }
   ],
   "source": [
    "query =\"\"\"\n",
    "SELECT Films_Names , Stars FROM(\n",
    "SELECT TOP 11 Stars , Films_Names , DENSE_RANK() OVER(ORDER BY Stars) AS TOP_STAR\n",
    "FROM\n",
    "PopularFilms\n",
    "ORDER BY STARS DESC) AS NEW\n",
    "WHERE TOP_STAR IN (25, 24, 23);\n",
    "\"\"\"\n",
    "\n",
    "TOP3_FILM_POPULAR = pd.read_sql(query, conn)\n",
    "TOP3_FILM_POPULAR"
   ]
  },
  {
   "cell_type": "code",
   "execution_count": null,
   "id": "40c92841",
   "metadata": {},
   "outputs": [],
   "source": [
    "driver.get(\"https://www.imdb.com/title/tt0903747/?ref_=watch_pop_t_25\")"
   ]
  },
  {
   "cell_type": "code",
   "execution_count": null,
   "id": "5298ca39",
   "metadata": {},
   "outputs": [],
   "source": [
    "Breaking_categ = driver.find_elements(\"xpath\" , '//div/a[@class=\"ipc-chip ipc-chip--on-baseAlt\"]/span')"
   ]
  },
  {
   "cell_type": "code",
   "execution_count": null,
   "id": "b77b6fb5",
   "metadata": {},
   "outputs": [
    {
     "data": {
      "text/plain": [
       "'Dark Comedy , Drug Crime , Epic , Psychological Drama , Psychological Thriller , Tragedy , Crime , Drama , Thriller'"
      ]
     },
     "execution_count": 172,
     "metadata": {},
     "output_type": "execute_result"
    }
   ],
   "source": [
    "Breaking_categ_l = \" , \".join([cat.text for cat in Breaking_categ])\n",
    "Breaking_categ_l"
   ]
  },
  {
   "cell_type": "code",
   "execution_count": null,
   "id": "0ad5d3ff",
   "metadata": {},
   "outputs": [],
   "source": [
    "driver.get(\"https://www.imdb.com/title/tt0944947/?ref_=watch_pop_t_23\")"
   ]
  },
  {
   "cell_type": "code",
   "execution_count": null,
   "id": "56c93bed",
   "metadata": {},
   "outputs": [],
   "source": [
    "gameofthrones_categ = driver.find_elements(\"xpath\" , '//div/a[@class=\"ipc-chip ipc-chip--on-baseAlt\"]/span')"
   ]
  },
  {
   "cell_type": "code",
   "execution_count": null,
   "id": "11c788de",
   "metadata": {},
   "outputs": [
    {
     "data": {
      "text/plain": [
       "'Action Epic , Dark Fantasy , Epic , Fantasy Epic , Psychological Drama , Sword & Sorcery , Tragedy , Action , Adventure , Drama'"
      ]
     },
     "execution_count": 175,
     "metadata": {},
     "output_type": "execute_result"
    }
   ],
   "source": [
    "gameofthrones_categ_l = \" , \".join([cat.text for cat in gameofthrones_categ])\n",
    "gameofthrones_categ_l"
   ]
  },
  {
   "cell_type": "code",
   "execution_count": null,
   "id": "ab60bc4d",
   "metadata": {},
   "outputs": [],
   "source": [
    "driver.get(\"https://www.imdb.com/title/tt33043892/?ref_=watch_pop_t_2\")"
   ]
  },
  {
   "cell_type": "code",
   "execution_count": null,
   "id": "50779686",
   "metadata": {},
   "outputs": [],
   "source": [
    "dex_categ = driver.find_elements(\"xpath\" , '//div/a[@class=\"ipc-chip ipc-chip--on-baseAlt\"]/span')"
   ]
  },
  {
   "cell_type": "code",
   "execution_count": null,
   "id": "41bc4560",
   "metadata": {},
   "outputs": [
    {
     "data": {
      "text/plain": [
       "'Crime , Drama , Thriller'"
      ]
     },
     "execution_count": 178,
     "metadata": {},
     "output_type": "execute_result"
    }
   ],
   "source": [
    "dex_categ_l = \" , \".join([cat.text for cat in dex_categ])\n",
    "dex_categ_l"
   ]
  },
  {
   "cell_type": "code",
   "execution_count": null,
   "id": "1b8d32fe",
   "metadata": {},
   "outputs": [],
   "source": [
    "driver.get(\"https://www.imdb.com/title/tt11214558/?ref_=watch_pop_t_30\")"
   ]
  },
  {
   "cell_type": "code",
   "execution_count": null,
   "id": "256ac127",
   "metadata": {},
   "outputs": [],
   "source": [
    "smashing_categ = driver.find_elements(\"xpath\" , '//div/a[@class=\"ipc-chip ipc-chip--on-baseAlt\"]/span')"
   ]
  },
  {
   "cell_type": "code",
   "execution_count": null,
   "id": "3d2c4bea",
   "metadata": {},
   "outputs": [
    {
     "data": {
      "text/plain": [
       "'Boxing , Docudrama , Action , Biography , Drama , History , Sport'"
      ]
     },
     "execution_count": 181,
     "metadata": {},
     "output_type": "execute_result"
    }
   ],
   "source": [
    "smashing_categ_l = \" , \".join([cat.text for cat in smashing_categ])\n",
    "smashing_categ_l"
   ]
  },
  {
   "cell_type": "code",
   "execution_count": null,
   "id": "8ac5a580",
   "metadata": {},
   "outputs": [
    {
     "data": {
      "application/vnd.microsoft.datawrangler.viewer.v0+json": {
       "columns": [
        {
         "name": "index",
         "rawType": "int64",
         "type": "integer"
        },
        {
         "name": "Films_Names",
         "rawType": "object",
         "type": "string"
        },
        {
         "name": "Stars",
         "rawType": "float64",
         "type": "float"
        },
        {
         "name": "Category",
         "rawType": "object",
         "type": "string"
        }
       ],
       "ref": "95267249-b614-4f9b-a80b-d774aeff197c",
       "rows": [
        [
         "0",
         "Breaking Bad",
         "9.5",
         "Boxing , Docudrama , Action , Biography , Drama , History , Sport"
        ],
        [
         "1",
         "Game of Thrones",
         "9.199999809265137",
         "Crime , Drama , Thriller"
        ],
        [
         "2",
         "Dexter: Resurrection",
         "9.199999809265137",
         "Action Epic , Dark Fantasy , Epic , Fantasy Epic , Psychological Drama , Sword & Sorcery , Tragedy , Action , Adventure , Drama"
        ],
        [
         "3",
         "The Smashing Machine",
         "8.800000190734863",
         "Dark Comedy , Drug Crime , Epic , Psychological Drama , Psychological Thriller , Tragedy , Crime , Drama , Thriller"
        ]
       ],
       "shape": {
        "columns": 3,
        "rows": 4
       }
      },
      "text/html": [
       "<div>\n",
       "<style scoped>\n",
       "    .dataframe tbody tr th:only-of-type {\n",
       "        vertical-align: middle;\n",
       "    }\n",
       "\n",
       "    .dataframe tbody tr th {\n",
       "        vertical-align: top;\n",
       "    }\n",
       "\n",
       "    .dataframe thead th {\n",
       "        text-align: right;\n",
       "    }\n",
       "</style>\n",
       "<table border=\"1\" class=\"dataframe\">\n",
       "  <thead>\n",
       "    <tr style=\"text-align: right;\">\n",
       "      <th></th>\n",
       "      <th>Films_Names</th>\n",
       "      <th>Stars</th>\n",
       "      <th>Category</th>\n",
       "    </tr>\n",
       "  </thead>\n",
       "  <tbody>\n",
       "    <tr>\n",
       "      <th>0</th>\n",
       "      <td>Breaking Bad</td>\n",
       "      <td>9.5</td>\n",
       "      <td>Boxing , Docudrama , Action , Biography , Dram...</td>\n",
       "    </tr>\n",
       "    <tr>\n",
       "      <th>1</th>\n",
       "      <td>Game of Thrones</td>\n",
       "      <td>9.2</td>\n",
       "      <td>Crime , Drama , Thriller</td>\n",
       "    </tr>\n",
       "    <tr>\n",
       "      <th>2</th>\n",
       "      <td>Dexter: Resurrection</td>\n",
       "      <td>9.2</td>\n",
       "      <td>Action Epic , Dark Fantasy , Epic , Fantasy Ep...</td>\n",
       "    </tr>\n",
       "    <tr>\n",
       "      <th>3</th>\n",
       "      <td>The Smashing Machine</td>\n",
       "      <td>8.8</td>\n",
       "      <td>Dark Comedy , Drug Crime , Epic , Psychologica...</td>\n",
       "    </tr>\n",
       "  </tbody>\n",
       "</table>\n",
       "</div>"
      ],
      "text/plain": [
       "            Films_Names  Stars  \\\n",
       "0          Breaking Bad    9.5   \n",
       "1       Game of Thrones    9.2   \n",
       "2  Dexter: Resurrection    9.2   \n",
       "3  The Smashing Machine    8.8   \n",
       "\n",
       "                                            Category  \n",
       "0  Boxing , Docudrama , Action , Biography , Dram...  \n",
       "1                           Crime , Drama , Thriller  \n",
       "2  Action Epic , Dark Fantasy , Epic , Fantasy Ep...  \n",
       "3  Dark Comedy , Drug Crime , Epic , Psychologica...  "
      ]
     },
     "execution_count": 183,
     "metadata": {},
     "output_type": "execute_result"
    }
   ],
   "source": [
    "TOP3_FILM_POPULAR[\"Category\"] = [smashing_categ_l,dex_categ_l,gameofthrones_categ_l,Breaking_categ_l]\n",
    "TOP3_FILM_POPULAR"
   ]
  },
  {
   "cell_type": "code",
   "execution_count": null,
   "id": "d575864c",
   "metadata": {},
   "outputs": [],
   "source": [
    "Top3FilmPopular =TOP3_FILM_POPULAR.to_csv(\"Top3FilmPopular.csv\", index=False)"
   ]
  },
  {
   "cell_type": "markdown",
   "id": "b6b8210c",
   "metadata": {},
   "source": [
    "## - insight:\n",
    "\n",
    "- TOP3_FILM_POPULAR --> Crime , Action , Epic , Drama , Tragedy\n"
   ]
  },
  {
   "cell_type": "markdown",
   "id": "368f9751",
   "metadata": {},
   "source": [
    "---\n"
   ]
  },
  {
   "cell_type": "markdown",
   "id": "0853c0f6",
   "metadata": {},
   "source": [
    "## Top picks\n"
   ]
  },
  {
   "cell_type": "code",
   "execution_count": null,
   "id": "50415207",
   "metadata": {},
   "outputs": [],
   "source": [
    "df_fan_fav = pd.DataFrame()"
   ]
  },
  {
   "cell_type": "code",
   "execution_count": null,
   "id": "79f74c01",
   "metadata": {},
   "outputs": [],
   "source": [
    "driver.get(\"https://www.imdb.com/what-to-watch/fan-favorites/?ref_=watch_tpks_tb\")"
   ]
  },
  {
   "cell_type": "code",
   "execution_count": null,
   "id": "df87d44d",
   "metadata": {},
   "outputs": [],
   "source": [
    "fan_fav_name = driver.find_elements(\"xpath\" , '//div/a[@class=\"ipc-poster-card__title ipc-poster-card__title--clamp-2 ipc-poster-card__title--clickable\"]/span')"
   ]
  },
  {
   "cell_type": "code",
   "execution_count": null,
   "id": "8e64dd17",
   "metadata": {},
   "outputs": [
    {
     "data": {
      "application/vnd.microsoft.datawrangler.viewer.v0+json": {
       "columns": [
        {
         "name": "index",
         "rawType": "int64",
         "type": "integer"
        },
        {
         "name": "Names of Films",
         "rawType": "object",
         "type": "string"
        }
       ],
       "ref": "19706e96-b683-44c9-88ec-ff29f8007a75",
       "rows": [
        [
         "0",
         "Weapons"
        ],
        [
         "1",
         "Dexter: Resurrection"
        ],
        [
         "2",
         "F1: The Movie"
        ],
        [
         "3",
         "Superman"
        ],
        [
         "4",
         "Thunderbolts*"
        ],
        [
         "5",
         "Demon Slayer: Kimetsu no Yaiba - Infinity Castle"
        ],
        [
         "6",
         "Mission: Impossible - The Final Reckoning"
        ],
        [
         "7",
         "Alien: Earth"
        ],
        [
         "8",
         "Wednesday"
        ],
        [
         "9",
         "Sinners"
        ],
        [
         "10",
         "KPop Demon Hunters"
        ],
        [
         "11",
         "Caught Stealing"
        ],
        [
         "12",
         "Breaking Bad"
        ],
        [
         "13",
         "Interstellar"
        ],
        [
         "14",
         "Bring Her Back"
        ],
        [
         "15",
         "The Fantastic Four: First Steps"
        ],
        [
         "16",
         "The Shawshank Redemption"
        ],
        [
         "17",
         "The Dark Knight"
        ],
        [
         "18",
         "The Roses"
        ],
        [
         "19",
         "Fight Club"
        ],
        [
         "20",
         "Game of Thrones"
        ],
        [
         "21",
         "Dexter"
        ],
        [
         "22",
         "Inception"
        ],
        [
         "23",
         "The Smashing Machine"
        ],
        [
         "24",
         "Oppenheimer"
        ],
        [
         "25",
         "Se7en"
        ],
        [
         "26",
         "Forrest Gump"
        ],
        [
         "27",
         "The Conjuring"
        ],
        [
         "28",
         "Nobody"
        ],
        [
         "29",
         "Stranger Things"
        ],
        [
         "30",
         "Inglourious Basterds"
        ],
        [
         "31",
         "The Paper"
        ],
        [
         "32",
         "Better Call Saul"
        ],
        [
         "33",
         "Good Will Hunting"
        ],
        [
         "34",
         "Parasite"
        ],
        [
         "35",
         "Peacemaker"
        ],
        [
         "36",
         "The Terminal List: Dark Wolf"
        ],
        [
         "37",
         "The Life of Chuck"
        ],
        [
         "38",
         "MobLand"
        ],
        [
         "39",
         "Heretic"
        ],
        [
         "40",
         "The Wolf of Wall Street"
        ],
        [
         "41",
         "Django Unchained"
        ],
        [
         "42",
         "Pulp Fiction"
        ],
        [
         "43",
         "The Godfather"
        ],
        [
         "44",
         "Dept. Q"
        ],
        [
         "45",
         "The Lord of the Rings: The Fellowship of the Ring"
        ],
        [
         "46",
         "The Matrix"
        ],
        [
         "47",
         "Untamed"
        ]
       ],
       "shape": {
        "columns": 1,
        "rows": 48
       }
      },
      "text/html": [
       "<div>\n",
       "<style scoped>\n",
       "    .dataframe tbody tr th:only-of-type {\n",
       "        vertical-align: middle;\n",
       "    }\n",
       "\n",
       "    .dataframe tbody tr th {\n",
       "        vertical-align: top;\n",
       "    }\n",
       "\n",
       "    .dataframe thead th {\n",
       "        text-align: right;\n",
       "    }\n",
       "</style>\n",
       "<table border=\"1\" class=\"dataframe\">\n",
       "  <thead>\n",
       "    <tr style=\"text-align: right;\">\n",
       "      <th></th>\n",
       "      <th>Names of Films</th>\n",
       "    </tr>\n",
       "  </thead>\n",
       "  <tbody>\n",
       "    <tr>\n",
       "      <th>0</th>\n",
       "      <td>Weapons</td>\n",
       "    </tr>\n",
       "    <tr>\n",
       "      <th>1</th>\n",
       "      <td>Dexter: Resurrection</td>\n",
       "    </tr>\n",
       "    <tr>\n",
       "      <th>2</th>\n",
       "      <td>F1: The Movie</td>\n",
       "    </tr>\n",
       "    <tr>\n",
       "      <th>3</th>\n",
       "      <td>Superman</td>\n",
       "    </tr>\n",
       "    <tr>\n",
       "      <th>4</th>\n",
       "      <td>Thunderbolts*</td>\n",
       "    </tr>\n",
       "    <tr>\n",
       "      <th>5</th>\n",
       "      <td>Demon Slayer: Kimetsu no Yaiba - Infinity Castle</td>\n",
       "    </tr>\n",
       "    <tr>\n",
       "      <th>6</th>\n",
       "      <td>Mission: Impossible - The Final Reckoning</td>\n",
       "    </tr>\n",
       "    <tr>\n",
       "      <th>7</th>\n",
       "      <td>Alien: Earth</td>\n",
       "    </tr>\n",
       "    <tr>\n",
       "      <th>8</th>\n",
       "      <td>Wednesday</td>\n",
       "    </tr>\n",
       "    <tr>\n",
       "      <th>9</th>\n",
       "      <td>Sinners</td>\n",
       "    </tr>\n",
       "    <tr>\n",
       "      <th>10</th>\n",
       "      <td>KPop Demon Hunters</td>\n",
       "    </tr>\n",
       "    <tr>\n",
       "      <th>11</th>\n",
       "      <td>Caught Stealing</td>\n",
       "    </tr>\n",
       "    <tr>\n",
       "      <th>12</th>\n",
       "      <td>Breaking Bad</td>\n",
       "    </tr>\n",
       "    <tr>\n",
       "      <th>13</th>\n",
       "      <td>Interstellar</td>\n",
       "    </tr>\n",
       "    <tr>\n",
       "      <th>14</th>\n",
       "      <td>Bring Her Back</td>\n",
       "    </tr>\n",
       "    <tr>\n",
       "      <th>15</th>\n",
       "      <td>The Fantastic Four: First Steps</td>\n",
       "    </tr>\n",
       "    <tr>\n",
       "      <th>16</th>\n",
       "      <td>The Shawshank Redemption</td>\n",
       "    </tr>\n",
       "    <tr>\n",
       "      <th>17</th>\n",
       "      <td>The Dark Knight</td>\n",
       "    </tr>\n",
       "    <tr>\n",
       "      <th>18</th>\n",
       "      <td>The Roses</td>\n",
       "    </tr>\n",
       "    <tr>\n",
       "      <th>19</th>\n",
       "      <td>Fight Club</td>\n",
       "    </tr>\n",
       "    <tr>\n",
       "      <th>20</th>\n",
       "      <td>Game of Thrones</td>\n",
       "    </tr>\n",
       "    <tr>\n",
       "      <th>21</th>\n",
       "      <td>Dexter</td>\n",
       "    </tr>\n",
       "    <tr>\n",
       "      <th>22</th>\n",
       "      <td>Inception</td>\n",
       "    </tr>\n",
       "    <tr>\n",
       "      <th>23</th>\n",
       "      <td>The Smashing Machine</td>\n",
       "    </tr>\n",
       "    <tr>\n",
       "      <th>24</th>\n",
       "      <td>Oppenheimer</td>\n",
       "    </tr>\n",
       "    <tr>\n",
       "      <th>25</th>\n",
       "      <td>Se7en</td>\n",
       "    </tr>\n",
       "    <tr>\n",
       "      <th>26</th>\n",
       "      <td>Forrest Gump</td>\n",
       "    </tr>\n",
       "    <tr>\n",
       "      <th>27</th>\n",
       "      <td>The Conjuring</td>\n",
       "    </tr>\n",
       "    <tr>\n",
       "      <th>28</th>\n",
       "      <td>Nobody</td>\n",
       "    </tr>\n",
       "    <tr>\n",
       "      <th>29</th>\n",
       "      <td>Stranger Things</td>\n",
       "    </tr>\n",
       "    <tr>\n",
       "      <th>30</th>\n",
       "      <td>Inglourious Basterds</td>\n",
       "    </tr>\n",
       "    <tr>\n",
       "      <th>31</th>\n",
       "      <td>The Paper</td>\n",
       "    </tr>\n",
       "    <tr>\n",
       "      <th>32</th>\n",
       "      <td>Better Call Saul</td>\n",
       "    </tr>\n",
       "    <tr>\n",
       "      <th>33</th>\n",
       "      <td>Good Will Hunting</td>\n",
       "    </tr>\n",
       "    <tr>\n",
       "      <th>34</th>\n",
       "      <td>Parasite</td>\n",
       "    </tr>\n",
       "    <tr>\n",
       "      <th>35</th>\n",
       "      <td>Peacemaker</td>\n",
       "    </tr>\n",
       "    <tr>\n",
       "      <th>36</th>\n",
       "      <td>The Terminal List: Dark Wolf</td>\n",
       "    </tr>\n",
       "    <tr>\n",
       "      <th>37</th>\n",
       "      <td>The Life of Chuck</td>\n",
       "    </tr>\n",
       "    <tr>\n",
       "      <th>38</th>\n",
       "      <td>MobLand</td>\n",
       "    </tr>\n",
       "    <tr>\n",
       "      <th>39</th>\n",
       "      <td>Heretic</td>\n",
       "    </tr>\n",
       "    <tr>\n",
       "      <th>40</th>\n",
       "      <td>The Wolf of Wall Street</td>\n",
       "    </tr>\n",
       "    <tr>\n",
       "      <th>41</th>\n",
       "      <td>Django Unchained</td>\n",
       "    </tr>\n",
       "    <tr>\n",
       "      <th>42</th>\n",
       "      <td>Pulp Fiction</td>\n",
       "    </tr>\n",
       "    <tr>\n",
       "      <th>43</th>\n",
       "      <td>The Godfather</td>\n",
       "    </tr>\n",
       "    <tr>\n",
       "      <th>44</th>\n",
       "      <td>Dept. Q</td>\n",
       "    </tr>\n",
       "    <tr>\n",
       "      <th>45</th>\n",
       "      <td>The Lord of the Rings: The Fellowship of the Ring</td>\n",
       "    </tr>\n",
       "    <tr>\n",
       "      <th>46</th>\n",
       "      <td>The Matrix</td>\n",
       "    </tr>\n",
       "    <tr>\n",
       "      <th>47</th>\n",
       "      <td>Untamed</td>\n",
       "    </tr>\n",
       "  </tbody>\n",
       "</table>\n",
       "</div>"
      ],
      "text/plain": [
       "                                       Names of Films\n",
       "0                                             Weapons\n",
       "1                                Dexter: Resurrection\n",
       "2                                       F1: The Movie\n",
       "3                                            Superman\n",
       "4                                       Thunderbolts*\n",
       "5    Demon Slayer: Kimetsu no Yaiba - Infinity Castle\n",
       "6           Mission: Impossible - The Final Reckoning\n",
       "7                                        Alien: Earth\n",
       "8                                           Wednesday\n",
       "9                                             Sinners\n",
       "10                                 KPop Demon Hunters\n",
       "11                                    Caught Stealing\n",
       "12                                       Breaking Bad\n",
       "13                                       Interstellar\n",
       "14                                     Bring Her Back\n",
       "15                    The Fantastic Four: First Steps\n",
       "16                           The Shawshank Redemption\n",
       "17                                    The Dark Knight\n",
       "18                                          The Roses\n",
       "19                                         Fight Club\n",
       "20                                    Game of Thrones\n",
       "21                                             Dexter\n",
       "22                                          Inception\n",
       "23                               The Smashing Machine\n",
       "24                                        Oppenheimer\n",
       "25                                              Se7en\n",
       "26                                       Forrest Gump\n",
       "27                                      The Conjuring\n",
       "28                                             Nobody\n",
       "29                                    Stranger Things\n",
       "30                               Inglourious Basterds\n",
       "31                                          The Paper\n",
       "32                                   Better Call Saul\n",
       "33                                  Good Will Hunting\n",
       "34                                           Parasite\n",
       "35                                         Peacemaker\n",
       "36                       The Terminal List: Dark Wolf\n",
       "37                                  The Life of Chuck\n",
       "38                                            MobLand\n",
       "39                                            Heretic\n",
       "40                            The Wolf of Wall Street\n",
       "41                                   Django Unchained\n",
       "42                                       Pulp Fiction\n",
       "43                                      The Godfather\n",
       "44                                            Dept. Q\n",
       "45  The Lord of the Rings: The Fellowship of the Ring\n",
       "46                                         The Matrix\n",
       "47                                            Untamed"
      ]
     },
     "execution_count": 40,
     "metadata": {},
     "output_type": "execute_result"
    }
   ],
   "source": [
    "fan_fav_name_l = [name.text for name in fan_fav_name]\n",
    "df_fan_fav[\"Names of Films\"] = fan_fav_name_l\n",
    "df_fan_fav"
   ]
  },
  {
   "cell_type": "code",
   "execution_count": null,
   "id": "711190ed",
   "metadata": {},
   "outputs": [],
   "source": [
    "fan_fav_stars = driver.find_elements(\"xpath\" , '//span[@class=\"ipc-rating-star--rating\"]')"
   ]
  },
  {
   "cell_type": "code",
   "execution_count": null,
   "id": "f2c068fb",
   "metadata": {},
   "outputs": [
    {
     "data": {
      "application/vnd.microsoft.datawrangler.viewer.v0+json": {
       "columns": [
        {
         "name": "index",
         "rawType": "int64",
         "type": "integer"
        },
        {
         "name": "Names of Films",
         "rawType": "object",
         "type": "string"
        },
        {
         "name": "Stars of Films",
         "rawType": "object",
         "type": "string"
        }
       ],
       "ref": "0725338b-d973-4048-87e3-e55a5d1c28ab",
       "rows": [
        [
         "0",
         "Weapons",
         "7.7"
        ],
        [
         "1",
         "Dexter: Resurrection",
         "9.2"
        ],
        [
         "2",
         "F1: The Movie",
         "7.8"
        ],
        [
         "3",
         "Superman",
         "7.2"
        ],
        [
         "4",
         "Thunderbolts*",
         "7.2"
        ],
        [
         "5",
         "Demon Slayer: Kimetsu no Yaiba - Infinity Castle",
         "8.7"
        ],
        [
         "6",
         "Mission: Impossible - The Final Reckoning",
         "7.3"
        ],
        [
         "7",
         "Alien: Earth",
         "7.6"
        ],
        [
         "8",
         "Wednesday",
         "8.0"
        ],
        [
         "9",
         "Sinners",
         "7.6"
        ],
        [
         "10",
         "KPop Demon Hunters",
         "7.6"
        ],
        [
         "11",
         "Caught Stealing",
         "7.3"
        ],
        [
         "12",
         "Breaking Bad",
         "9.5"
        ],
        [
         "13",
         "Interstellar",
         "8.7"
        ],
        [
         "14",
         "Bring Her Back",
         "7.2"
        ],
        [
         "15",
         "The Fantastic Four: First Steps",
         "7.3"
        ],
        [
         "16",
         "The Shawshank Redemption",
         "9.3"
        ],
        [
         "17",
         "The Dark Knight",
         "9.1"
        ],
        [
         "18",
         "The Roses",
         "7.0"
        ],
        [
         "19",
         "Fight Club",
         "8.8"
        ],
        [
         "20",
         "Game of Thrones",
         "9.2"
        ],
        [
         "21",
         "Dexter",
         "8.6"
        ],
        [
         "22",
         "Inception",
         "8.8"
        ],
        [
         "23",
         "The Smashing Machine",
         "8.8"
        ],
        [
         "24",
         "Oppenheimer",
         "8.3"
        ],
        [
         "25",
         "Se7en",
         "8.6"
        ],
        [
         "26",
         "Forrest Gump",
         "8.8"
        ],
        [
         "27",
         "The Conjuring",
         "7.5"
        ],
        [
         "28",
         "Nobody",
         "7.4"
        ],
        [
         "29",
         "Stranger Things",
         "8.6"
        ],
        [
         "30",
         "Inglourious Basterds",
         "8.4"
        ],
        [
         "31",
         "The Paper",
         "7.1"
        ],
        [
         "32",
         "Better Call Saul",
         "9.0"
        ],
        [
         "33",
         "Good Will Hunting",
         "8.3"
        ],
        [
         "34",
         "Parasite",
         "8.5"
        ],
        [
         "35",
         "Peacemaker",
         "8.3"
        ],
        [
         "36",
         "The Terminal List: Dark Wolf",
         "7.9"
        ],
        [
         "37",
         "The Life of Chuck",
         "7.4"
        ],
        [
         "38",
         "MobLand",
         "8.4"
        ],
        [
         "39",
         "Heretic",
         "7.0"
        ],
        [
         "40",
         "The Wolf of Wall Street",
         "8.2"
        ],
        [
         "41",
         "Django Unchained",
         "8.5"
        ],
        [
         "42",
         "Pulp Fiction",
         "8.8"
        ],
        [
         "43",
         "The Godfather",
         "9.2"
        ],
        [
         "44",
         "Dept. Q",
         "8.2"
        ],
        [
         "45",
         "The Lord of the Rings: The Fellowship of the Ring",
         "8.9"
        ],
        [
         "46",
         "The Matrix",
         "8.7"
        ],
        [
         "47",
         "Untamed",
         "7.2"
        ]
       ],
       "shape": {
        "columns": 2,
        "rows": 48
       }
      },
      "text/html": [
       "<div>\n",
       "<style scoped>\n",
       "    .dataframe tbody tr th:only-of-type {\n",
       "        vertical-align: middle;\n",
       "    }\n",
       "\n",
       "    .dataframe tbody tr th {\n",
       "        vertical-align: top;\n",
       "    }\n",
       "\n",
       "    .dataframe thead th {\n",
       "        text-align: right;\n",
       "    }\n",
       "</style>\n",
       "<table border=\"1\" class=\"dataframe\">\n",
       "  <thead>\n",
       "    <tr style=\"text-align: right;\">\n",
       "      <th></th>\n",
       "      <th>Names of Films</th>\n",
       "      <th>Stars of Films</th>\n",
       "    </tr>\n",
       "  </thead>\n",
       "  <tbody>\n",
       "    <tr>\n",
       "      <th>0</th>\n",
       "      <td>Weapons</td>\n",
       "      <td>7.7</td>\n",
       "    </tr>\n",
       "    <tr>\n",
       "      <th>1</th>\n",
       "      <td>Dexter: Resurrection</td>\n",
       "      <td>9.2</td>\n",
       "    </tr>\n",
       "    <tr>\n",
       "      <th>2</th>\n",
       "      <td>F1: The Movie</td>\n",
       "      <td>7.8</td>\n",
       "    </tr>\n",
       "    <tr>\n",
       "      <th>3</th>\n",
       "      <td>Superman</td>\n",
       "      <td>7.2</td>\n",
       "    </tr>\n",
       "    <tr>\n",
       "      <th>4</th>\n",
       "      <td>Thunderbolts*</td>\n",
       "      <td>7.2</td>\n",
       "    </tr>\n",
       "    <tr>\n",
       "      <th>5</th>\n",
       "      <td>Demon Slayer: Kimetsu no Yaiba - Infinity Castle</td>\n",
       "      <td>8.7</td>\n",
       "    </tr>\n",
       "    <tr>\n",
       "      <th>6</th>\n",
       "      <td>Mission: Impossible - The Final Reckoning</td>\n",
       "      <td>7.3</td>\n",
       "    </tr>\n",
       "    <tr>\n",
       "      <th>7</th>\n",
       "      <td>Alien: Earth</td>\n",
       "      <td>7.6</td>\n",
       "    </tr>\n",
       "    <tr>\n",
       "      <th>8</th>\n",
       "      <td>Wednesday</td>\n",
       "      <td>8.0</td>\n",
       "    </tr>\n",
       "    <tr>\n",
       "      <th>9</th>\n",
       "      <td>Sinners</td>\n",
       "      <td>7.6</td>\n",
       "    </tr>\n",
       "    <tr>\n",
       "      <th>10</th>\n",
       "      <td>KPop Demon Hunters</td>\n",
       "      <td>7.6</td>\n",
       "    </tr>\n",
       "    <tr>\n",
       "      <th>11</th>\n",
       "      <td>Caught Stealing</td>\n",
       "      <td>7.3</td>\n",
       "    </tr>\n",
       "    <tr>\n",
       "      <th>12</th>\n",
       "      <td>Breaking Bad</td>\n",
       "      <td>9.5</td>\n",
       "    </tr>\n",
       "    <tr>\n",
       "      <th>13</th>\n",
       "      <td>Interstellar</td>\n",
       "      <td>8.7</td>\n",
       "    </tr>\n",
       "    <tr>\n",
       "      <th>14</th>\n",
       "      <td>Bring Her Back</td>\n",
       "      <td>7.2</td>\n",
       "    </tr>\n",
       "    <tr>\n",
       "      <th>15</th>\n",
       "      <td>The Fantastic Four: First Steps</td>\n",
       "      <td>7.3</td>\n",
       "    </tr>\n",
       "    <tr>\n",
       "      <th>16</th>\n",
       "      <td>The Shawshank Redemption</td>\n",
       "      <td>9.3</td>\n",
       "    </tr>\n",
       "    <tr>\n",
       "      <th>17</th>\n",
       "      <td>The Dark Knight</td>\n",
       "      <td>9.1</td>\n",
       "    </tr>\n",
       "    <tr>\n",
       "      <th>18</th>\n",
       "      <td>The Roses</td>\n",
       "      <td>7.0</td>\n",
       "    </tr>\n",
       "    <tr>\n",
       "      <th>19</th>\n",
       "      <td>Fight Club</td>\n",
       "      <td>8.8</td>\n",
       "    </tr>\n",
       "    <tr>\n",
       "      <th>20</th>\n",
       "      <td>Game of Thrones</td>\n",
       "      <td>9.2</td>\n",
       "    </tr>\n",
       "    <tr>\n",
       "      <th>21</th>\n",
       "      <td>Dexter</td>\n",
       "      <td>8.6</td>\n",
       "    </tr>\n",
       "    <tr>\n",
       "      <th>22</th>\n",
       "      <td>Inception</td>\n",
       "      <td>8.8</td>\n",
       "    </tr>\n",
       "    <tr>\n",
       "      <th>23</th>\n",
       "      <td>The Smashing Machine</td>\n",
       "      <td>8.8</td>\n",
       "    </tr>\n",
       "    <tr>\n",
       "      <th>24</th>\n",
       "      <td>Oppenheimer</td>\n",
       "      <td>8.3</td>\n",
       "    </tr>\n",
       "    <tr>\n",
       "      <th>25</th>\n",
       "      <td>Se7en</td>\n",
       "      <td>8.6</td>\n",
       "    </tr>\n",
       "    <tr>\n",
       "      <th>26</th>\n",
       "      <td>Forrest Gump</td>\n",
       "      <td>8.8</td>\n",
       "    </tr>\n",
       "    <tr>\n",
       "      <th>27</th>\n",
       "      <td>The Conjuring</td>\n",
       "      <td>7.5</td>\n",
       "    </tr>\n",
       "    <tr>\n",
       "      <th>28</th>\n",
       "      <td>Nobody</td>\n",
       "      <td>7.4</td>\n",
       "    </tr>\n",
       "    <tr>\n",
       "      <th>29</th>\n",
       "      <td>Stranger Things</td>\n",
       "      <td>8.6</td>\n",
       "    </tr>\n",
       "    <tr>\n",
       "      <th>30</th>\n",
       "      <td>Inglourious Basterds</td>\n",
       "      <td>8.4</td>\n",
       "    </tr>\n",
       "    <tr>\n",
       "      <th>31</th>\n",
       "      <td>The Paper</td>\n",
       "      <td>7.1</td>\n",
       "    </tr>\n",
       "    <tr>\n",
       "      <th>32</th>\n",
       "      <td>Better Call Saul</td>\n",
       "      <td>9.0</td>\n",
       "    </tr>\n",
       "    <tr>\n",
       "      <th>33</th>\n",
       "      <td>Good Will Hunting</td>\n",
       "      <td>8.3</td>\n",
       "    </tr>\n",
       "    <tr>\n",
       "      <th>34</th>\n",
       "      <td>Parasite</td>\n",
       "      <td>8.5</td>\n",
       "    </tr>\n",
       "    <tr>\n",
       "      <th>35</th>\n",
       "      <td>Peacemaker</td>\n",
       "      <td>8.3</td>\n",
       "    </tr>\n",
       "    <tr>\n",
       "      <th>36</th>\n",
       "      <td>The Terminal List: Dark Wolf</td>\n",
       "      <td>7.9</td>\n",
       "    </tr>\n",
       "    <tr>\n",
       "      <th>37</th>\n",
       "      <td>The Life of Chuck</td>\n",
       "      <td>7.4</td>\n",
       "    </tr>\n",
       "    <tr>\n",
       "      <th>38</th>\n",
       "      <td>MobLand</td>\n",
       "      <td>8.4</td>\n",
       "    </tr>\n",
       "    <tr>\n",
       "      <th>39</th>\n",
       "      <td>Heretic</td>\n",
       "      <td>7.0</td>\n",
       "    </tr>\n",
       "    <tr>\n",
       "      <th>40</th>\n",
       "      <td>The Wolf of Wall Street</td>\n",
       "      <td>8.2</td>\n",
       "    </tr>\n",
       "    <tr>\n",
       "      <th>41</th>\n",
       "      <td>Django Unchained</td>\n",
       "      <td>8.5</td>\n",
       "    </tr>\n",
       "    <tr>\n",
       "      <th>42</th>\n",
       "      <td>Pulp Fiction</td>\n",
       "      <td>8.8</td>\n",
       "    </tr>\n",
       "    <tr>\n",
       "      <th>43</th>\n",
       "      <td>The Godfather</td>\n",
       "      <td>9.2</td>\n",
       "    </tr>\n",
       "    <tr>\n",
       "      <th>44</th>\n",
       "      <td>Dept. Q</td>\n",
       "      <td>8.2</td>\n",
       "    </tr>\n",
       "    <tr>\n",
       "      <th>45</th>\n",
       "      <td>The Lord of the Rings: The Fellowship of the Ring</td>\n",
       "      <td>8.9</td>\n",
       "    </tr>\n",
       "    <tr>\n",
       "      <th>46</th>\n",
       "      <td>The Matrix</td>\n",
       "      <td>8.7</td>\n",
       "    </tr>\n",
       "    <tr>\n",
       "      <th>47</th>\n",
       "      <td>Untamed</td>\n",
       "      <td>7.2</td>\n",
       "    </tr>\n",
       "  </tbody>\n",
       "</table>\n",
       "</div>"
      ],
      "text/plain": [
       "                                       Names of Films Stars of Films\n",
       "0                                             Weapons            7.7\n",
       "1                                Dexter: Resurrection            9.2\n",
       "2                                       F1: The Movie            7.8\n",
       "3                                            Superman            7.2\n",
       "4                                       Thunderbolts*            7.2\n",
       "5    Demon Slayer: Kimetsu no Yaiba - Infinity Castle            8.7\n",
       "6           Mission: Impossible - The Final Reckoning            7.3\n",
       "7                                        Alien: Earth            7.6\n",
       "8                                           Wednesday            8.0\n",
       "9                                             Sinners            7.6\n",
       "10                                 KPop Demon Hunters            7.6\n",
       "11                                    Caught Stealing            7.3\n",
       "12                                       Breaking Bad            9.5\n",
       "13                                       Interstellar            8.7\n",
       "14                                     Bring Her Back            7.2\n",
       "15                    The Fantastic Four: First Steps            7.3\n",
       "16                           The Shawshank Redemption            9.3\n",
       "17                                    The Dark Knight            9.1\n",
       "18                                          The Roses            7.0\n",
       "19                                         Fight Club            8.8\n",
       "20                                    Game of Thrones            9.2\n",
       "21                                             Dexter            8.6\n",
       "22                                          Inception            8.8\n",
       "23                               The Smashing Machine            8.8\n",
       "24                                        Oppenheimer            8.3\n",
       "25                                              Se7en            8.6\n",
       "26                                       Forrest Gump            8.8\n",
       "27                                      The Conjuring            7.5\n",
       "28                                             Nobody            7.4\n",
       "29                                    Stranger Things            8.6\n",
       "30                               Inglourious Basterds            8.4\n",
       "31                                          The Paper            7.1\n",
       "32                                   Better Call Saul            9.0\n",
       "33                                  Good Will Hunting            8.3\n",
       "34                                           Parasite            8.5\n",
       "35                                         Peacemaker            8.3\n",
       "36                       The Terminal List: Dark Wolf            7.9\n",
       "37                                  The Life of Chuck            7.4\n",
       "38                                            MobLand            8.4\n",
       "39                                            Heretic            7.0\n",
       "40                            The Wolf of Wall Street            8.2\n",
       "41                                   Django Unchained            8.5\n",
       "42                                       Pulp Fiction            8.8\n",
       "43                                      The Godfather            9.2\n",
       "44                                            Dept. Q            8.2\n",
       "45  The Lord of the Rings: The Fellowship of the Ring            8.9\n",
       "46                                         The Matrix            8.7\n",
       "47                                            Untamed            7.2"
      ]
     },
     "execution_count": 42,
     "metadata": {},
     "output_type": "execute_result"
    }
   ],
   "source": [
    "fan_fav_stars_l = [star.text for star in fan_fav_stars]\n",
    "df_fan_fav[\"Stars of Films\"] = fan_fav_stars_l\n",
    "df_fan_fav"
   ]
  },
  {
   "cell_type": "code",
   "execution_count": null,
   "id": "9a7d2c37",
   "metadata": {},
   "outputs": [
    {
     "name": "stdout",
     "output_type": "stream",
     "text": [
      "<class 'pandas.core.frame.DataFrame'>\n",
      "RangeIndex: 48 entries, 0 to 47\n",
      "Data columns (total 2 columns):\n",
      " #   Column          Non-Null Count  Dtype \n",
      "---  ------          --------------  ----- \n",
      " 0   Names of Films  48 non-null     object\n",
      " 1   Stars of Films  48 non-null     object\n",
      "dtypes: object(2)\n",
      "memory usage: 900.0+ bytes\n"
     ]
    }
   ],
   "source": [
    "df_fan_fav.info()"
   ]
  },
  {
   "cell_type": "code",
   "execution_count": null,
   "id": "3536c6ac",
   "metadata": {},
   "outputs": [],
   "source": [
    "df_fan_fav[\"Stars of Films\"] = df_fan_fav[\"Stars of Films\"].astype(\"Float64\")"
   ]
  },
  {
   "cell_type": "code",
   "execution_count": null,
   "id": "454b5ccc",
   "metadata": {},
   "outputs": [
    {
     "name": "stdout",
     "output_type": "stream",
     "text": [
      "<class 'pandas.core.frame.DataFrame'>\n",
      "RangeIndex: 48 entries, 0 to 47\n",
      "Data columns (total 2 columns):\n",
      " #   Column          Non-Null Count  Dtype  \n",
      "---  ------          --------------  -----  \n",
      " 0   Names of Films  48 non-null     object \n",
      " 1   Stars of Films  48 non-null     Float64\n",
      "dtypes: Float64(1), object(1)\n",
      "memory usage: 948.0+ bytes\n"
     ]
    }
   ],
   "source": [
    "df_fan_fav.info()"
   ]
  },
  {
   "cell_type": "code",
   "execution_count": null,
   "id": "019c6b8f",
   "metadata": {},
   "outputs": [
    {
     "data": {
      "application/vnd.microsoft.datawrangler.viewer.v0+json": {
       "columns": [
        {
         "name": "index",
         "rawType": "int64",
         "type": "integer"
        },
        {
         "name": "Names of Films",
         "rawType": "object",
         "type": "string"
        },
        {
         "name": "Stars of Films",
         "rawType": "Float64",
         "type": "float"
        }
       ],
       "ref": "114e9537-d718-4657-a270-795507e4d86f",
       "rows": [
        [
         "0",
         "Weapons",
         "7.7"
        ],
        [
         "1",
         "Dexter: Resurrection",
         "9.2"
        ],
        [
         "2",
         "F1: The Movie",
         "7.8"
        ],
        [
         "3",
         "Superman",
         "7.2"
        ],
        [
         "4",
         "Thunderbolts*",
         "7.2"
        ],
        [
         "5",
         "Demon Slayer: Kimetsu no Yaiba - Infinity Castle",
         "8.7"
        ],
        [
         "6",
         "Mission: Impossible - The Final Reckoning",
         "7.3"
        ],
        [
         "7",
         "Alien: Earth",
         "7.6"
        ],
        [
         "8",
         "Wednesday",
         "8.0"
        ],
        [
         "9",
         "Sinners",
         "7.6"
        ],
        [
         "10",
         "KPop Demon Hunters",
         "7.6"
        ],
        [
         "11",
         "Caught Stealing",
         "7.3"
        ],
        [
         "12",
         "Breaking Bad",
         "9.5"
        ],
        [
         "13",
         "Interstellar",
         "8.7"
        ],
        [
         "14",
         "Bring Her Back",
         "7.2"
        ],
        [
         "15",
         "The Fantastic Four: First Steps",
         "7.3"
        ],
        [
         "16",
         "The Shawshank Redemption",
         "9.3"
        ],
        [
         "17",
         "The Dark Knight",
         "9.1"
        ],
        [
         "18",
         "The Roses",
         "7.0"
        ],
        [
         "19",
         "Fight Club",
         "8.8"
        ],
        [
         "20",
         "Game of Thrones",
         "9.2"
        ],
        [
         "21",
         "Dexter",
         "8.6"
        ],
        [
         "22",
         "Inception",
         "8.8"
        ],
        [
         "23",
         "The Smashing Machine",
         "8.8"
        ],
        [
         "24",
         "Oppenheimer",
         "8.3"
        ],
        [
         "25",
         "Se7en",
         "8.6"
        ],
        [
         "26",
         "Forrest Gump",
         "8.8"
        ],
        [
         "27",
         "The Conjuring",
         "7.5"
        ],
        [
         "28",
         "Nobody",
         "7.4"
        ],
        [
         "29",
         "Stranger Things",
         "8.6"
        ],
        [
         "30",
         "Inglourious Basterds",
         "8.4"
        ],
        [
         "31",
         "The Paper",
         "7.1"
        ],
        [
         "32",
         "Better Call Saul",
         "9.0"
        ],
        [
         "33",
         "Good Will Hunting",
         "8.3"
        ],
        [
         "34",
         "Parasite",
         "8.5"
        ],
        [
         "35",
         "Peacemaker",
         "8.3"
        ],
        [
         "36",
         "The Terminal List: Dark Wolf",
         "7.9"
        ],
        [
         "37",
         "The Life of Chuck",
         "7.4"
        ],
        [
         "38",
         "MobLand",
         "8.4"
        ],
        [
         "39",
         "Heretic",
         "7.0"
        ],
        [
         "40",
         "The Wolf of Wall Street",
         "8.2"
        ],
        [
         "41",
         "Django Unchained",
         "8.5"
        ],
        [
         "42",
         "Pulp Fiction",
         "8.8"
        ],
        [
         "43",
         "The Godfather",
         "9.2"
        ],
        [
         "44",
         "Dept. Q",
         "8.2"
        ],
        [
         "45",
         "The Lord of the Rings: The Fellowship of the Ring",
         "8.9"
        ],
        [
         "46",
         "The Matrix",
         "8.7"
        ],
        [
         "47",
         "Untamed",
         "7.2"
        ]
       ],
       "shape": {
        "columns": 2,
        "rows": 48
       }
      },
      "text/html": [
       "<div>\n",
       "<style scoped>\n",
       "    .dataframe tbody tr th:only-of-type {\n",
       "        vertical-align: middle;\n",
       "    }\n",
       "\n",
       "    .dataframe tbody tr th {\n",
       "        vertical-align: top;\n",
       "    }\n",
       "\n",
       "    .dataframe thead th {\n",
       "        text-align: right;\n",
       "    }\n",
       "</style>\n",
       "<table border=\"1\" class=\"dataframe\">\n",
       "  <thead>\n",
       "    <tr style=\"text-align: right;\">\n",
       "      <th></th>\n",
       "      <th>Names of Films</th>\n",
       "      <th>Stars of Films</th>\n",
       "    </tr>\n",
       "  </thead>\n",
       "  <tbody>\n",
       "    <tr>\n",
       "      <th>0</th>\n",
       "      <td>Weapons</td>\n",
       "      <td>7.7</td>\n",
       "    </tr>\n",
       "    <tr>\n",
       "      <th>1</th>\n",
       "      <td>Dexter: Resurrection</td>\n",
       "      <td>9.2</td>\n",
       "    </tr>\n",
       "    <tr>\n",
       "      <th>2</th>\n",
       "      <td>F1: The Movie</td>\n",
       "      <td>7.8</td>\n",
       "    </tr>\n",
       "    <tr>\n",
       "      <th>3</th>\n",
       "      <td>Superman</td>\n",
       "      <td>7.2</td>\n",
       "    </tr>\n",
       "    <tr>\n",
       "      <th>4</th>\n",
       "      <td>Thunderbolts*</td>\n",
       "      <td>7.2</td>\n",
       "    </tr>\n",
       "    <tr>\n",
       "      <th>5</th>\n",
       "      <td>Demon Slayer: Kimetsu no Yaiba - Infinity Castle</td>\n",
       "      <td>8.7</td>\n",
       "    </tr>\n",
       "    <tr>\n",
       "      <th>6</th>\n",
       "      <td>Mission: Impossible - The Final Reckoning</td>\n",
       "      <td>7.3</td>\n",
       "    </tr>\n",
       "    <tr>\n",
       "      <th>7</th>\n",
       "      <td>Alien: Earth</td>\n",
       "      <td>7.6</td>\n",
       "    </tr>\n",
       "    <tr>\n",
       "      <th>8</th>\n",
       "      <td>Wednesday</td>\n",
       "      <td>8.0</td>\n",
       "    </tr>\n",
       "    <tr>\n",
       "      <th>9</th>\n",
       "      <td>Sinners</td>\n",
       "      <td>7.6</td>\n",
       "    </tr>\n",
       "    <tr>\n",
       "      <th>10</th>\n",
       "      <td>KPop Demon Hunters</td>\n",
       "      <td>7.6</td>\n",
       "    </tr>\n",
       "    <tr>\n",
       "      <th>11</th>\n",
       "      <td>Caught Stealing</td>\n",
       "      <td>7.3</td>\n",
       "    </tr>\n",
       "    <tr>\n",
       "      <th>12</th>\n",
       "      <td>Breaking Bad</td>\n",
       "      <td>9.5</td>\n",
       "    </tr>\n",
       "    <tr>\n",
       "      <th>13</th>\n",
       "      <td>Interstellar</td>\n",
       "      <td>8.7</td>\n",
       "    </tr>\n",
       "    <tr>\n",
       "      <th>14</th>\n",
       "      <td>Bring Her Back</td>\n",
       "      <td>7.2</td>\n",
       "    </tr>\n",
       "    <tr>\n",
       "      <th>15</th>\n",
       "      <td>The Fantastic Four: First Steps</td>\n",
       "      <td>7.3</td>\n",
       "    </tr>\n",
       "    <tr>\n",
       "      <th>16</th>\n",
       "      <td>The Shawshank Redemption</td>\n",
       "      <td>9.3</td>\n",
       "    </tr>\n",
       "    <tr>\n",
       "      <th>17</th>\n",
       "      <td>The Dark Knight</td>\n",
       "      <td>9.1</td>\n",
       "    </tr>\n",
       "    <tr>\n",
       "      <th>18</th>\n",
       "      <td>The Roses</td>\n",
       "      <td>7.0</td>\n",
       "    </tr>\n",
       "    <tr>\n",
       "      <th>19</th>\n",
       "      <td>Fight Club</td>\n",
       "      <td>8.8</td>\n",
       "    </tr>\n",
       "    <tr>\n",
       "      <th>20</th>\n",
       "      <td>Game of Thrones</td>\n",
       "      <td>9.2</td>\n",
       "    </tr>\n",
       "    <tr>\n",
       "      <th>21</th>\n",
       "      <td>Dexter</td>\n",
       "      <td>8.6</td>\n",
       "    </tr>\n",
       "    <tr>\n",
       "      <th>22</th>\n",
       "      <td>Inception</td>\n",
       "      <td>8.8</td>\n",
       "    </tr>\n",
       "    <tr>\n",
       "      <th>23</th>\n",
       "      <td>The Smashing Machine</td>\n",
       "      <td>8.8</td>\n",
       "    </tr>\n",
       "    <tr>\n",
       "      <th>24</th>\n",
       "      <td>Oppenheimer</td>\n",
       "      <td>8.3</td>\n",
       "    </tr>\n",
       "    <tr>\n",
       "      <th>25</th>\n",
       "      <td>Se7en</td>\n",
       "      <td>8.6</td>\n",
       "    </tr>\n",
       "    <tr>\n",
       "      <th>26</th>\n",
       "      <td>Forrest Gump</td>\n",
       "      <td>8.8</td>\n",
       "    </tr>\n",
       "    <tr>\n",
       "      <th>27</th>\n",
       "      <td>The Conjuring</td>\n",
       "      <td>7.5</td>\n",
       "    </tr>\n",
       "    <tr>\n",
       "      <th>28</th>\n",
       "      <td>Nobody</td>\n",
       "      <td>7.4</td>\n",
       "    </tr>\n",
       "    <tr>\n",
       "      <th>29</th>\n",
       "      <td>Stranger Things</td>\n",
       "      <td>8.6</td>\n",
       "    </tr>\n",
       "    <tr>\n",
       "      <th>30</th>\n",
       "      <td>Inglourious Basterds</td>\n",
       "      <td>8.4</td>\n",
       "    </tr>\n",
       "    <tr>\n",
       "      <th>31</th>\n",
       "      <td>The Paper</td>\n",
       "      <td>7.1</td>\n",
       "    </tr>\n",
       "    <tr>\n",
       "      <th>32</th>\n",
       "      <td>Better Call Saul</td>\n",
       "      <td>9.0</td>\n",
       "    </tr>\n",
       "    <tr>\n",
       "      <th>33</th>\n",
       "      <td>Good Will Hunting</td>\n",
       "      <td>8.3</td>\n",
       "    </tr>\n",
       "    <tr>\n",
       "      <th>34</th>\n",
       "      <td>Parasite</td>\n",
       "      <td>8.5</td>\n",
       "    </tr>\n",
       "    <tr>\n",
       "      <th>35</th>\n",
       "      <td>Peacemaker</td>\n",
       "      <td>8.3</td>\n",
       "    </tr>\n",
       "    <tr>\n",
       "      <th>36</th>\n",
       "      <td>The Terminal List: Dark Wolf</td>\n",
       "      <td>7.9</td>\n",
       "    </tr>\n",
       "    <tr>\n",
       "      <th>37</th>\n",
       "      <td>The Life of Chuck</td>\n",
       "      <td>7.4</td>\n",
       "    </tr>\n",
       "    <tr>\n",
       "      <th>38</th>\n",
       "      <td>MobLand</td>\n",
       "      <td>8.4</td>\n",
       "    </tr>\n",
       "    <tr>\n",
       "      <th>39</th>\n",
       "      <td>Heretic</td>\n",
       "      <td>7.0</td>\n",
       "    </tr>\n",
       "    <tr>\n",
       "      <th>40</th>\n",
       "      <td>The Wolf of Wall Street</td>\n",
       "      <td>8.2</td>\n",
       "    </tr>\n",
       "    <tr>\n",
       "      <th>41</th>\n",
       "      <td>Django Unchained</td>\n",
       "      <td>8.5</td>\n",
       "    </tr>\n",
       "    <tr>\n",
       "      <th>42</th>\n",
       "      <td>Pulp Fiction</td>\n",
       "      <td>8.8</td>\n",
       "    </tr>\n",
       "    <tr>\n",
       "      <th>43</th>\n",
       "      <td>The Godfather</td>\n",
       "      <td>9.2</td>\n",
       "    </tr>\n",
       "    <tr>\n",
       "      <th>44</th>\n",
       "      <td>Dept. Q</td>\n",
       "      <td>8.2</td>\n",
       "    </tr>\n",
       "    <tr>\n",
       "      <th>45</th>\n",
       "      <td>The Lord of the Rings: The Fellowship of the Ring</td>\n",
       "      <td>8.9</td>\n",
       "    </tr>\n",
       "    <tr>\n",
       "      <th>46</th>\n",
       "      <td>The Matrix</td>\n",
       "      <td>8.7</td>\n",
       "    </tr>\n",
       "    <tr>\n",
       "      <th>47</th>\n",
       "      <td>Untamed</td>\n",
       "      <td>7.2</td>\n",
       "    </tr>\n",
       "  </tbody>\n",
       "</table>\n",
       "</div>"
      ],
      "text/plain": [
       "                                       Names of Films  Stars of Films\n",
       "0                                             Weapons             7.7\n",
       "1                                Dexter: Resurrection             9.2\n",
       "2                                       F1: The Movie             7.8\n",
       "3                                            Superman             7.2\n",
       "4                                       Thunderbolts*             7.2\n",
       "5    Demon Slayer: Kimetsu no Yaiba - Infinity Castle             8.7\n",
       "6           Mission: Impossible - The Final Reckoning             7.3\n",
       "7                                        Alien: Earth             7.6\n",
       "8                                           Wednesday             8.0\n",
       "9                                             Sinners             7.6\n",
       "10                                 KPop Demon Hunters             7.6\n",
       "11                                    Caught Stealing             7.3\n",
       "12                                       Breaking Bad             9.5\n",
       "13                                       Interstellar             8.7\n",
       "14                                     Bring Her Back             7.2\n",
       "15                    The Fantastic Four: First Steps             7.3\n",
       "16                           The Shawshank Redemption             9.3\n",
       "17                                    The Dark Knight             9.1\n",
       "18                                          The Roses             7.0\n",
       "19                                         Fight Club             8.8\n",
       "20                                    Game of Thrones             9.2\n",
       "21                                             Dexter             8.6\n",
       "22                                          Inception             8.8\n",
       "23                               The Smashing Machine             8.8\n",
       "24                                        Oppenheimer             8.3\n",
       "25                                              Se7en             8.6\n",
       "26                                       Forrest Gump             8.8\n",
       "27                                      The Conjuring             7.5\n",
       "28                                             Nobody             7.4\n",
       "29                                    Stranger Things             8.6\n",
       "30                               Inglourious Basterds             8.4\n",
       "31                                          The Paper             7.1\n",
       "32                                   Better Call Saul             9.0\n",
       "33                                  Good Will Hunting             8.3\n",
       "34                                           Parasite             8.5\n",
       "35                                         Peacemaker             8.3\n",
       "36                       The Terminal List: Dark Wolf             7.9\n",
       "37                                  The Life of Chuck             7.4\n",
       "38                                            MobLand             8.4\n",
       "39                                            Heretic             7.0\n",
       "40                            The Wolf of Wall Street             8.2\n",
       "41                                   Django Unchained             8.5\n",
       "42                                       Pulp Fiction             8.8\n",
       "43                                      The Godfather             9.2\n",
       "44                                            Dept. Q             8.2\n",
       "45  The Lord of the Rings: The Fellowship of the Ring             8.9\n",
       "46                                         The Matrix             8.7\n",
       "47                                            Untamed             7.2"
      ]
     },
     "execution_count": 46,
     "metadata": {},
     "output_type": "execute_result"
    }
   ],
   "source": [
    "df_fan_fav"
   ]
  },
  {
   "cell_type": "code",
   "execution_count": null,
   "id": "33676995",
   "metadata": {},
   "outputs": [
    {
     "data": {
      "application/vnd.microsoft.datawrangler.viewer.v0+json": {
       "columns": [
        {
         "name": "index",
         "rawType": "int64",
         "type": "integer"
        },
        {
         "name": "Names of Films",
         "rawType": "object",
         "type": "string"
        },
        {
         "name": "Stars of Films",
         "rawType": "Float64",
         "type": "float"
        }
       ],
       "ref": "10dadecb-f0b7-43cf-8ae8-acd9cf46cddf",
       "rows": [
        [
         "12",
         "Breaking Bad",
         "9.5"
        ],
        [
         "16",
         "The Shawshank Redemption",
         "9.3"
        ],
        [
         "20",
         "Game of Thrones",
         "9.2"
        ],
        [
         "1",
         "Dexter: Resurrection",
         "9.2"
        ],
        [
         "43",
         "The Godfather",
         "9.2"
        ],
        [
         "17",
         "The Dark Knight",
         "9.1"
        ],
        [
         "32",
         "Better Call Saul",
         "9.0"
        ],
        [
         "45",
         "The Lord of the Rings: The Fellowship of the Ring",
         "8.9"
        ],
        [
         "19",
         "Fight Club",
         "8.8"
        ],
        [
         "23",
         "The Smashing Machine",
         "8.8"
        ],
        [
         "22",
         "Inception",
         "8.8"
        ],
        [
         "42",
         "Pulp Fiction",
         "8.8"
        ],
        [
         "26",
         "Forrest Gump",
         "8.8"
        ],
        [
         "46",
         "The Matrix",
         "8.7"
        ],
        [
         "13",
         "Interstellar",
         "8.7"
        ],
        [
         "5",
         "Demon Slayer: Kimetsu no Yaiba - Infinity Castle",
         "8.7"
        ],
        [
         "29",
         "Stranger Things",
         "8.6"
        ],
        [
         "25",
         "Se7en",
         "8.6"
        ],
        [
         "21",
         "Dexter",
         "8.6"
        ],
        [
         "34",
         "Parasite",
         "8.5"
        ],
        [
         "41",
         "Django Unchained",
         "8.5"
        ],
        [
         "30",
         "Inglourious Basterds",
         "8.4"
        ],
        [
         "38",
         "MobLand",
         "8.4"
        ],
        [
         "33",
         "Good Will Hunting",
         "8.3"
        ],
        [
         "24",
         "Oppenheimer",
         "8.3"
        ],
        [
         "35",
         "Peacemaker",
         "8.3"
        ],
        [
         "44",
         "Dept. Q",
         "8.2"
        ],
        [
         "40",
         "The Wolf of Wall Street",
         "8.2"
        ],
        [
         "8",
         "Wednesday",
         "8.0"
        ],
        [
         "36",
         "The Terminal List: Dark Wolf",
         "7.9"
        ],
        [
         "2",
         "F1: The Movie",
         "7.8"
        ],
        [
         "0",
         "Weapons",
         "7.7"
        ],
        [
         "7",
         "Alien: Earth",
         "7.6"
        ],
        [
         "10",
         "KPop Demon Hunters",
         "7.6"
        ],
        [
         "9",
         "Sinners",
         "7.6"
        ],
        [
         "27",
         "The Conjuring",
         "7.5"
        ],
        [
         "28",
         "Nobody",
         "7.4"
        ],
        [
         "37",
         "The Life of Chuck",
         "7.4"
        ],
        [
         "11",
         "Caught Stealing",
         "7.3"
        ],
        [
         "6",
         "Mission: Impossible - The Final Reckoning",
         "7.3"
        ],
        [
         "15",
         "The Fantastic Four: First Steps",
         "7.3"
        ],
        [
         "14",
         "Bring Her Back",
         "7.2"
        ],
        [
         "3",
         "Superman",
         "7.2"
        ],
        [
         "4",
         "Thunderbolts*",
         "7.2"
        ],
        [
         "47",
         "Untamed",
         "7.2"
        ],
        [
         "31",
         "The Paper",
         "7.1"
        ],
        [
         "18",
         "The Roses",
         "7.0"
        ],
        [
         "39",
         "Heretic",
         "7.0"
        ]
       ],
       "shape": {
        "columns": 2,
        "rows": 48
       }
      },
      "text/html": [
       "<div>\n",
       "<style scoped>\n",
       "    .dataframe tbody tr th:only-of-type {\n",
       "        vertical-align: middle;\n",
       "    }\n",
       "\n",
       "    .dataframe tbody tr th {\n",
       "        vertical-align: top;\n",
       "    }\n",
       "\n",
       "    .dataframe thead th {\n",
       "        text-align: right;\n",
       "    }\n",
       "</style>\n",
       "<table border=\"1\" class=\"dataframe\">\n",
       "  <thead>\n",
       "    <tr style=\"text-align: right;\">\n",
       "      <th></th>\n",
       "      <th>Names of Films</th>\n",
       "      <th>Stars of Films</th>\n",
       "    </tr>\n",
       "  </thead>\n",
       "  <tbody>\n",
       "    <tr>\n",
       "      <th>12</th>\n",
       "      <td>Breaking Bad</td>\n",
       "      <td>9.5</td>\n",
       "    </tr>\n",
       "    <tr>\n",
       "      <th>16</th>\n",
       "      <td>The Shawshank Redemption</td>\n",
       "      <td>9.3</td>\n",
       "    </tr>\n",
       "    <tr>\n",
       "      <th>20</th>\n",
       "      <td>Game of Thrones</td>\n",
       "      <td>9.2</td>\n",
       "    </tr>\n",
       "    <tr>\n",
       "      <th>1</th>\n",
       "      <td>Dexter: Resurrection</td>\n",
       "      <td>9.2</td>\n",
       "    </tr>\n",
       "    <tr>\n",
       "      <th>43</th>\n",
       "      <td>The Godfather</td>\n",
       "      <td>9.2</td>\n",
       "    </tr>\n",
       "    <tr>\n",
       "      <th>17</th>\n",
       "      <td>The Dark Knight</td>\n",
       "      <td>9.1</td>\n",
       "    </tr>\n",
       "    <tr>\n",
       "      <th>32</th>\n",
       "      <td>Better Call Saul</td>\n",
       "      <td>9.0</td>\n",
       "    </tr>\n",
       "    <tr>\n",
       "      <th>45</th>\n",
       "      <td>The Lord of the Rings: The Fellowship of the Ring</td>\n",
       "      <td>8.9</td>\n",
       "    </tr>\n",
       "    <tr>\n",
       "      <th>19</th>\n",
       "      <td>Fight Club</td>\n",
       "      <td>8.8</td>\n",
       "    </tr>\n",
       "    <tr>\n",
       "      <th>23</th>\n",
       "      <td>The Smashing Machine</td>\n",
       "      <td>8.8</td>\n",
       "    </tr>\n",
       "    <tr>\n",
       "      <th>22</th>\n",
       "      <td>Inception</td>\n",
       "      <td>8.8</td>\n",
       "    </tr>\n",
       "    <tr>\n",
       "      <th>42</th>\n",
       "      <td>Pulp Fiction</td>\n",
       "      <td>8.8</td>\n",
       "    </tr>\n",
       "    <tr>\n",
       "      <th>26</th>\n",
       "      <td>Forrest Gump</td>\n",
       "      <td>8.8</td>\n",
       "    </tr>\n",
       "    <tr>\n",
       "      <th>46</th>\n",
       "      <td>The Matrix</td>\n",
       "      <td>8.7</td>\n",
       "    </tr>\n",
       "    <tr>\n",
       "      <th>13</th>\n",
       "      <td>Interstellar</td>\n",
       "      <td>8.7</td>\n",
       "    </tr>\n",
       "    <tr>\n",
       "      <th>5</th>\n",
       "      <td>Demon Slayer: Kimetsu no Yaiba - Infinity Castle</td>\n",
       "      <td>8.7</td>\n",
       "    </tr>\n",
       "    <tr>\n",
       "      <th>29</th>\n",
       "      <td>Stranger Things</td>\n",
       "      <td>8.6</td>\n",
       "    </tr>\n",
       "    <tr>\n",
       "      <th>25</th>\n",
       "      <td>Se7en</td>\n",
       "      <td>8.6</td>\n",
       "    </tr>\n",
       "    <tr>\n",
       "      <th>21</th>\n",
       "      <td>Dexter</td>\n",
       "      <td>8.6</td>\n",
       "    </tr>\n",
       "    <tr>\n",
       "      <th>34</th>\n",
       "      <td>Parasite</td>\n",
       "      <td>8.5</td>\n",
       "    </tr>\n",
       "    <tr>\n",
       "      <th>41</th>\n",
       "      <td>Django Unchained</td>\n",
       "      <td>8.5</td>\n",
       "    </tr>\n",
       "    <tr>\n",
       "      <th>30</th>\n",
       "      <td>Inglourious Basterds</td>\n",
       "      <td>8.4</td>\n",
       "    </tr>\n",
       "    <tr>\n",
       "      <th>38</th>\n",
       "      <td>MobLand</td>\n",
       "      <td>8.4</td>\n",
       "    </tr>\n",
       "    <tr>\n",
       "      <th>33</th>\n",
       "      <td>Good Will Hunting</td>\n",
       "      <td>8.3</td>\n",
       "    </tr>\n",
       "    <tr>\n",
       "      <th>24</th>\n",
       "      <td>Oppenheimer</td>\n",
       "      <td>8.3</td>\n",
       "    </tr>\n",
       "    <tr>\n",
       "      <th>35</th>\n",
       "      <td>Peacemaker</td>\n",
       "      <td>8.3</td>\n",
       "    </tr>\n",
       "    <tr>\n",
       "      <th>44</th>\n",
       "      <td>Dept. Q</td>\n",
       "      <td>8.2</td>\n",
       "    </tr>\n",
       "    <tr>\n",
       "      <th>40</th>\n",
       "      <td>The Wolf of Wall Street</td>\n",
       "      <td>8.2</td>\n",
       "    </tr>\n",
       "    <tr>\n",
       "      <th>8</th>\n",
       "      <td>Wednesday</td>\n",
       "      <td>8.0</td>\n",
       "    </tr>\n",
       "    <tr>\n",
       "      <th>36</th>\n",
       "      <td>The Terminal List: Dark Wolf</td>\n",
       "      <td>7.9</td>\n",
       "    </tr>\n",
       "    <tr>\n",
       "      <th>2</th>\n",
       "      <td>F1: The Movie</td>\n",
       "      <td>7.8</td>\n",
       "    </tr>\n",
       "    <tr>\n",
       "      <th>0</th>\n",
       "      <td>Weapons</td>\n",
       "      <td>7.7</td>\n",
       "    </tr>\n",
       "    <tr>\n",
       "      <th>7</th>\n",
       "      <td>Alien: Earth</td>\n",
       "      <td>7.6</td>\n",
       "    </tr>\n",
       "    <tr>\n",
       "      <th>10</th>\n",
       "      <td>KPop Demon Hunters</td>\n",
       "      <td>7.6</td>\n",
       "    </tr>\n",
       "    <tr>\n",
       "      <th>9</th>\n",
       "      <td>Sinners</td>\n",
       "      <td>7.6</td>\n",
       "    </tr>\n",
       "    <tr>\n",
       "      <th>27</th>\n",
       "      <td>The Conjuring</td>\n",
       "      <td>7.5</td>\n",
       "    </tr>\n",
       "    <tr>\n",
       "      <th>28</th>\n",
       "      <td>Nobody</td>\n",
       "      <td>7.4</td>\n",
       "    </tr>\n",
       "    <tr>\n",
       "      <th>37</th>\n",
       "      <td>The Life of Chuck</td>\n",
       "      <td>7.4</td>\n",
       "    </tr>\n",
       "    <tr>\n",
       "      <th>11</th>\n",
       "      <td>Caught Stealing</td>\n",
       "      <td>7.3</td>\n",
       "    </tr>\n",
       "    <tr>\n",
       "      <th>6</th>\n",
       "      <td>Mission: Impossible - The Final Reckoning</td>\n",
       "      <td>7.3</td>\n",
       "    </tr>\n",
       "    <tr>\n",
       "      <th>15</th>\n",
       "      <td>The Fantastic Four: First Steps</td>\n",
       "      <td>7.3</td>\n",
       "    </tr>\n",
       "    <tr>\n",
       "      <th>14</th>\n",
       "      <td>Bring Her Back</td>\n",
       "      <td>7.2</td>\n",
       "    </tr>\n",
       "    <tr>\n",
       "      <th>3</th>\n",
       "      <td>Superman</td>\n",
       "      <td>7.2</td>\n",
       "    </tr>\n",
       "    <tr>\n",
       "      <th>4</th>\n",
       "      <td>Thunderbolts*</td>\n",
       "      <td>7.2</td>\n",
       "    </tr>\n",
       "    <tr>\n",
       "      <th>47</th>\n",
       "      <td>Untamed</td>\n",
       "      <td>7.2</td>\n",
       "    </tr>\n",
       "    <tr>\n",
       "      <th>31</th>\n",
       "      <td>The Paper</td>\n",
       "      <td>7.1</td>\n",
       "    </tr>\n",
       "    <tr>\n",
       "      <th>18</th>\n",
       "      <td>The Roses</td>\n",
       "      <td>7.0</td>\n",
       "    </tr>\n",
       "    <tr>\n",
       "      <th>39</th>\n",
       "      <td>Heretic</td>\n",
       "      <td>7.0</td>\n",
       "    </tr>\n",
       "  </tbody>\n",
       "</table>\n",
       "</div>"
      ],
      "text/plain": [
       "                                       Names of Films  Stars of Films\n",
       "12                                       Breaking Bad             9.5\n",
       "16                           The Shawshank Redemption             9.3\n",
       "20                                    Game of Thrones             9.2\n",
       "1                                Dexter: Resurrection             9.2\n",
       "43                                      The Godfather             9.2\n",
       "17                                    The Dark Knight             9.1\n",
       "32                                   Better Call Saul             9.0\n",
       "45  The Lord of the Rings: The Fellowship of the Ring             8.9\n",
       "19                                         Fight Club             8.8\n",
       "23                               The Smashing Machine             8.8\n",
       "22                                          Inception             8.8\n",
       "42                                       Pulp Fiction             8.8\n",
       "26                                       Forrest Gump             8.8\n",
       "46                                         The Matrix             8.7\n",
       "13                                       Interstellar             8.7\n",
       "5    Demon Slayer: Kimetsu no Yaiba - Infinity Castle             8.7\n",
       "29                                    Stranger Things             8.6\n",
       "25                                              Se7en             8.6\n",
       "21                                             Dexter             8.6\n",
       "34                                           Parasite             8.5\n",
       "41                                   Django Unchained             8.5\n",
       "30                               Inglourious Basterds             8.4\n",
       "38                                            MobLand             8.4\n",
       "33                                  Good Will Hunting             8.3\n",
       "24                                        Oppenheimer             8.3\n",
       "35                                         Peacemaker             8.3\n",
       "44                                            Dept. Q             8.2\n",
       "40                            The Wolf of Wall Street             8.2\n",
       "8                                           Wednesday             8.0\n",
       "36                       The Terminal List: Dark Wolf             7.9\n",
       "2                                       F1: The Movie             7.8\n",
       "0                                             Weapons             7.7\n",
       "7                                        Alien: Earth             7.6\n",
       "10                                 KPop Demon Hunters             7.6\n",
       "9                                             Sinners             7.6\n",
       "27                                      The Conjuring             7.5\n",
       "28                                             Nobody             7.4\n",
       "37                                  The Life of Chuck             7.4\n",
       "11                                    Caught Stealing             7.3\n",
       "6           Mission: Impossible - The Final Reckoning             7.3\n",
       "15                    The Fantastic Four: First Steps             7.3\n",
       "14                                     Bring Her Back             7.2\n",
       "3                                            Superman             7.2\n",
       "4                                       Thunderbolts*             7.2\n",
       "47                                            Untamed             7.2\n",
       "31                                          The Paper             7.1\n",
       "18                                          The Roses             7.0\n",
       "39                                            Heretic             7.0"
      ]
     },
     "execution_count": 72,
     "metadata": {},
     "output_type": "execute_result"
    }
   ],
   "source": [
    "df_fan_fav= df_fan_fav.sort_values(by=\"Stars of Films\" , ascending =False)\n",
    "df_fan_fav"
   ]
  },
  {
   "cell_type": "code",
   "execution_count": null,
   "id": "52ef3351",
   "metadata": {},
   "outputs": [],
   "source": [
    "Fan_Favorites = df_fan_fav.to_csv(\"Fan_Favorites.csv\", index=False)\n",
    "Fan_Favorites"
   ]
  },
  {
   "cell_type": "code",
   "execution_count": null,
   "id": "f43fa3b1",
   "metadata": {},
   "outputs": [
    {
     "name": "stderr",
     "output_type": "stream",
     "text": [
      "C:\\Users\\FreeComp\\AppData\\Local\\Temp\\ipykernel_8724\\2523838069.py:7: UserWarning: pandas only supports SQLAlchemy connectable (engine/connection) or database string URI or sqlite3 DBAPI2 connection. Other DBAPI2 objects are not tested. Please consider using SQLAlchemy.\n",
      "  df5 = pd.read_sql(query, conn)\n"
     ]
    },
    {
     "data": {
      "application/vnd.microsoft.datawrangler.viewer.v0+json": {
       "columns": [
        {
         "name": "index",
         "rawType": "int64",
         "type": "integer"
        },
        {
         "name": "Names_of_Films",
         "rawType": "object",
         "type": "string"
        },
        {
         "name": "Stars_of_Films",
         "rawType": "float64",
         "type": "float"
        }
       ],
       "ref": "fb91ec0a-68cd-4728-9cc3-f7d553374553",
       "rows": [
        [
         "0",
         "Breaking Bad",
         "9.5"
        ],
        [
         "1",
         "The Shawshank Redemption",
         "9.300000190734863"
        ],
        [
         "2",
         "Game of Thrones",
         "9.199999809265137"
        ],
        [
         "3",
         "Dexter: Resurrection",
         "9.199999809265137"
        ],
        [
         "4",
         "The Godfather",
         "9.199999809265137"
        ],
        [
         "5",
         "The Dark Knight",
         "9.100000381469727"
        ],
        [
         "6",
         "Better Call Saul",
         "9.0"
        ],
        [
         "7",
         "The Lord of the Rings: The Fellowship of the Ring",
         "8.899999618530273"
        ],
        [
         "8",
         "Fight Club",
         "8.800000190734863"
        ],
        [
         "9",
         "The Smashing Machine",
         "8.800000190734863"
        ],
        [
         "10",
         "Inception",
         "8.800000190734863"
        ],
        [
         "11",
         "Pulp Fiction",
         "8.800000190734863"
        ],
        [
         "12",
         "Forrest Gump",
         "8.800000190734863"
        ],
        [
         "13",
         "The Matrix",
         "8.699999809265137"
        ],
        [
         "14",
         "Interstellar",
         "8.699999809265137"
        ],
        [
         "15",
         "Demon Slayer: Kimetsu no Yaiba - Infinity Castle",
         "8.699999809265137"
        ],
        [
         "16",
         "Stranger Things",
         "8.600000381469727"
        ],
        [
         "17",
         "Se7en",
         "8.600000381469727"
        ],
        [
         "18",
         "Dexter",
         "8.600000381469727"
        ],
        [
         "19",
         "Parasite",
         "8.5"
        ]
       ],
       "shape": {
        "columns": 2,
        "rows": 20
       }
      },
      "text/html": [
       "<div>\n",
       "<style scoped>\n",
       "    .dataframe tbody tr th:only-of-type {\n",
       "        vertical-align: middle;\n",
       "    }\n",
       "\n",
       "    .dataframe tbody tr th {\n",
       "        vertical-align: top;\n",
       "    }\n",
       "\n",
       "    .dataframe thead th {\n",
       "        text-align: right;\n",
       "    }\n",
       "</style>\n",
       "<table border=\"1\" class=\"dataframe\">\n",
       "  <thead>\n",
       "    <tr style=\"text-align: right;\">\n",
       "      <th></th>\n",
       "      <th>Names_of_Films</th>\n",
       "      <th>Stars_of_Films</th>\n",
       "    </tr>\n",
       "  </thead>\n",
       "  <tbody>\n",
       "    <tr>\n",
       "      <th>0</th>\n",
       "      <td>Breaking Bad</td>\n",
       "      <td>9.5</td>\n",
       "    </tr>\n",
       "    <tr>\n",
       "      <th>1</th>\n",
       "      <td>The Shawshank Redemption</td>\n",
       "      <td>9.3</td>\n",
       "    </tr>\n",
       "    <tr>\n",
       "      <th>2</th>\n",
       "      <td>Game of Thrones</td>\n",
       "      <td>9.2</td>\n",
       "    </tr>\n",
       "    <tr>\n",
       "      <th>3</th>\n",
       "      <td>Dexter: Resurrection</td>\n",
       "      <td>9.2</td>\n",
       "    </tr>\n",
       "    <tr>\n",
       "      <th>4</th>\n",
       "      <td>The Godfather</td>\n",
       "      <td>9.2</td>\n",
       "    </tr>\n",
       "    <tr>\n",
       "      <th>5</th>\n",
       "      <td>The Dark Knight</td>\n",
       "      <td>9.1</td>\n",
       "    </tr>\n",
       "    <tr>\n",
       "      <th>6</th>\n",
       "      <td>Better Call Saul</td>\n",
       "      <td>9.0</td>\n",
       "    </tr>\n",
       "    <tr>\n",
       "      <th>7</th>\n",
       "      <td>The Lord of the Rings: The Fellowship of the Ring</td>\n",
       "      <td>8.9</td>\n",
       "    </tr>\n",
       "    <tr>\n",
       "      <th>8</th>\n",
       "      <td>Fight Club</td>\n",
       "      <td>8.8</td>\n",
       "    </tr>\n",
       "    <tr>\n",
       "      <th>9</th>\n",
       "      <td>The Smashing Machine</td>\n",
       "      <td>8.8</td>\n",
       "    </tr>\n",
       "    <tr>\n",
       "      <th>10</th>\n",
       "      <td>Inception</td>\n",
       "      <td>8.8</td>\n",
       "    </tr>\n",
       "    <tr>\n",
       "      <th>11</th>\n",
       "      <td>Pulp Fiction</td>\n",
       "      <td>8.8</td>\n",
       "    </tr>\n",
       "    <tr>\n",
       "      <th>12</th>\n",
       "      <td>Forrest Gump</td>\n",
       "      <td>8.8</td>\n",
       "    </tr>\n",
       "    <tr>\n",
       "      <th>13</th>\n",
       "      <td>The Matrix</td>\n",
       "      <td>8.7</td>\n",
       "    </tr>\n",
       "    <tr>\n",
       "      <th>14</th>\n",
       "      <td>Interstellar</td>\n",
       "      <td>8.7</td>\n",
       "    </tr>\n",
       "    <tr>\n",
       "      <th>15</th>\n",
       "      <td>Demon Slayer: Kimetsu no Yaiba - Infinity Castle</td>\n",
       "      <td>8.7</td>\n",
       "    </tr>\n",
       "    <tr>\n",
       "      <th>16</th>\n",
       "      <td>Stranger Things</td>\n",
       "      <td>8.6</td>\n",
       "    </tr>\n",
       "    <tr>\n",
       "      <th>17</th>\n",
       "      <td>Se7en</td>\n",
       "      <td>8.6</td>\n",
       "    </tr>\n",
       "    <tr>\n",
       "      <th>18</th>\n",
       "      <td>Dexter</td>\n",
       "      <td>8.6</td>\n",
       "    </tr>\n",
       "    <tr>\n",
       "      <th>19</th>\n",
       "      <td>Parasite</td>\n",
       "      <td>8.5</td>\n",
       "    </tr>\n",
       "  </tbody>\n",
       "</table>\n",
       "</div>"
      ],
      "text/plain": [
       "                                       Names_of_Films  Stars_of_Films\n",
       "0                                        Breaking Bad             9.5\n",
       "1                            The Shawshank Redemption             9.3\n",
       "2                                     Game of Thrones             9.2\n",
       "3                                Dexter: Resurrection             9.2\n",
       "4                                       The Godfather             9.2\n",
       "5                                     The Dark Knight             9.1\n",
       "6                                    Better Call Saul             9.0\n",
       "7   The Lord of the Rings: The Fellowship of the Ring             8.9\n",
       "8                                          Fight Club             8.8\n",
       "9                                The Smashing Machine             8.8\n",
       "10                                          Inception             8.8\n",
       "11                                       Pulp Fiction             8.8\n",
       "12                                       Forrest Gump             8.8\n",
       "13                                         The Matrix             8.7\n",
       "14                                       Interstellar             8.7\n",
       "15   Demon Slayer: Kimetsu no Yaiba - Infinity Castle             8.7\n",
       "16                                    Stranger Things             8.6\n",
       "17                                              Se7en             8.6\n",
       "18                                             Dexter             8.6\n",
       "19                                           Parasite             8.5"
      ]
     },
     "execution_count": 77,
     "metadata": {},
     "output_type": "execute_result"
    }
   ],
   "source": [
    "query = \"\"\"\n",
    "SELECT Top 20 *\n",
    "FROM Fan_Favorites\n",
    "\n",
    "\"\"\"\n",
    "\n",
    "df5 = pd.read_sql(query, conn)\n",
    "df5"
   ]
  },
  {
   "cell_type": "code",
   "execution_count": null,
   "id": "8236a575",
   "metadata": {},
   "outputs": [
    {
     "name": "stderr",
     "output_type": "stream",
     "text": [
      "C:\\Users\\FreeComp\\AppData\\Local\\Temp\\ipykernel_8724\\3471088622.py:8: UserWarning: pandas only supports SQLAlchemy connectable (engine/connection) or database string URI or sqlite3 DBAPI2 connection. Other DBAPI2 objects are not tested. Please consider using SQLAlchemy.\n",
      "  df6 = pd.read_sql(query, conn)\n"
     ]
    },
    {
     "data": {
      "application/vnd.microsoft.datawrangler.viewer.v0+json": {
       "columns": [
        {
         "name": "index",
         "rawType": "int64",
         "type": "integer"
        },
        {
         "name": "",
         "rawType": "float64",
         "type": "float"
        }
       ],
       "ref": "e11e2f65-949d-46c7-a1c7-bfe4c3d2fb4a",
       "rows": [
        [
         "0",
         "8.181250005960464"
        ]
       ],
       "shape": {
        "columns": 1,
        "rows": 1
       }
      },
      "text/html": [
       "<div>\n",
       "<style scoped>\n",
       "    .dataframe tbody tr th:only-of-type {\n",
       "        vertical-align: middle;\n",
       "    }\n",
       "\n",
       "    .dataframe tbody tr th {\n",
       "        vertical-align: top;\n",
       "    }\n",
       "\n",
       "    .dataframe thead th {\n",
       "        text-align: right;\n",
       "    }\n",
       "</style>\n",
       "<table border=\"1\" class=\"dataframe\">\n",
       "  <thead>\n",
       "    <tr style=\"text-align: right;\">\n",
       "      <th></th>\n",
       "      <th></th>\n",
       "    </tr>\n",
       "  </thead>\n",
       "  <tbody>\n",
       "    <tr>\n",
       "      <th>0</th>\n",
       "      <td>8.18125</td>\n",
       "    </tr>\n",
       "  </tbody>\n",
       "</table>\n",
       "</div>"
      ],
      "text/plain": [
       "          \n",
       "0  8.18125"
      ]
     },
     "execution_count": 79,
     "metadata": {},
     "output_type": "execute_result"
    }
   ],
   "source": [
    "query =  \"\"\"\n",
    "SELECT AVG(Stars_of_Films)\n",
    "FROM\n",
    "Fan_Favorites\n",
    "\n",
    "\"\"\"\n",
    "\n",
    "df6 = pd.read_sql(query, conn)\n",
    "df6"
   ]
  },
  {
   "cell_type": "markdown",
   "id": "fdea312f",
   "metadata": {},
   "source": [
    "## avg of stars in fan favorite -->8,1\n"
   ]
  },
  {
   "cell_type": "code",
   "execution_count": null,
   "id": "b37ead5f",
   "metadata": {},
   "outputs": [
    {
     "data": {
      "image/png": "[encoded data removed]",
      "text/plain": [
       "<Figure size 640x480 with 1 Axes>"
      ]
     },
     "metadata": {},
     "output_type": "display_data"
    }
   ],
   "source": [
    "df5.plot(kind=\"bar\", x=\"Names_of_Films\", y=\"Stars_of_Films\", title=\"Top Films by Stars\")\n",
    "plt.xlabel(\"Film Name\")\n",
    "plt.ylabel(\"Stars\")\n",
    "plt.show()"
   ]
  },
  {
   "cell_type": "markdown",
   "id": "25c7c574",
   "metadata": {},
   "source": [
    "---\n"
   ]
  },
  {
   "cell_type": "markdown",
   "id": "e30c8d00",
   "metadata": {},
   "source": [
    "## Dataset From Kaggle\n"
   ]
  },
  {
   "cell_type": "code",
   "execution_count": null,
   "id": "8a58cd2e",
   "metadata": {},
   "outputs": [],
   "source": [
    "df_kaggle = pd.read_csv('imdb_top_1000.csv')"
   ]
  },
  {
   "cell_type": "code",
   "execution_count": null,
   "id": "d156878b",
   "metadata": {},
   "outputs": [
    {
     "data": {
      "application/vnd.microsoft.datawrangler.viewer.v0+json": {
       "columns": [
        {
         "name": "index",
         "rawType": "int64",
         "type": "integer"
        },
        {
         "name": "Poster_Link",
         "rawType": "object",
         "type": "string"
        },
        {
         "name": "Series_Title",
         "rawType": "object",
         "type": "string"
        },
        {
         "name": "Released_Year",
         "rawType": "object",
         "type": "string"
        },
        {
         "name": "Certificate",
         "rawType": "object",
         "type": "unknown"
        },
        {
         "name": "Runtime",
         "rawType": "object",
         "type": "string"
        },
        {
         "name": "Genre",
         "rawType": "object",
         "type": "string"
        },
        {
         "name": "IMDB_Rating",
         "rawType": "float64",
         "type": "float"
        },
        {
         "name": "Overview",
         "rawType": "object",
         "type": "string"
        },
        {
         "name": "Meta_score",
         "rawType": "float64",
         "type": "float"
        },
        {
         "name": "Director",
         "rawType": "object",
         "type": "string"
        },
        {
         "name": "Star1",
         "rawType": "object",
         "type": "string"
        },
        {
         "name": "Star2",
         "rawType": "object",
         "type": "string"
        },
        {
         "name": "Star3",
         "rawType": "object",
         "type": "string"
        },
        {
         "name": "Star4",
         "rawType": "object",
         "type": "string"
        },
        {
         "name": "No_of_Votes",
         "rawType": "int64",
         "type": "integer"
        },
        {
         "name": "Gross",
         "rawType": "object",
         "type": "unknown"
        }
       ],
       "ref": "74aa9d6a-4f65-44ab-8b75-f498c3d9435a",
       "rows": [
        [
         "0",
         "https://m.media-amazon.com/images/M/MV5BMDFkYTc0MGEtZmNhMC00ZDIzLWFmNTEtODM1ZmRlYWMwMWFmXkEyXkFqcGdeQXVyMTMxODk2OTU@._V1_UX67_CR0,0,67,98_AL_.jpg",
         "The Shawshank Redemption",
         "1994",
         "A",
         "142 min",
         "Drama",
         "9.3",
         "Two imprisoned men bond over a number of years, finding solace and eventual redemption through acts of common decency.",
         "80.0",
         "Frank Darabont",
         "Tim Robbins",
         "Morgan Freeman",
         "Bob Gunton",
         "William Sadler",
         "2343110",
         "28,341,469"
        ],
        [
         "1",
         "https://m.media-amazon.com/images/M/MV5BM2MyNjYxNmUtYTAwNi00MTYxLWJmNWYtYzZlODY3ZTk3OTFlXkEyXkFqcGdeQXVyNzkwMjQ5NzM@._V1_UY98_CR1,0,67,98_AL_.jpg",
         "The Godfather",
         "1972",
         "A",
         "175 min",
         "Crime, Drama",
         "9.2",
         "An organized crime dynasty's aging patriarch transfers control of his clandestine empire to his reluctant son.",
         "100.0",
         "Francis Ford Coppola",
         "Marlon Brando",
         "Al Pacino",
         "James Caan",
         "Diane Keaton",
         "1620367",
         "134,966,411"
        ],
        [
         "2",
         "https://m.media-amazon.com/images/M/MV5BMTMxNTMwODM0NF5BMl5BanBnXkFtZTcwODAyMTk2Mw@@._V1_UX67_CR0,0,67,98_AL_.jpg",
         "The Dark Knight",
         "2008",
         "UA",
         "152 min",
         "Action, Crime, Drama",
         "9.0",
         "When the menace known as the Joker wreaks havoc and chaos on the people of Gotham, Batman must accept one of the greatest psychological and physical tests of his ability to fight injustice.",
         "84.0",
         "Christopher Nolan",
         "Christian Bale",
         "Heath Ledger",
         "Aaron Eckhart",
         "Michael Caine",
         "2303232",
         "534,858,444"
        ],
        [
         "3",
         "https://m.media-amazon.com/images/M/MV5BMWMwMGQzZTItY2JlNC00OWZiLWIyMDctNDk2ZDQ2YjRjMWQ0XkEyXkFqcGdeQXVyNzkwMjQ5NzM@._V1_UY98_CR1,0,67,98_AL_.jpg",
         "The Godfather: Part II",
         "1974",
         "A",
         "202 min",
         "Crime, Drama",
         "9.0",
         "The early life and career of Vito Corleone in 1920s New York City is portrayed, while his son, Michael, expands and tightens his grip on the family crime syndicate.",
         "90.0",
         "Francis Ford Coppola",
         "Al Pacino",
         "Robert De Niro",
         "Robert Duvall",
         "Diane Keaton",
         "1129952",
         "57,300,000"
        ],
        [
         "4",
         "https://m.media-amazon.com/images/M/MV5BMWU4N2FjNzYtNTVkNC00NzQ0LTg0MjAtYTJlMjFhNGUxZDFmXkEyXkFqcGdeQXVyNjc1NTYyMjg@._V1_UX67_CR0,0,67,98_AL_.jpg",
         "12 Angry Men",
         "1957",
         "U",
         "96 min",
         "Crime, Drama",
         "9.0",
         "A jury holdout attempts to prevent a miscarriage of justice by forcing his colleagues to reconsider the evidence.",
         "96.0",
         "Sidney Lumet",
         "Henry Fonda",
         "Lee J. Cobb",
         "Martin Balsam",
         "John Fiedler",
         "689845",
         "4,360,000"
        ],
        [
         "5",
         "https://m.media-amazon.com/images/M/MV5BNzA5ZDNlZWMtM2NhNS00NDJjLTk4NDItYTRmY2EwMWZlMTY3XkEyXkFqcGdeQXVyNzkwMjQ5NzM@._V1_UX67_CR0,0,67,98_AL_.jpg",
         "The Lord of the Rings: The Return of the King",
         "2003",
         "U",
         "201 min",
         "Action, Adventure, Drama",
         "8.9",
         "Gandalf and Aragorn lead the World of Men against Sauron's army to draw his gaze from Frodo and Sam as they approach Mount Doom with the One Ring.",
         "94.0",
         "Peter Jackson",
         "Elijah Wood",
         "Viggo Mortensen",
         "Ian McKellen",
         "Orlando Bloom",
         "1642758",
         "377,845,905"
        ],
        [
         "6",
         "https://m.media-amazon.com/images/M/MV5BNGNhMDIzZTUtNTBlZi00MTRlLWFjM2ItYzViMjE3YzI5MjljXkEyXkFqcGdeQXVyNzkwMjQ5NzM@._V1_UY98_CR0,0,67,98_AL_.jpg",
         "Pulp Fiction",
         "1994",
         "A",
         "154 min",
         "Crime, Drama",
         "8.9",
         "The lives of two mob hitmen, a boxer, a gangster and his wife, and a pair of diner bandits intertwine in four tales of violence and redemption.",
         "94.0",
         "Quentin Tarantino",
         "John Travolta",
         "Uma Thurman",
         "Samuel L. Jackson",
         "Bruce Willis",
         "1826188",
         "107,928,762"
        ],
        [
         "7",
         "https://m.media-amazon.com/images/M/MV5BNDE4OTMxMTctNmRhYy00NWE2LTg3YzItYTk3M2UwOTU5Njg4XkEyXkFqcGdeQXVyNjU0OTQ0OTY@._V1_UX67_CR0,0,67,98_AL_.jpg",
         "Schindler's List",
         "1993",
         "A",
         "195 min",
         "Biography, Drama, History",
         "8.9",
         "In German-occupied Poland during World War II, industrialist Oskar Schindler gradually becomes concerned for his Jewish workforce after witnessing their persecution by the Nazis.",
         "94.0",
         "Steven Spielberg",
         "Liam Neeson",
         "Ralph Fiennes",
         "Ben Kingsley",
         "Caroline Goodall",
         "1213505",
         "96,898,818"
        ],
        [
         "8",
         "https://m.media-amazon.com/images/M/MV5BMjAxMzY3NjcxNF5BMl5BanBnXkFtZTcwNTI5OTM0Mw@@._V1_UX67_CR0,0,67,98_AL_.jpg",
         "Inception",
         "2010",
         "UA",
         "148 min",
         "Action, Adventure, Sci-Fi",
         "8.8",
         "A thief who steals corporate secrets through the use of dream-sharing technology is given the inverse task of planting an idea into the mind of a C.E.O.",
         "74.0",
         "Christopher Nolan",
         "Leonardo DiCaprio",
         "Joseph Gordon-Levitt",
         "Elliot Page",
         "Ken Watanabe",
         "2067042",
         "292,576,195"
        ],
        [
         "9",
         "https://m.media-amazon.com/images/M/MV5BMmEzNTkxYjQtZTc0MC00YTVjLTg5ZTEtZWMwOWVlYzY0NWIwXkEyXkFqcGdeQXVyNzkwMjQ5NzM@._V1_UX67_CR0,0,67,98_AL_.jpg",
         "Fight Club",
         "1999",
         "A",
         "139 min",
         "Drama",
         "8.8",
         "An insomniac office worker and a devil-may-care soapmaker form an underground fight club that evolves into something much, much more.",
         "66.0",
         "David Fincher",
         "Brad Pitt",
         "Edward Norton",
         "Meat Loaf",
         "Zach Grenier",
         "1854740",
         "37,030,102"
        ],
        [
         "10",
         "https://m.media-amazon.com/images/M/MV5BN2EyZjM3NzUtNWUzMi00MTgxLWI0NTctMzY4M2VlOTdjZWRiXkEyXkFqcGdeQXVyNDUzOTQ5MjY@._V1_UX67_CR0,0,67,98_AL_.jpg",
         "The Lord of the Rings: The Fellowship of the Ring",
         "2001",
         "U",
         "178 min",
         "Action, Adventure, Drama",
         "8.8",
         "A meek Hobbit from the Shire and eight companions set out on a journey to destroy the powerful One Ring and save Middle-earth from the Dark Lord Sauron.",
         "92.0",
         "Peter Jackson",
         "Elijah Wood",
         "Ian McKellen",
         "Orlando Bloom",
         "Sean Bean",
         "1661481",
         "315,544,750"
        ],
        [
         "11",
         "https://m.media-amazon.com/images/M/MV5BNWIwODRlZTUtY2U3ZS00Yzg1LWJhNzYtMmZiYmEyNmU1NjMzXkEyXkFqcGdeQXVyMTQxNzMzNDI@._V1_UY98_CR0,0,67,98_AL_.jpg",
         "Forrest Gump",
         "1994",
         "UA",
         "142 min",
         "Drama, Romance",
         "8.8",
         "The presidencies of Kennedy and Johnson, the events of Vietnam, Watergate and other historical events unfold through the perspective of an Alabama man with an IQ of 75, whose only desire is to be reunited with his childhood sweetheart.",
         "82.0",
         "Robert Zemeckis",
         "Tom Hanks",
         "Robin Wright",
         "Gary Sinise",
         "Sally Field",
         "1809221",
         "330,252,182"
        ],
        [
         "12",
         "https://m.media-amazon.com/images/M/MV5BOTQ5NDI3MTI4MF5BMl5BanBnXkFtZTgwNDQ4ODE5MDE@._V1_UX67_CR0,0,67,98_AL_.jpg",
         "Il buono, il brutto, il cattivo",
         "1966",
         "A",
         "161 min",
         "Western",
         "8.8",
         "A bounty hunting scam joins two men in an uneasy alliance against a third in a race to find a fortune in gold buried in a remote cemetery.",
         "90.0",
         "Sergio Leone",
         "Clint Eastwood",
         "Eli Wallach",
         "Lee Van Cleef",
         "Aldo Giuffrè",
         "688390",
         "6,100,000"
        ],
        [
         "13",
         "https://m.media-amazon.com/images/M/MV5BZGMxZTdjZmYtMmE2Ni00ZTdkLWI5NTgtNjlmMjBiNzU2MmI5XkEyXkFqcGdeQXVyNjU0OTQ0OTY@._V1_UX67_CR0,0,67,98_AL_.jpg",
         "The Lord of the Rings: The Two Towers",
         "2002",
         "UA",
         "179 min",
         "Action, Adventure, Drama",
         "8.7",
         "While Frodo and Sam edge closer to Mordor with the help of the shifty Gollum, the divided fellowship makes a stand against Sauron's new ally, Saruman, and his hordes of Isengard.",
         "87.0",
         "Peter Jackson",
         "Elijah Wood",
         "Ian McKellen",
         "Viggo Mortensen",
         "Orlando Bloom",
         "1485555",
         "342,551,365"
        ],
        [
         "14",
         "https://m.media-amazon.com/images/M/MV5BNzQzOTk3OTAtNDQ0Zi00ZTVkLWI0MTEtMDllZjNkYzNjNTc4L2ltYWdlXkEyXkFqcGdeQXVyNjU0OTQ0OTY@._V1_UX67_CR0,0,67,98_AL_.jpg",
         "The Matrix",
         "1999",
         "A",
         "136 min",
         "Action, Sci-Fi",
         "8.7",
         "When a beautiful stranger leads computer hacker Neo to a forbidding underworld, he discovers the shocking truth--the life he knows is the elaborate deception of an evil cyber-intelligence.",
         "73.0",
         "Lana Wachowski",
         "Lilly Wachowski",
         "Keanu Reeves",
         "Laurence Fishburne",
         "Carrie-Anne Moss",
         "1676426",
         "171,479,930"
        ],
        [
         "15",
         "https://m.media-amazon.com/images/M/MV5BY2NkZjEzMDgtN2RjYy00YzM1LWI4ZmQtMjIwYjFjNmI3ZGEwXkEyXkFqcGdeQXVyNzkwMjQ5NzM@._V1_UX67_CR0,0,67,98_AL_.jpg",
         "Goodfellas",
         "1990",
         "A",
         "146 min",
         "Biography, Crime, Drama",
         "8.7",
         "The story of Henry Hill and his life in the mob, covering his relationship with his wife Karen Hill and his mob partners Jimmy Conway and Tommy DeVito in the Italian-American crime syndicate.",
         "90.0",
         "Martin Scorsese",
         "Robert De Niro",
         "Ray Liotta",
         "Joe Pesci",
         "Lorraine Bracco",
         "1020727",
         "46,836,394"
        ],
        [
         "16",
         "https://m.media-amazon.com/images/M/MV5BYmU1NDRjNDgtMzhiMi00NjZmLTg5NGItZDNiZjU5NTU4OTE0XkEyXkFqcGdeQXVyNzkwMjQ5NzM@._V1_UX67_CR0,0,67,98_AL_.jpg",
         "Star Wars: Episode V - The Empire Strikes Back",
         "1980",
         "UA",
         "124 min",
         "Action, Adventure, Fantasy",
         "8.7",
         "After the Rebels are brutally overpowered by the Empire on the ice planet Hoth, Luke Skywalker begins Jedi training with Yoda, while his friends are pursued by Darth Vader and a bounty hunter named Boba Fett all over the galaxy.",
         "82.0",
         "Irvin Kershner",
         "Mark Hamill",
         "Harrison Ford",
         "Carrie Fisher",
         "Billy Dee Williams",
         "1159315",
         "290,475,067"
        ],
        [
         "17",
         "https://m.media-amazon.com/images/M/MV5BZjA0OWVhOTAtYWQxNi00YzNhLWI4ZjYtNjFjZTEyYjJlNDVlL2ltYWdlL2ltYWdlXkEyXkFqcGdeQXVyMTQxNzMzNDI@._V1_UX67_CR0,0,67,98_AL_.jpg",
         "One Flew Over the Cuckoo's Nest",
         "1975",
         "A",
         "133 min",
         "Drama",
         "8.7",
         "A criminal pleads insanity and is admitted to a mental institution, where he rebels against the oppressive nurse and rallies up the scared patients.",
         "83.0",
         "Milos Forman",
         "Jack Nicholson",
         "Louise Fletcher",
         "Michael Berryman",
         "Peter Brocco",
         "918088",
         "112,000,000"
        ],
        [
         "18",
         "https://m.media-amazon.com/images/M/MV5BNjViNWRjYWEtZTI0NC00N2E3LTk0NGQtMjY4NTM3OGNkZjY0XkEyXkFqcGdeQXVyMjUxMTY3ODM@._V1_UX67_CR0,0,67,98_AL_.jpg",
         "Hamilton",
         "2020",
         "PG-13",
         "160 min",
         "Biography, Drama, History",
         "8.6",
         "The real life of one of America's foremost founding fathers and first Secretary of the Treasury, Alexander Hamilton. Captured live on Broadway from the Richard Rodgers Theater with the original Broadway cast.",
         "90.0",
         "Thomas Kail",
         "Lin-Manuel Miranda",
         "Phillipa Soo",
         "Leslie Odom Jr.",
         "Renée Elise Goldsberry",
         "55291",
         null
        ],
        [
         "19",
         "https://m.media-amazon.com/images/M/MV5BYWZjMjk3ZTItODQ2ZC00NTY5LWE0ZDYtZTI3MjcwN2Q5NTVkXkEyXkFqcGdeQXVyODk4OTc3MTY@._V1_UX67_CR0,0,67,98_AL_.jpg",
         "Gisaengchung",
         "2019",
         "A",
         "132 min",
         "Comedy, Drama, Thriller",
         "8.6",
         "Greed and class discrimination threaten the newly formed symbiotic relationship between the wealthy Park family and the destitute Kim clan.",
         "96.0",
         "Bong Joon Ho",
         "Kang-ho Song",
         "Lee Sun-kyun",
         "Cho Yeo-jeong",
         "Choi Woo-sik",
         "552778",
         "53,367,844"
        ],
        [
         "20",
         "https://m.media-amazon.com/images/M/MV5BOTc2ZTlmYmItMDBhYS00YmMzLWI4ZjAtMTI5YTBjOTFiMGEwXkEyXkFqcGdeQXVyODE5NzE3OTE@._V1_UY98_CR0,0,67,98_AL_.jpg",
         "Soorarai Pottru",
         "2020",
         "U",
         "153 min",
         "Drama",
         "8.6",
         "Nedumaaran Rajangam \"Maara\" sets out to make the common man fly and in the process takes on the world's most capital intensive industry and several enemies who stand in his way.",
         null,
         "Sudha Kongara",
         "Suriya",
         "Madhavan",
         "Paresh Rawal",
         "Aparna Balamurali",
         "54995",
         null
        ],
        [
         "21",
         "https://m.media-amazon.com/images/M/MV5BZjdkOTU3MDktN2IxOS00OGEyLWFmMjktY2FiMmZkNWIyODZiXkEyXkFqcGdeQXVyMTMxODk2OTU@._V1_UX67_CR0,0,67,98_AL_.jpg",
         "Interstellar",
         "2014",
         "UA",
         "169 min",
         "Adventure, Drama, Sci-Fi",
         "8.6",
         "A team of explorers travel through a wormhole in space in an attempt to ensure humanity's survival.",
         "74.0",
         "Christopher Nolan",
         "Matthew McConaughey",
         "Anne Hathaway",
         "Jessica Chastain",
         "Mackenzie Foy",
         "1512360",
         "188,020,017"
        ],
        [
         "22",
         "https://m.media-amazon.com/images/M/MV5BOTMwYjc5ZmItYTFjZC00ZGQ3LTlkNTMtMjZiNTZlMWQzNzI5XkEyXkFqcGdeQXVyNzkwMjQ5NzM@._V1_UX67_CR0,0,67,98_AL_.jpg",
         "Cidade de Deus",
         "2002",
         "A",
         "130 min",
         "Crime, Drama",
         "8.6",
         "In the slums of Rio, two kids' paths diverge as one struggles to become a photographer and the other a kingpin.",
         "79.0",
         "Fernando Meirelles",
         "Kátia Lund",
         "Alexandre Rodrigues",
         "Leandro Firmino",
         "Matheus Nachtergaele",
         "699256",
         "7,563,397"
        ],
        [
         "23",
         "https://m.media-amazon.com/images/M/MV5BMjlmZmI5MDctNDE2YS00YWE0LWE5ZWItZDBhYWQ0NTcxNWRhXkEyXkFqcGdeQXVyMTMxODk2OTU@._V1_UX67_CR0,0,67,98_AL_.jpg",
         "Sen to Chihiro no kamikakushi",
         "2001",
         "U",
         "125 min",
         "Animation, Adventure, Family",
         "8.6",
         "During her family's move to the suburbs, a sullen 10-year-old girl wanders into a world ruled by gods, witches, and spirits, and where humans are changed into beasts.",
         "96.0",
         "Hayao Miyazaki",
         "Daveigh Chase",
         "Suzanne Pleshette",
         "Miyu Irino",
         "Rumi Hiiragi",
         "651376",
         "10,055,859"
        ],
        [
         "24",
         "https://m.media-amazon.com/images/M/MV5BZjhkMDM4MWItZTVjOC00ZDRhLThmYTAtM2I5NzBmNmNlMzI1XkEyXkFqcGdeQXVyNDYyMDk5MTU@._V1_UX67_CR0,0,67,98_AL_.jpg",
         "Saving Private Ryan",
         "1998",
         "R",
         "169 min",
         "Drama, War",
         "8.6",
         "Following the Normandy Landings, a group of U.S. soldiers go behind enemy lines to retrieve a paratrooper whose brothers have been killed in action.",
         "91.0",
         "Steven Spielberg",
         "Tom Hanks",
         "Matt Damon",
         "Tom Sizemore",
         "Edward Burns",
         "1235804",
         "216,540,909"
        ],
        [
         "25",
         "https://m.media-amazon.com/images/M/MV5BMTUxMzQyNjA5MF5BMl5BanBnXkFtZTYwOTU2NTY3._V1_UX67_CR0,0,67,98_AL_.jpg",
         "The Green Mile",
         "1999",
         "A",
         "189 min",
         "Crime, Drama, Fantasy",
         "8.6",
         "The lives of guards on Death Row are affected by one of their charges: a black man accused of child murder and rape, yet who has a mysterious gift.",
         "61.0",
         "Frank Darabont",
         "Tom Hanks",
         "Michael Clarke Duncan",
         "David Morse",
         "Bonnie Hunt",
         "1147794",
         "136,801,374"
        ],
        [
         "26",
         "https://m.media-amazon.com/images/M/MV5BYmJmM2Q4NmMtYThmNC00ZjRlLWEyZmItZTIwOTBlZDQ3NTQ1XkEyXkFqcGdeQXVyMTQxNzMzNDI@._V1_UX67_CR0,0,67,98_AL_.jpg",
         "La vita è bella",
         "1997",
         "U",
         "116 min",
         "Comedy, Drama, Romance",
         "8.6",
         "When an open-minded Jewish librarian and his son become victims of the Holocaust, he uses a perfect mixture of will, humor, and imagination to protect his son from the dangers around their camp.",
         "59.0",
         "Roberto Benigni",
         "Roberto Benigni",
         "Nicoletta Braschi",
         "Giorgio Cantarini",
         "Giustino Durano",
         "623629",
         "57,598,247"
        ],
        [
         "27",
         "https://m.media-amazon.com/images/M/MV5BOTUwODM5MTctZjczMi00OTk4LTg3NWUtNmVhMTAzNTNjYjcyXkEyXkFqcGdeQXVyNjU0OTQ0OTY@._V1_UX67_CR0,0,67,98_AL_.jpg",
         "Se7en",
         "1995",
         "A",
         "127 min",
         "Crime, Drama, Mystery",
         "8.6",
         "Two detectives, a rookie and a veteran, hunt a serial killer who uses the seven deadly sins as his motives.",
         "65.0",
         "David Fincher",
         "Morgan Freeman",
         "Brad Pitt",
         "Kevin Spacey",
         "Andrew Kevin Walker",
         "1445096",
         "100,125,643"
        ],
        [
         "28",
         "https://m.media-amazon.com/images/M/MV5BNjNhZTk0ZmEtNjJhMi00YzFlLWE1MmEtYzM1M2ZmMGMwMTU4XkEyXkFqcGdeQXVyNjU0OTQ0OTY@._V1_UX67_CR0,0,67,98_AL_.jpg",
         "The Silence of the Lambs",
         "1991",
         "A",
         "118 min",
         "Crime, Drama, Thriller",
         "8.6",
         "A young F.B.I. cadet must receive the help of an incarcerated and manipulative cannibal killer to help catch another serial killer, a madman who skins his victims.",
         "85.0",
         "Jonathan Demme",
         "Jodie Foster",
         "Anthony Hopkins",
         "Lawrence A. Bonney",
         "Kasi Lemmons",
         "1270197",
         "130,742,922"
        ],
        [
         "29",
         "https://m.media-amazon.com/images/M/MV5BNzVlY2MwMjktM2E4OS00Y2Y3LWE3ZjctYzhkZGM3YzA1ZWM2XkEyXkFqcGdeQXVyNzkwMjQ5NzM@._V1_UX67_CR0,0,67,98_AL_.jpg",
         "Star Wars",
         "1977",
         "UA",
         "121 min",
         "Action, Adventure, Fantasy",
         "8.6",
         "Luke Skywalker joins forces with a Jedi Knight, a cocky pilot, a Wookiee and two droids to save the galaxy from the Empire's world-destroying battle station, while also attempting to rescue Princess Leia from the mysterious Darth Vader.",
         "90.0",
         "George Lucas",
         "Mark Hamill",
         "Harrison Ford",
         "Carrie Fisher",
         "Alec Guinness",
         "1231473",
         "322,740,140"
        ],
        [
         "30",
         "https://m.media-amazon.com/images/M/MV5BYjBmYTQ1NjItZWU5MS00YjI0LTg2OTYtYmFkN2JkMmNiNWVkXkEyXkFqcGdeQXVyMTMxMTY0OTQ@._V1_UY98_CR2,0,67,98_AL_.jpg",
         "Seppuku",
         "1962",
         null,
         "133 min",
         "Action, Drama, Mystery",
         "8.6",
         "When a ronin requesting seppuku at a feudal lord's palace is told of the brutal suicide of another ronin who previously visited, he reveals how their pasts are intertwined - and in doing so challenges the clan's integrity.",
         "85.0",
         "Masaki Kobayashi",
         "Tatsuya Nakadai",
         "Akira Ishihama",
         "Shima Iwashita",
         "Tetsurô Tanba",
         "42004",
         null
        ],
        [
         "31",
         "https://m.media-amazon.com/images/M/MV5BOWE4ZDdhNmMtNzE5ZC00NzExLTlhNGMtY2ZhYjYzODEzODA1XkEyXkFqcGdeQXVyNTAyODkwOQ@@._V1_UY98_CR1,0,67,98_AL_.jpg",
         "Shichinin no samurai",
         "1954",
         "U",
         "207 min",
         "Action, Adventure, Drama",
         "8.6",
         "A poor village under attack by bandits recruits seven unemployed samurai to help them defend themselves.",
         "98.0",
         "Akira Kurosawa",
         "Toshirô Mifune",
         "Takashi Shimura",
         "Keiko Tsushima",
         "Yukiko Shimazaki",
         "315744",
         "269,061"
        ],
        [
         "32",
         "https://m.media-amazon.com/images/M/MV5BZjc4NDZhZWMtNGEzYS00ZWU2LThlM2ItNTA0YzQ0OTExMTE2XkEyXkFqcGdeQXVyNjUwMzI2NzU@._V1_UY98_CR0,0,67,98_AL_.jpg",
         "It's a Wonderful Life",
         "1946",
         "PG",
         "130 min",
         "Drama, Family, Fantasy",
         "8.6",
         "An angel is sent from Heaven to help a desperately frustrated businessman by showing him what life would have been like if he had never existed.",
         "89.0",
         "Frank Capra",
         "James Stewart",
         "Donna Reed",
         "Lionel Barrymore",
         "Thomas Mitchell",
         "405801",
         null
        ],
        [
         "33",
         "https://m.media-amazon.com/images/M/MV5BNGVjNWI4ZGUtNzE0MS00YTJmLWE0ZDctN2ZiYTk2YmI3NTYyXkEyXkFqcGdeQXVyMTkxNjUyNQ@@._V1_UX67_CR0,0,67,98_AL_.jpg",
         "Joker",
         "2019",
         "A",
         "122 min",
         "Crime, Drama, Thriller",
         "8.5",
         "In Gotham City, mentally troubled comedian Arthur Fleck is disregarded and mistreated by society. He then embarks on a downward spiral of revolution and bloody crime. This path brings him face-to-face with his alter-ego: the Joker.",
         "59.0",
         "Todd Phillips",
         "Joaquin Phoenix",
         "Robert De Niro",
         "Zazie Beetz",
         "Frances Conroy",
         "939252",
         "335,451,311"
        ],
        [
         "34",
         "https://m.media-amazon.com/images/M/MV5BOTA5NDZlZGUtMjAxOS00YTRkLTkwYmMtYWQ0NWEwZDZiNjEzXkEyXkFqcGdeQXVyMTMxODk2OTU@._V1_UX67_CR0,0,67,98_AL_.jpg",
         "Whiplash",
         "2014",
         "A",
         "106 min",
         "Drama, Music",
         "8.5",
         "A promising young drummer enrolls at a cut-throat music conservatory where his dreams of greatness are mentored by an instructor who will stop at nothing to realize a student's potential.",
         "88.0",
         "Damien Chazelle",
         "Miles Teller",
         "J.K. Simmons",
         "Melissa Benoist",
         "Paul Reiser",
         "717585",
         "13,092,000"
        ],
        [
         "35",
         "https://m.media-amazon.com/images/M/MV5BMTYxNDA3MDQwNl5BMl5BanBnXkFtZTcwNTU4Mzc1Nw@@._V1_UX67_CR0,0,67,98_AL_.jpg",
         "The Intouchables",
         "2011",
         "UA",
         "112 min",
         "Biography, Comedy, Drama",
         "8.5",
         "After he becomes a quadriplegic from a paragliding accident, an aristocrat hires a young man from the projects to be his caregiver.",
         "57.0",
         "Olivier Nakache",
         "Éric Toledano",
         "François Cluzet",
         "Omar Sy",
         "Anne Le Ny",
         "760360",
         "13,182,281"
        ],
        [
         "36",
         "https://m.media-amazon.com/images/M/MV5BMjA4NDI0MTIxNF5BMl5BanBnXkFtZTYwNTM0MzY2._V1_UX67_CR0,0,67,98_AL_.jpg",
         "The Prestige",
         "2006",
         "U",
         "130 min",
         "Drama, Mystery, Sci-Fi",
         "8.5",
         "After a tragic accident, two stage magicians engage in a battle to create the ultimate illusion while sacrificing everything they have to outwit each other.",
         "66.0",
         "Christopher Nolan",
         "Christian Bale",
         "Hugh Jackman",
         "Scarlett Johansson",
         "Michael Caine",
         "1190259",
         "53,089,891"
        ],
        [
         "37",
         "https://m.media-amazon.com/images/M/MV5BMTI1MTY2OTIxNV5BMl5BanBnXkFtZTYwNjQ4NjY3._V1_UX67_CR0,0,67,98_AL_.jpg",
         "The Departed",
         "2006",
         "A",
         "151 min",
         "Crime, Drama, Thriller",
         "8.5",
         "An undercover cop and a mole in the police attempt to identify each other while infiltrating an Irish gang in South Boston.",
         "85.0",
         "Martin Scorsese",
         "Leonardo DiCaprio",
         "Matt Damon",
         "Jack Nicholson",
         "Mark Wahlberg",
         "1189773",
         "132,384,315"
        ],
        [
         "38",
         "https://m.media-amazon.com/images/M/MV5BOWRiZDIxZjktMTA1NC00MDQ2LWEzMjUtMTliZmY3NjQ3ODJiXkEyXkFqcGdeQXVyNjU0OTQ0OTY@._V1_UY98_CR2,0,67,98_AL_.jpg",
         "The Pianist",
         "2002",
         "R",
         "150 min",
         "Biography, Drama, Music",
         "8.5",
         "A Polish Jewish musician struggles to survive the destruction of the Warsaw ghetto of World War II.",
         "85.0",
         "Roman Polanski",
         "Adrien Brody",
         "Thomas Kretschmann",
         "Frank Finlay",
         "Emilia Fox",
         "729603",
         "32,572,577"
        ],
        [
         "39",
         "https://m.media-amazon.com/images/M/MV5BMDliMmNhNDEtODUyOS00MjNlLTgxODEtN2U3NzIxMGVkZTA1L2ltYWdlXkEyXkFqcGdeQXVyNjU0OTQ0OTY@._V1_UX67_CR0,0,67,98_AL_.jpg",
         "Gladiator",
         "2000",
         "UA",
         "155 min",
         "Action, Adventure, Drama",
         "8.5",
         "A former Roman General sets out to exact vengeance against the corrupt emperor who murdered his family and sent him into slavery.",
         "67.0",
         "Ridley Scott",
         "Russell Crowe",
         "Joaquin Phoenix",
         "Connie Nielsen",
         "Oliver Reed",
         "1341460",
         "187,705,427"
        ],
        [
         "40",
         "https://m.media-amazon.com/images/M/MV5BZjA0MTM4MTQtNzY5MC00NzY3LWI1ZTgtYzcxMjkyMzU4MDZiXkEyXkFqcGdeQXVyNDYyMDk5MTU@._V1_UX67_CR0,0,67,98_AL_.jpg",
         "American History X",
         "1998",
         "R",
         "119 min",
         "Drama",
         "8.5",
         "A former neo-nazi skinhead tries to prevent his younger brother from going down the same wrong path that he did.",
         "62.0",
         "Tony Kaye",
         "Edward Norton",
         "Edward Furlong",
         "Beverly D'Angelo",
         "Jennifer Lien",
         "1034705",
         "6,719,864"
        ],
        [
         "41",
         "https://m.media-amazon.com/images/M/MV5BYTViNjMyNmUtNDFkNC00ZDRlLThmMDUtZDU2YWE4NGI2ZjVmXkEyXkFqcGdeQXVyNjU0OTQ0OTY@._V1_UX67_CR0,0,67,98_AL_.jpg",
         "The Usual Suspects",
         "1995",
         "A",
         "106 min",
         "Crime, Mystery, Thriller",
         "8.5",
         "A sole survivor tells of the twisty events leading up to a horrific gun battle on a boat, which began when five criminals met at a seemingly random police lineup.",
         "77.0",
         "Bryan Singer",
         "Kevin Spacey",
         "Gabriel Byrne",
         "Chazz Palminteri",
         "Stephen Baldwin",
         "991208",
         "23,341,568"
        ],
        [
         "42",
         "https://m.media-amazon.com/images/M/MV5BODllNWE0MmEtYjUwZi00ZjY3LThmNmQtZjZlMjI2YTZjYmQ0XkEyXkFqcGdeQXVyNTc1NTQxODI@._V1_UX67_CR0,0,67,98_AL_.jpg",
         "Léon",
         "1994",
         "A",
         "110 min",
         "Action, Crime, Drama",
         "8.5",
         "Mathilda, a 12-year-old girl, is reluctantly taken in by Léon, a professional assassin, after her family is murdered. An unusual relationship forms as she becomes his protégée and learns the assassin's trade.",
         "64.0",
         "Luc Besson",
         "Jean Reno",
         "Gary Oldman",
         "Natalie Portman",
         "Danny Aiello",
         "1035236",
         "19,501,238"
        ],
        [
         "43",
         "https://m.media-amazon.com/images/M/MV5BYTYxNGMyZTYtMjE3MS00MzNjLWFjNmYtMDk3N2FmM2JiM2M1XkEyXkFqcGdeQXVyNjY5NDU4NzI@._V1_UX67_CR0,0,67,98_AL_.jpg",
         "The Lion King",
         "1994",
         "U",
         "88 min",
         "Animation, Adventure, Drama",
         "8.5",
         "Lion prince Simba and his father are targeted by his bitter uncle, who wants to ascend the throne himself.",
         "88.0",
         "Roger Allers",
         "Rob Minkoff",
         "Matthew Broderick",
         "Jeremy Irons",
         "James Earl Jones",
         "942045",
         "422,783,777"
        ],
        [
         "44",
         "https://m.media-amazon.com/images/M/MV5BMGU2NzRmZjUtOGUxYS00ZjdjLWEwZWItY2NlM2JhNjkxNTFmXkEyXkFqcGdeQXVyNjU0OTQ0OTY@._V1_UX67_CR0,0,67,98_AL_.jpg",
         "Terminator 2: Judgment Day",
         "1991",
         "U",
         "137 min",
         "Action, Sci-Fi",
         "8.5",
         "A cyborg, identical to the one who failed to kill Sarah Connor, must now protect her teenage son, John Connor, from a more advanced and powerful cyborg.",
         "75.0",
         "James Cameron",
         "Arnold Schwarzenegger",
         "Linda Hamilton",
         "Edward Furlong",
         "Robert Patrick",
         "995506",
         "204,843,350"
        ],
        [
         "45",
         "https://m.media-amazon.com/images/M/MV5BM2FhYjEyYmYtMDI1Yy00YTdlLWI2NWQtYmEzNzAxOGY1NjY2XkEyXkFqcGdeQXVyNTA3NTIyNDg@._V1_UX67_CR0,0,67,98_AL_.jpg",
         "Nuovo Cinema Paradiso",
         "1988",
         "U",
         "155 min",
         "Drama, Romance",
         "8.5",
         "A filmmaker recalls his childhood when falling in love with the pictures at the cinema of his home village and forms a deep friendship with the cinema's projectionist.",
         "80.0",
         "Giuseppe Tornatore",
         "Philippe Noiret",
         "Enzo Cannavale",
         "Antonella Attili",
         "Isa Danieli",
         "230763",
         "11,990,401"
        ],
        [
         "46",
         "https://m.media-amazon.com/images/M/MV5BZmY2NjUzNDQtNTgxNC00M2Q4LTljOWQtMjNjNDBjNWUxNmJlXkEyXkFqcGdeQXVyNTA4NzY1MzY@._V1_UX67_CR0,0,67,98_AL_.jpg",
         "Hotaru no haka",
         "1988",
         "U",
         "89 min",
         "Animation, Drama, War",
         "8.5",
         "A young boy and his little sister struggle to survive in Japan during World War II.",
         "94.0",
         "Isao Takahata",
         "Tsutomu Tatsumi",
         "Ayano Shiraishi",
         "Akemi Yamaguchi",
         "Yoshiko Shinohara",
         "235231",
         null
        ],
        [
         "47",
         "https://m.media-amazon.com/images/M/MV5BZmU0M2Y1OGUtZjIxNi00ZjBkLTg1MjgtOWIyNThiZWIwYjRiXkEyXkFqcGdeQXVyMTQxNzMzNDI@._V1_UX67_CR0,0,67,98_AL_.jpg",
         "Back to the Future",
         "1985",
         "U",
         "116 min",
         "Adventure, Comedy, Sci-Fi",
         "8.5",
         "Marty McFly, a 17-year-old high school student, is accidentally sent thirty years into the past in a time-traveling DeLorean invented by his close friend, the eccentric scientist Doc Brown.",
         "87.0",
         "Robert Zemeckis",
         "Michael J. Fox",
         "Christopher Lloyd",
         "Lea Thompson",
         "Crispin Glover",
         "1058081",
         "210,609,762"
        ],
        [
         "48",
         "https://m.media-amazon.com/images/M/MV5BZGI5MjBmYzYtMzJhZi00NGI1LTk3MzItYjBjMzcxM2U3MDdiXkEyXkFqcGdeQXVyNzkwMjQ5NzM@._V1_UX67_CR0,0,67,98_AL_.jpg",
         "Once Upon a Time in the West",
         "1968",
         "U",
         "165 min",
         "Western",
         "8.5",
         "A mysterious stranger with a harmonica joins forces with a notorious desperado to protect a beautiful widow from a ruthless assassin working for the railroad.",
         "80.0",
         "Sergio Leone",
         "Henry Fonda",
         "Charles Bronson",
         "Claudia Cardinale",
         "Jason Robards",
         "302844",
         "5,321,508"
        ],
        [
         "49",
         "https://m.media-amazon.com/images/M/MV5BNTQwNDM1YzItNDAxZC00NWY2LTk0M2UtNDIwNWI5OGUyNWUxXkEyXkFqcGdeQXVyNzkwMjQ5NzM@._V1_UX67_CR0,0,67,98_AL_.jpg",
         "Psycho",
         "1960",
         "A",
         "109 min",
         "Horror, Mystery, Thriller",
         "8.5",
         "A Phoenix secretary embezzles $40,000 from her employer's client, goes on the run, and checks into a remote motel run by a young man under the domination of his mother.",
         "97.0",
         "Alfred Hitchcock",
         "Anthony Perkins",
         "Janet Leigh",
         "Vera Miles",
         "John Gavin",
         "604211",
         "32,000,000"
        ]
       ],
       "shape": {
        "columns": 16,
        "rows": 1000
       }
      },
      "text/html": [
       "<div>\n",
       "<style scoped>\n",
       "    .dataframe tbody tr th:only-of-type {\n",
       "        vertical-align: middle;\n",
       "    }\n",
       "\n",
       "    .dataframe tbody tr th {\n",
       "        vertical-align: top;\n",
       "    }\n",
       "\n",
       "    .dataframe thead th {\n",
       "        text-align: right;\n",
       "    }\n",
       "</style>\n",
       "<table border=\"1\" class=\"dataframe\">\n",
       "  <thead>\n",
       "    <tr style=\"text-align: right;\">\n",
       "      <th></th>\n",
       "      <th>Poster_Link</th>\n",
       "      <th>Series_Title</th>\n",
       "      <th>Released_Year</th>\n",
       "      <th>Certificate</th>\n",
       "      <th>Runtime</th>\n",
       "      <th>Genre</th>\n",
       "      <th>IMDB_Rating</th>\n",
       "      <th>Overview</th>\n",
       "      <th>Meta_score</th>\n",
       "      <th>Director</th>\n",
       "      <th>Star1</th>\n",
       "      <th>Star2</th>\n",
       "      <th>Star3</th>\n",
       "      <th>Star4</th>\n",
       "      <th>No_of_Votes</th>\n",
       "      <th>Gross</th>\n",
       "    </tr>\n",
       "  </thead>\n",
       "  <tbody>\n",
       "    <tr>\n",
       "      <th>0</th>\n",
       "      <td>https://m.media-amazon.com/images/M/MV5BMDFkYT...</td>\n",
       "      <td>The Shawshank Redemption</td>\n",
       "      <td>1994</td>\n",
       "      <td>A</td>\n",
       "      <td>142 min</td>\n",
       "      <td>Drama</td>\n",
       "      <td>9.3</td>\n",
       "      <td>Two imprisoned men bond over a number of years...</td>\n",
       "      <td>80.0</td>\n",
       "      <td>Frank Darabont</td>\n",
       "      <td>Tim Robbins</td>\n",
       "      <td>Morgan Freeman</td>\n",
       "      <td>Bob Gunton</td>\n",
       "      <td>William Sadler</td>\n",
       "      <td>2343110</td>\n",
       "      <td>28,341,469</td>\n",
       "    </tr>\n",
       "    <tr>\n",
       "      <th>1</th>\n",
       "      <td>https://m.media-amazon.com/images/M/MV5BM2MyNj...</td>\n",
       "      <td>The Godfather</td>\n",
       "      <td>1972</td>\n",
       "      <td>A</td>\n",
       "      <td>175 min</td>\n",
       "      <td>Crime, Drama</td>\n",
       "      <td>9.2</td>\n",
       "      <td>An organized crime dynasty's aging patriarch t...</td>\n",
       "      <td>100.0</td>\n",
       "      <td>Francis Ford Coppola</td>\n",
       "      <td>Marlon Brando</td>\n",
       "      <td>Al Pacino</td>\n",
       "      <td>James Caan</td>\n",
       "      <td>Diane Keaton</td>\n",
       "      <td>1620367</td>\n",
       "      <td>134,966,411</td>\n",
       "    </tr>\n",
       "    <tr>\n",
       "      <th>2</th>\n",
       "      <td>https://m.media-amazon.com/images/M/MV5BMTMxNT...</td>\n",
       "      <td>The Dark Knight</td>\n",
       "      <td>2008</td>\n",
       "      <td>UA</td>\n",
       "      <td>152 min</td>\n",
       "      <td>Action, Crime, Drama</td>\n",
       "      <td>9.0</td>\n",
       "      <td>When the menace known as the Joker wreaks havo...</td>\n",
       "      <td>84.0</td>\n",
       "      <td>Christopher Nolan</td>\n",
       "      <td>Christian Bale</td>\n",
       "      <td>Heath Ledger</td>\n",
       "      <td>Aaron Eckhart</td>\n",
       "      <td>Michael Caine</td>\n",
       "      <td>2303232</td>\n",
       "      <td>534,858,444</td>\n",
       "    </tr>\n",
       "    <tr>\n",
       "      <th>3</th>\n",
       "      <td>https://m.media-amazon.com/images/M/MV5BMWMwMG...</td>\n",
       "      <td>The Godfather: Part II</td>\n",
       "      <td>1974</td>\n",
       "      <td>A</td>\n",
       "      <td>202 min</td>\n",
       "      <td>Crime, Drama</td>\n",
       "      <td>9.0</td>\n",
       "      <td>The early life and career of Vito Corleone in ...</td>\n",
       "      <td>90.0</td>\n",
       "      <td>Francis Ford Coppola</td>\n",
       "      <td>Al Pacino</td>\n",
       "      <td>Robert De Niro</td>\n",
       "      <td>Robert Duvall</td>\n",
       "      <td>Diane Keaton</td>\n",
       "      <td>1129952</td>\n",
       "      <td>57,300,000</td>\n",
       "    </tr>\n",
       "    <tr>\n",
       "      <th>4</th>\n",
       "      <td>https://m.media-amazon.com/images/M/MV5BMWU4N2...</td>\n",
       "      <td>12 Angry Men</td>\n",
       "      <td>1957</td>\n",
       "      <td>U</td>\n",
       "      <td>96 min</td>\n",
       "      <td>Crime, Drama</td>\n",
       "      <td>9.0</td>\n",
       "      <td>A jury holdout attempts to prevent a miscarria...</td>\n",
       "      <td>96.0</td>\n",
       "      <td>Sidney Lumet</td>\n",
       "      <td>Henry Fonda</td>\n",
       "      <td>Lee J. Cobb</td>\n",
       "      <td>Martin Balsam</td>\n",
       "      <td>John Fiedler</td>\n",
       "      <td>689845</td>\n",
       "      <td>4,360,000</td>\n",
       "    </tr>\n",
       "    <tr>\n",
       "      <th>...</th>\n",
       "      <td>...</td>\n",
       "      <td>...</td>\n",
       "      <td>...</td>\n",
       "      <td>...</td>\n",
       "      <td>...</td>\n",
       "      <td>...</td>\n",
       "      <td>...</td>\n",
       "      <td>...</td>\n",
       "      <td>...</td>\n",
       "      <td>...</td>\n",
       "      <td>...</td>\n",
       "      <td>...</td>\n",
       "      <td>...</td>\n",
       "      <td>...</td>\n",
       "      <td>...</td>\n",
       "      <td>...</td>\n",
       "    </tr>\n",
       "    <tr>\n",
       "      <th>995</th>\n",
       "      <td>https://m.media-amazon.com/images/M/MV5BNGEwMT...</td>\n",
       "      <td>Breakfast at Tiffany's</td>\n",
       "      <td>1961</td>\n",
       "      <td>A</td>\n",
       "      <td>115 min</td>\n",
       "      <td>Comedy, Drama, Romance</td>\n",
       "      <td>7.6</td>\n",
       "      <td>A young New York socialite becomes interested ...</td>\n",
       "      <td>76.0</td>\n",
       "      <td>Blake Edwards</td>\n",
       "      <td>Audrey Hepburn</td>\n",
       "      <td>George Peppard</td>\n",
       "      <td>Patricia Neal</td>\n",
       "      <td>Buddy Ebsen</td>\n",
       "      <td>166544</td>\n",
       "      <td>NaN</td>\n",
       "    </tr>\n",
       "    <tr>\n",
       "      <th>996</th>\n",
       "      <td>https://m.media-amazon.com/images/M/MV5BODk3Yj...</td>\n",
       "      <td>Giant</td>\n",
       "      <td>1956</td>\n",
       "      <td>G</td>\n",
       "      <td>201 min</td>\n",
       "      <td>Drama, Western</td>\n",
       "      <td>7.6</td>\n",
       "      <td>Sprawling epic covering the life of a Texas ca...</td>\n",
       "      <td>84.0</td>\n",
       "      <td>George Stevens</td>\n",
       "      <td>Elizabeth Taylor</td>\n",
       "      <td>Rock Hudson</td>\n",
       "      <td>James Dean</td>\n",
       "      <td>Carroll Baker</td>\n",
       "      <td>34075</td>\n",
       "      <td>NaN</td>\n",
       "    </tr>\n",
       "    <tr>\n",
       "      <th>997</th>\n",
       "      <td>https://m.media-amazon.com/images/M/MV5BM2U3Yz...</td>\n",
       "      <td>From Here to Eternity</td>\n",
       "      <td>1953</td>\n",
       "      <td>Passed</td>\n",
       "      <td>118 min</td>\n",
       "      <td>Drama, Romance, War</td>\n",
       "      <td>7.6</td>\n",
       "      <td>In Hawaii in 1941, a private is cruelly punish...</td>\n",
       "      <td>85.0</td>\n",
       "      <td>Fred Zinnemann</td>\n",
       "      <td>Burt Lancaster</td>\n",
       "      <td>Montgomery Clift</td>\n",
       "      <td>Deborah Kerr</td>\n",
       "      <td>Donna Reed</td>\n",
       "      <td>43374</td>\n",
       "      <td>30,500,000</td>\n",
       "    </tr>\n",
       "    <tr>\n",
       "      <th>998</th>\n",
       "      <td>https://m.media-amazon.com/images/M/MV5BZTBmMj...</td>\n",
       "      <td>Lifeboat</td>\n",
       "      <td>1944</td>\n",
       "      <td>NaN</td>\n",
       "      <td>97 min</td>\n",
       "      <td>Drama, War</td>\n",
       "      <td>7.6</td>\n",
       "      <td>Several survivors of a torpedoed merchant ship...</td>\n",
       "      <td>78.0</td>\n",
       "      <td>Alfred Hitchcock</td>\n",
       "      <td>Tallulah Bankhead</td>\n",
       "      <td>John Hodiak</td>\n",
       "      <td>Walter Slezak</td>\n",
       "      <td>William Bendix</td>\n",
       "      <td>26471</td>\n",
       "      <td>NaN</td>\n",
       "    </tr>\n",
       "    <tr>\n",
       "      <th>999</th>\n",
       "      <td>https://m.media-amazon.com/images/M/MV5BMTY5OD...</td>\n",
       "      <td>The 39 Steps</td>\n",
       "      <td>1935</td>\n",
       "      <td>NaN</td>\n",
       "      <td>86 min</td>\n",
       "      <td>Crime, Mystery, Thriller</td>\n",
       "      <td>7.6</td>\n",
       "      <td>A man in London tries to help a counter-espion...</td>\n",
       "      <td>93.0</td>\n",
       "      <td>Alfred Hitchcock</td>\n",
       "      <td>Robert Donat</td>\n",
       "      <td>Madeleine Carroll</td>\n",
       "      <td>Lucie Mannheim</td>\n",
       "      <td>Godfrey Tearle</td>\n",
       "      <td>51853</td>\n",
       "      <td>NaN</td>\n",
       "    </tr>\n",
       "  </tbody>\n",
       "</table>\n",
       "<p>1000 rows × 16 columns</p>\n",
       "</div>"
      ],
      "text/plain": [
       "                                           Poster_Link  \\\n",
       "0    https://m.media-amazon.com/images/M/MV5BMDFkYT...   \n",
       "1    https://m.media-amazon.com/images/M/MV5BM2MyNj...   \n",
       "2    https://m.media-amazon.com/images/M/MV5BMTMxNT...   \n",
       "3    https://m.media-amazon.com/images/M/MV5BMWMwMG...   \n",
       "4    https://m.media-amazon.com/images/M/MV5BMWU4N2...   \n",
       "..                                                 ...   \n",
       "995  https://m.media-amazon.com/images/M/MV5BNGEwMT...   \n",
       "996  https://m.media-amazon.com/images/M/MV5BODk3Yj...   \n",
       "997  https://m.media-amazon.com/images/M/MV5BM2U3Yz...   \n",
       "998  https://m.media-amazon.com/images/M/MV5BZTBmMj...   \n",
       "999  https://m.media-amazon.com/images/M/MV5BMTY5OD...   \n",
       "\n",
       "                 Series_Title Released_Year Certificate  Runtime  \\\n",
       "0    The Shawshank Redemption          1994           A  142 min   \n",
       "1               The Godfather          1972           A  175 min   \n",
       "2             The Dark Knight          2008          UA  152 min   \n",
       "3      The Godfather: Part II          1974           A  202 min   \n",
       "4                12 Angry Men          1957           U   96 min   \n",
       "..                        ...           ...         ...      ...   \n",
       "995    Breakfast at Tiffany's          1961           A  115 min   \n",
       "996                     Giant          1956           G  201 min   \n",
       "997     From Here to Eternity          1953      Passed  118 min   \n",
       "998                  Lifeboat          1944         NaN   97 min   \n",
       "999              The 39 Steps          1935         NaN   86 min   \n",
       "\n",
       "                        Genre  IMDB_Rating  \\\n",
       "0                       Drama          9.3   \n",
       "1                Crime, Drama          9.2   \n",
       "2        Action, Crime, Drama          9.0   \n",
       "3                Crime, Drama          9.0   \n",
       "4                Crime, Drama          9.0   \n",
       "..                        ...          ...   \n",
       "995    Comedy, Drama, Romance          7.6   \n",
       "996            Drama, Western          7.6   \n",
       "997       Drama, Romance, War          7.6   \n",
       "998                Drama, War          7.6   \n",
       "999  Crime, Mystery, Thriller          7.6   \n",
       "\n",
       "                                              Overview  Meta_score  \\\n",
       "0    Two imprisoned men bond over a number of years...        80.0   \n",
       "1    An organized crime dynasty's aging patriarch t...       100.0   \n",
       "2    When the menace known as the Joker wreaks havo...        84.0   \n",
       "3    The early life and career of Vito Corleone in ...        90.0   \n",
       "4    A jury holdout attempts to prevent a miscarria...        96.0   \n",
       "..                                                 ...         ...   \n",
       "995  A young New York socialite becomes interested ...        76.0   \n",
       "996  Sprawling epic covering the life of a Texas ca...        84.0   \n",
       "997  In Hawaii in 1941, a private is cruelly punish...        85.0   \n",
       "998  Several survivors of a torpedoed merchant ship...        78.0   \n",
       "999  A man in London tries to help a counter-espion...        93.0   \n",
       "\n",
       "                 Director              Star1              Star2  \\\n",
       "0          Frank Darabont        Tim Robbins     Morgan Freeman   \n",
       "1    Francis Ford Coppola      Marlon Brando          Al Pacino   \n",
       "2       Christopher Nolan     Christian Bale       Heath Ledger   \n",
       "3    Francis Ford Coppola          Al Pacino     Robert De Niro   \n",
       "4            Sidney Lumet        Henry Fonda        Lee J. Cobb   \n",
       "..                    ...                ...                ...   \n",
       "995         Blake Edwards     Audrey Hepburn     George Peppard   \n",
       "996        George Stevens   Elizabeth Taylor        Rock Hudson   \n",
       "997        Fred Zinnemann     Burt Lancaster   Montgomery Clift   \n",
       "998      Alfred Hitchcock  Tallulah Bankhead        John Hodiak   \n",
       "999      Alfred Hitchcock       Robert Donat  Madeleine Carroll   \n",
       "\n",
       "              Star3           Star4  No_of_Votes        Gross  \n",
       "0        Bob Gunton  William Sadler      2343110   28,341,469  \n",
       "1        James Caan    Diane Keaton      1620367  134,966,411  \n",
       "2     Aaron Eckhart   Michael Caine      2303232  534,858,444  \n",
       "3     Robert Duvall    Diane Keaton      1129952   57,300,000  \n",
       "4     Martin Balsam    John Fiedler       689845    4,360,000  \n",
       "..              ...             ...          ...          ...  \n",
       "995   Patricia Neal     Buddy Ebsen       166544          NaN  \n",
       "996      James Dean   Carroll Baker        34075          NaN  \n",
       "997    Deborah Kerr      Donna Reed        43374   30,500,000  \n",
       "998   Walter Slezak  William Bendix        26471          NaN  \n",
       "999  Lucie Mannheim  Godfrey Tearle        51853          NaN  \n",
       "\n",
       "[1000 rows x 16 columns]"
      ]
     },
     "execution_count": 96,
     "metadata": {},
     "output_type": "execute_result"
    }
   ],
   "source": [
    "df_kaggle"
   ]
  },
  {
   "cell_type": "code",
   "execution_count": null,
   "id": "82a9690e",
   "metadata": {},
   "outputs": [
    {
     "name": "stdout",
     "output_type": "stream",
     "text": [
      "<class 'pandas.core.frame.DataFrame'>\n",
      "RangeIndex: 1000 entries, 0 to 999\n",
      "Data columns (total 16 columns):\n",
      " #   Column         Non-Null Count  Dtype  \n",
      "---  ------         --------------  -----  \n",
      " 0   Poster_Link    1000 non-null   object \n",
      " 1   Series_Title   1000 non-null   object \n",
      " 2   Released_Year  1000 non-null   object \n",
      " 3   Certificate    899 non-null    object \n",
      " 4   Runtime        1000 non-null   object \n",
      " 5   Genre          1000 non-null   object \n",
      " 6   IMDB_Rating    1000 non-null   float64\n",
      " 7   Overview       1000 non-null   object \n",
      " 8   Meta_score     843 non-null    float64\n",
      " 9   Director       1000 non-null   object \n",
      " 10  Star1          1000 non-null   object \n",
      " 11  Star2          1000 non-null   object \n",
      " 12  Star3          1000 non-null   object \n",
      " 13  Star4          1000 non-null   object \n",
      " 14  No_of_Votes    1000 non-null   int64  \n",
      " 15  Gross          831 non-null    object \n",
      "dtypes: float64(2), int64(1), object(13)\n",
      "memory usage: 125.1+ KB\n"
     ]
    }
   ],
   "source": [
    "df_kaggle.info()"
   ]
  },
  {
   "cell_type": "markdown",
   "id": "636bcbb7",
   "metadata": {},
   "source": [
    "## hmmm🤔\n"
   ]
  },
  {
   "cell_type": "markdown",
   "id": "99f72252",
   "metadata": {},
   "source": [
    "- Runtime --> int\n",
    "- Released_Year --> date --> year --> int for calculations\n",
    "- Gross --> float\n"
   ]
  },
  {
   "cell_type": "markdown",
   "id": "129d6563",
   "metadata": {},
   "source": [
    "---\n"
   ]
  },
  {
   "cell_type": "code",
   "execution_count": null,
   "id": "f5b0bf54",
   "metadata": {},
   "outputs": [],
   "source": [
    "df_kaggle[\"Runtime\"] = df_kaggle[\"Runtime\"].str.replace(\"min\",\"\")\n",
    "df_kaggle[\"Runtime\"] = df_kaggle[\"Runtime\"].astype(\"int64\")"
   ]
  },
  {
   "cell_type": "code",
   "execution_count": null,
   "id": "03e2b05a",
   "metadata": {},
   "outputs": [],
   "source": [
    "df_kaggle[\"Released_Year\"] = pd.to_numeric(df_kaggle[\"Released_Year\"], errors='coerce')"
   ]
  },
  {
   "cell_type": "code",
   "execution_count": null,
   "id": "19038da5",
   "metadata": {},
   "outputs": [],
   "source": [
    "df_kaggle['Gross'] = df_kaggle['Gross'].str.replace('$', '', regex=False)\n",
    "df_kaggle['Gross'] = df_kaggle['Gross'].str.replace(',', '', regex=False)\n",
    "df_kaggle['Gross'] = pd.to_numeric(df_kaggle['Gross'])"
   ]
  },
  {
   "cell_type": "code",
   "execution_count": null,
   "id": "e54cc876",
   "metadata": {},
   "outputs": [
    {
     "name": "stdout",
     "output_type": "stream",
     "text": [
      "<class 'pandas.core.frame.DataFrame'>\n",
      "RangeIndex: 1000 entries, 0 to 999\n",
      "Data columns (total 16 columns):\n",
      " #   Column         Non-Null Count  Dtype  \n",
      "---  ------         --------------  -----  \n",
      " 0   Poster_Link    1000 non-null   object \n",
      " 1   Series_Title   1000 non-null   object \n",
      " 2   Released_Year  999 non-null    float64\n",
      " 3   Certificate    899 non-null    object \n",
      " 4   Runtime        1000 non-null   int64  \n",
      " 5   Genre          1000 non-null   object \n",
      " 6   IMDB_Rating    1000 non-null   float64\n",
      " 7   Overview       1000 non-null   object \n",
      " 8   Meta_score     843 non-null    float64\n",
      " 9   Director       1000 non-null   object \n",
      " 10  Star1          1000 non-null   object \n",
      " 11  Star2          1000 non-null   object \n",
      " 12  Star3          1000 non-null   object \n",
      " 13  Star4          1000 non-null   object \n",
      " 14  No_of_Votes    1000 non-null   int64  \n",
      " 15  Gross          831 non-null    float64\n",
      "dtypes: float64(4), int64(2), object(10)\n",
      "memory usage: 125.1+ KB\n"
     ]
    }
   ],
   "source": [
    "df_kaggle.info()"
   ]
  },
  {
   "cell_type": "code",
   "execution_count": null,
   "id": "f4494b2e",
   "metadata": {},
   "outputs": [],
   "source": [
    "kaggle_IMDB = df_kaggle.to_csv(\"kaggle_IMDB.csv\" , index= False)"
   ]
  },
  {
   "cell_type": "markdown",
   "id": "060908d9",
   "metadata": {},
   "source": [
    "---\n"
   ]
  },
  {
   "cell_type": "markdown",
   "id": "84f64678",
   "metadata": {},
   "source": [
    "## Insights\n"
   ]
  },
  {
   "cell_type": "code",
   "execution_count": 112,
   "id": "e98fac25",
   "metadata": {},
   "outputs": [
    {
     "name": "stderr",
     "output_type": "stream",
     "text": [
      "C:\\Users\\FreeComp\\AppData\\Local\\Temp\\ipykernel_20636\\3424937895.py:4: UserWarning: pandas only supports SQLAlchemy connectable (engine/connection) or database string URI or sqlite3 DBAPI2 connection. Other DBAPI2 objects are not tested. Please consider using SQLAlchemy.\n",
      "  df8 = pd.read_sql(query, conn)\n"
     ]
    },
    {
     "data": {
      "application/vnd.microsoft.datawrangler.viewer.v0+json": {
       "columns": [
        {
         "name": "index",
         "rawType": "int64",
         "type": "integer"
        },
        {
         "name": "Series_Title",
         "rawType": "object",
         "type": "string"
        },
        {
         "name": "Meta_score",
         "rawType": "float64",
         "type": "float"
        },
        {
         "name": "IMDB_Rating",
         "rawType": "float64",
         "type": "float"
        }
       ],
       "ref": "5ce2fedc-7cc7-417a-803a-198c7d237996",
       "rows": [
        [
         "0",
         "Rear Window",
         "100.0",
         "8.399999618530273"
        ],
        [
         "1",
         "The Godfather",
         "100.0",
         "9.199999809265137"
        ],
        [
         "2",
         "Casablanca",
         "100.0",
         "8.5"
        ],
        [
         "3",
         "City Lights",
         "99.0",
         "8.5"
        ],
        [
         "4",
         "Shichinin no samurai",
         "98.0",
         "8.600000381469727"
        ],
        [
         "5",
         "Dr. Strangelove or: How I Learned to Stop Worrying and Love the Bomb",
         "97.0",
         "8.399999618530273"
        ],
        [
         "6",
         "Psycho",
         "97.0",
         "8.5"
        ],
        [
         "7",
         "Sen to Chihiro no kamikakushi",
         "96.0",
         "8.600000381469727"
        ],
        [
         "8",
         "Gisaengchung",
         "96.0",
         "8.600000381469727"
        ],
        [
         "9",
         "12 Angry Men",
         "96.0",
         "9.0"
        ]
       ],
       "shape": {
        "columns": 3,
        "rows": 10
       }
      },
      "text/html": [
       "<div>\n",
       "<style scoped>\n",
       "    .dataframe tbody tr th:only-of-type {\n",
       "        vertical-align: middle;\n",
       "    }\n",
       "\n",
       "    .dataframe tbody tr th {\n",
       "        vertical-align: top;\n",
       "    }\n",
       "\n",
       "    .dataframe thead th {\n",
       "        text-align: right;\n",
       "    }\n",
       "</style>\n",
       "<table border=\"1\" class=\"dataframe\">\n",
       "  <thead>\n",
       "    <tr style=\"text-align: right;\">\n",
       "      <th></th>\n",
       "      <th>Series_Title</th>\n",
       "      <th>Meta_score</th>\n",
       "      <th>IMDB_Rating</th>\n",
       "    </tr>\n",
       "  </thead>\n",
       "  <tbody>\n",
       "    <tr>\n",
       "      <th>0</th>\n",
       "      <td>Rear Window</td>\n",
       "      <td>100.0</td>\n",
       "      <td>8.4</td>\n",
       "    </tr>\n",
       "    <tr>\n",
       "      <th>1</th>\n",
       "      <td>The Godfather</td>\n",
       "      <td>100.0</td>\n",
       "      <td>9.2</td>\n",
       "    </tr>\n",
       "    <tr>\n",
       "      <th>2</th>\n",
       "      <td>Casablanca</td>\n",
       "      <td>100.0</td>\n",
       "      <td>8.5</td>\n",
       "    </tr>\n",
       "    <tr>\n",
       "      <th>3</th>\n",
       "      <td>City Lights</td>\n",
       "      <td>99.0</td>\n",
       "      <td>8.5</td>\n",
       "    </tr>\n",
       "    <tr>\n",
       "      <th>4</th>\n",
       "      <td>Shichinin no samurai</td>\n",
       "      <td>98.0</td>\n",
       "      <td>8.6</td>\n",
       "    </tr>\n",
       "    <tr>\n",
       "      <th>5</th>\n",
       "      <td>Dr. Strangelove or: How I Learned to Stop Worr...</td>\n",
       "      <td>97.0</td>\n",
       "      <td>8.4</td>\n",
       "    </tr>\n",
       "    <tr>\n",
       "      <th>6</th>\n",
       "      <td>Psycho</td>\n",
       "      <td>97.0</td>\n",
       "      <td>8.5</td>\n",
       "    </tr>\n",
       "    <tr>\n",
       "      <th>7</th>\n",
       "      <td>Sen to Chihiro no kamikakushi</td>\n",
       "      <td>96.0</td>\n",
       "      <td>8.6</td>\n",
       "    </tr>\n",
       "    <tr>\n",
       "      <th>8</th>\n",
       "      <td>Gisaengchung</td>\n",
       "      <td>96.0</td>\n",
       "      <td>8.6</td>\n",
       "    </tr>\n",
       "    <tr>\n",
       "      <th>9</th>\n",
       "      <td>12 Angry Men</td>\n",
       "      <td>96.0</td>\n",
       "      <td>9.0</td>\n",
       "    </tr>\n",
       "  </tbody>\n",
       "</table>\n",
       "</div>"
      ],
      "text/plain": [
       "                                        Series_Title  Meta_score  IMDB_Rating\n",
       "0                                        Rear Window       100.0          8.4\n",
       "1                                      The Godfather       100.0          9.2\n",
       "2                                         Casablanca       100.0          8.5\n",
       "3                                        City Lights        99.0          8.5\n",
       "4                               Shichinin no samurai        98.0          8.6\n",
       "5  Dr. Strangelove or: How I Learned to Stop Worr...        97.0          8.4\n",
       "6                                             Psycho        97.0          8.5\n",
       "7                      Sen to Chihiro no kamikakushi        96.0          8.6\n",
       "8                                       Gisaengchung        96.0          8.6\n",
       "9                                       12 Angry Men        96.0          9.0"
      ]
     },
     "execution_count": 112,
     "metadata": {},
     "output_type": "execute_result"
    }
   ],
   "source": [
    "query =  \"\"\"\n",
    "SELECT * FROM TOP_TEN_BY_RATE_META5;\n",
    "\"\"\"\n",
    "df8 = pd.read_sql(query, conn)\n",
    "TOP_TEN_IN_RATE_META = df8.to_csv(\"TOP_TEN_IN_RATE_META.csv\" , index= False)\n",
    "df8"
   ]
  },
  {
   "cell_type": "code",
   "execution_count": 110,
   "id": "816811ea",
   "metadata": {},
   "outputs": [
    {
     "data": {
      "image/png": "[encoded data removed]",
      "text/plain": [
       "<Figure size 640x480 with 1 Axes>"
      ]
     },
     "metadata": {},
     "output_type": "display_data"
    }
   ],
   "source": [
    "plt.scatter(df8[\"Meta_score\"] , df8[\"IMDB_Rating\"] )\n",
    "plt.xlabel(\"Meta_score\")\n",
    "plt.ylabel(\"IMDB_Rating\")\n",
    "plt.show()"
   ]
  },
  {
   "cell_type": "markdown",
   "id": "ac0bb5af",
   "metadata": {},
   "source": [
    "The Godfather --> the best in meta and ranking\n"
   ]
  },
  {
   "cell_type": "markdown",
   "id": "fe8d6906",
   "metadata": {},
   "source": [
    "---\n"
   ]
  },
  {
   "cell_type": "markdown",
   "id": "b6fb0541",
   "metadata": {},
   "source": [
    "---\n"
   ]
  },
  {
   "cell_type": "markdown",
   "id": "abf5501a",
   "metadata": {},
   "source": [
    "**Rana Elmaghraby**\n",
    "\n",
    "## Key Findings & Insights\n",
    "\n",
    "- Using a combination of Python and SQL, a number of key insights were extracted. These findings help to understand what makes a film popular and successful, and they highlight interesting trends in the entertainment industry.\n",
    "\n",
    "- Top Films & Series: Analysis revealed the top films based on critic (Meta_score) and audience (IMDB_Rating) reception. The project successfully identified a list of the highest-rated films that were popular with both groups. Notably, \"The Godfather\" was found to be a prime example, achieving a perfect Meta_score of 100 and an exceptional IMDB_Rating of 9.2.\n",
    "\n",
    "- Celebrity & Crew Analysis: The year 2022 stood out as particularly prolific for celebrities, with 17 individuals achieving \"Top Celeb\" status. Additionally, the analysis identified the most popular professions (e.g., writer, sound, and actor) within the top-rated films.\n",
    "\n",
    "- Financial & Popularity Metrics: The average gross earnings for films in the dataset was approximately $68 million. The analysis also identified the top films by genre, sorted by both gross earnings and audience rating, revealing a clear distinction between what is financially successful and what is critically acclaimed.\n",
    "\n",
    "## Conclusion & Next Steps\n",
    "\n",
    "- This project successfully demonstrates the entire data pipeline, from raw data acquisition to extracting actionable insights. The results are now stored in a database, providing a solid foundation for future work.\n",
    "\n",
    "- Potential next steps include building an interactive dashboard to visualize these insights, or performing more advanced analyses like predicting a film's success based on its genre, director, and cast.\n"
   ]
  }
 ],
 "metadata": {
  "kernelspec": {
   "display_name": "Python 3",
   "language": "python",
   "name": "python3"
  },
  "language_info": {
   "codemirror_mode": {
    "name": "ipython",
    "version": 3
   },
   "file_extension": ".py",
   "mimetype": "text/x-python",
   "name": "python",
   "nbconvert_exporter": "python",
   "pygments_lexer": "ipython3",
   "version": "3.12.1"
  }
 },
 "nbformat": 4,
 "nbformat_minor": 5
}
